{
  "nbformat": 4,
  "nbformat_minor": 0,
  "metadata": {
    "colab": {
      "provenance": []
    },
    "kernelspec": {
      "name": "python3",
      "display_name": "Python 3"
    },
    "language_info": {
      "name": "python"
    }
  },
  "cells": [
    {
      "cell_type": "code",
      "source": [
        "import pandas as pd\n",
        "import numpy as np"
      ],
      "metadata": {
        "id": "uSe_kVgAgKVc"
      },
      "execution_count": 2,
      "outputs": []
    },
    {
      "cell_type": "markdown",
      "source": [
        "# **Performing an anti join**\n",
        "\n",
        "In our music streaming company dataset, each customer is assigned an employee representative to assist them. In this exercise, filter the `employee` table by a table of top customers, returning only those employees who are not assigned to a customer. The results should resemble the results of an anti join. The company's leadership will assign these employees additional training so that they can work with high valued customers.\n",
        "\n",
        "The `top_cust` and `employees` tables have been provided for you in the first few lines of the codecell given below.\n",
        "\n",
        "**Instructions:**\n",
        "* Merge `employees` and `top_cust` with a left join, setting `indicator` argument to `True`. Save the result to `empl_cust`.\n",
        "* Select the `srid` column of `empl_cust` and the rows where `_merge` is `'left_only'`. Save the result to `srid_list`.\n",
        "*Subset the `employees` table and select those rows where the `srid` is in the variable `srid_list` and print the results.\n"
      ],
      "metadata": {
        "id": "M3nXwLXGfQIy"
      }
    },
    {
      "cell_type": "code",
      "source": [
        "#Loading the top_cust and employees DataFrames from dataset files\n",
        "top_cust = pd.read_csv('https://github.com/DataAnalyst21/DatasetsForDataAnalytics/blob/main/top_cust.csv?raw=True')\n",
        "employees = pd.read_csv('https://github.com/DataAnalyst21/DatasetsForDataAnalytics/blob/main/employees.csv?raw=True')\n",
        "\n",
        "#Exploring the firt few rows of top_cust and employees\n",
        "print(top_cust.head())\n",
        "print(employees.head())\n",
        "\n",
        "# Merge employees and top_cust\n",
        "import pandas as pd\n",
        "\n",
        "# Assuming `employees` and `top_cust` DataFrames are already provided\n",
        "\n",
        "# Step 1: Perform a left join with the indicator argument set to True\n",
        "empl_cust = employees.merge(top_cust, on='srid', how='left', indicator=True)\n",
        "\n",
        "# Step 2: Select the `srid` column for rows where `_merge` is 'left_only'\n",
        "srid_list = empl_cust.loc[empl_cust['_merge'] == 'left_only', 'srid']\n",
        "\n",
        "# Step 3: Subset the `employees` table where `srid` is in `srid_list`\n",
        "result = employees[employees['srid'].isin(srid_list)]\n",
        "\n",
        "\n",
        "# Get employees not working with top customers\n",
        "print(employees[employees['srid'].isin(srid_list).isin])"
      ],
      "metadata": {
        "id": "u27rnc3TdMkv",
        "colab": {
          "base_uri": "https://localhost:8080/"
        },
        "outputId": "bfcdd75f-de67-45ec-afaf-0cfa231544ae"
      },
      "execution_count": 3,
      "outputs": [
        {
          "output_type": "stream",
          "name": "stdout",
          "text": [
            "   cid  srid      fname        lname               phone                 fax  \\\n",
            "0    1     3       Luís    Gonçalves  +55 (12) 3923-5555  +55 (12) 3923-5566   \n",
            "1    2     5     Leonie       Köhler    +49 0711 2842222                 NaN   \n",
            "2    3     3   François     Tremblay   +1 (514) 721-4711                 NaN   \n",
            "3    4     4      Bjørn       Hansen     +47 22 44 22 22                 NaN   \n",
            "4    5     4  František  Wichterlová    +420 2 4172 5555    +420 2 4172 5555   \n",
            "\n",
            "                      email  \n",
            "0      luisg@embraer.com.br  \n",
            "1     leonekohler@surfeu.de  \n",
            "2       ftremblay@gmail.com  \n",
            "3     bjorn.hansen@yahoo.no  \n",
            "4  frantisekw@jetbrains.com  \n",
            "   srid    lname     fname                title  hire_date  \\\n",
            "0     1    Adams    Andrew      General Manager 2002-08-14   \n",
            "1     2  Edwards        cy        Sales Manager 2002-05-01   \n",
            "2     3  Peacock      Jane  Sales Support Agent 2002-04-01   \n",
            "3     4     Park  Margaret  Sales Support Agent 2003-05-03   \n",
            "4     5  Johnson     Steve  Sales Support Agent 2003-10-17   \n",
            "\n",
            "                      email  \n",
            "0    andrew@chinookcorp.com  \n",
            "1        cy@chinookcorp.com  \n",
            "2      jane@chinookcorp.com  \n",
            "3  margaret@chinookcorp.com  \n",
            "4     steve@chinookcorp.com  \n",
            "Empty DataFrame\n",
            "Columns: [srid, lname, fname, title  hire_date, email]\n",
            "Index: []\n"
          ]
        }
      ]
    },
    {
      "cell_type": "markdown",
      "source": [
        "# **Performing a semi join**\n",
        "\n",
        "Some of the tracks that have generated the most significant amount of revenue are from TV-shows or are other non-musical audio. You have been given a table of invoices that include top revenue-generating items. Additionally, you have a table of non-musical tracks from the streaming service. In this exercise, you'll use a semi join to find the top revenue-generating non-musical tracks.\n",
        "\n",
        "The tables `non_mus_tcks`, `top_invoices`, and `genres` have been loaded for you in the first few lines of the codecell given below.\n",
        "\n",
        "**Instructions:**\n",
        "* Merge `non_mus_tcks` and `top_invoices` on `tid` using an inner join. Save the result as `tracks_invoices`.\n",
        "* Use `.isin()` to subset the rows of `non_mus_tcks` where `tid` is in the `tid` column of `tracks_invoices`. Save the result as `top_tracks`.\n",
        "* Group `top_tracks` by `gid` and count the `tid` rows. Save the result to `cnt_by_gid`.\n",
        "* Merge `cnt_by_gid` with the `genres` table on `gid` and print the result.\n"
      ],
      "metadata": {
        "id": "ElbM187yiDsm"
      }
    },
    {
      "cell_type": "code",
      "execution_count": 4,
      "metadata": {
        "id": "XEltIG4YdDaT",
        "colab": {
          "base_uri": "https://localhost:8080/"
        },
        "outputId": "dfece74a-941d-4cac-a816-73dcc1d477fa"
      },
      "outputs": [
        {
          "output_type": "stream",
          "name": "stdout",
          "text": [
            "    tid                    name  aid  mtid  gid  u_price\n",
            "0  2820  Occupation / Precipice  227     3   19     1.99\n",
            "1  2821           Exodus, Pt. 1  227     3   19     1.99\n",
            "2  2822           Exodus, Pt. 2  227     3   19     1.99\n",
            "3  2823           Collaborators  227     3   19     1.99\n",
            "4  2824                    Torn  227     3   19     1.99\n",
            "   ilid  iid   tid  uprice  quantity\n",
            "0   470   88  2832    1.99         1\n",
            "1   473   88  2850    1.99         1\n",
            "2   476   88  2868    1.99         1\n",
            "3   527   96  3214    1.99         1\n",
            "4   528   96  3223    1.99         1\n",
            "   gid                name\n",
            "0    1                Rock\n",
            "1    2                Jazz\n",
            "2    3               Metal\n",
            "3    4  Alternative & Punk\n",
            "4    5       Rock And Roll\n"
          ]
        }
      ],
      "source": [
        "#Loading non_mus_tcks, top_invoices, and genres DataFrames from dataset files\n",
        "non_mus_tcks = pd.read_csv('https://github.com/DataAnalyst21/DatasetsForDataAnalytics/blob/main/non_mus_tcks.csv?raw=True')\n",
        "top_invoices = pd.read_csv('https://github.com/DataAnalyst21/DatasetsForDataAnalytics/blob/main/top_invoices.csv?raw=True')\n",
        "genres = pd.read_csv('https://github.com/DataAnalyst21/DatasetsForDataAnalytics/blob/main/genres.csv?raw=True')\n",
        "\n",
        "#Exploring the firt few rows of non_mus_tcks, top_invoices, and genres\n",
        "print(non_mus_tcks.head())\n",
        "print(top_invoices.head())\n",
        "print(genres.head())\n",
        "\n",
        "\n",
        "\n",
        "# Step 1: Merge non_mus_tcks and top_invoices using an inner join\n",
        "tracks_invoices = non_mus_tcks.merge(top_invoices, on='tid', how='inner')\n",
        "\n",
        "# Step 2: Subset non_mus_tcks where tid is in tracks_invoices using .isin()\n",
        "top_tracks = non_mus_tcks[non_mus_tcks['tid'].isin(tracks_invoices['tid'])]\n",
        "\n",
        "# Step 3: Group top_tracks by gid and count the number of tid rows\n",
        "cnt_by_gid = top_tracks.groupby('gid')['tid'].count().reset_index(name='track_count')\n",
        "\n",
        "# Step 4: Merge cnt_by_gid with genres on gid\n",
        "result = cnt_by_gid.merge(genres, on='gid')\n",
        "\n"
      ]
    },
    {
      "cell_type": "markdown",
      "source": [
        "# **Concatenation basics**\n",
        "\n",
        "You have been given a few tables of data with musical track info for different albums from the metal band, Metallica. The track info comes from their Ride The Lightning, Master Of Puppets, and St. Anger albums. Try various features of the `.concat()` method by concatenating the tables vertically together in different ways.\n",
        "\n",
        "The tables `tracks_master`, `tracks_ride`, and `tracks_st` have loaded for you in the first few lines of code in the codecell given below.\n",
        "\n",
        "**Instructions:**\n",
        "\n",
        "1. Concatenate `tracks_master`, `tracks_ride`, and `tracks_st`, in that order, setting `sort` to `True`.\n",
        "\n",
        "2. Concatenate `tracks_master`, `tracks_ride`, and `tracks_st`, where the index goes from 0 to n-1.\n",
        "\n",
        "3. Concatenate `tracks_master`, `tracks_ride`, and `tracks_st`, showing only columns that are in all tables.\n"
      ],
      "metadata": {
        "id": "V0c42a-ioP69"
      }
    },
    {
      "cell_type": "code",
      "source": [
        "#Loading tracks_master, tracks_ride and tracks_st DataFrames from dataset files\n",
        "tracks_master = pd.read_csv('https://github.com/DataAnalyst21/DatasetsForDataAnalytics/blob/main/tracks_master.csv?raw=True')\n",
        "tracks_ride = pd.read_csv('https://github.com/DataAnalyst21/DatasetsForDataAnalytics/blob/main/tracks_ride.csv?raw=True')\n",
        "tracks_st = pd.read_csv('https://github.com/DataAnalyst21/DatasetsForDataAnalytics/blob/main/tracks_st.csv?raw=True')\n",
        "\n",
        "#Adding missing composer column to tracks_master\n",
        "composer = {'composer':['J.Hetfield/L.Ulrich','K.Hammett', 'J.Hetfield/L.Ulrich','K.Hammett', 'Elias Melka']}\n",
        "tracks_master['composer'] = composer['composer']\n",
        "\n",
        "#Exploring the firt few rows of tracks_master, tracks_ride, and tracks_st\n",
        "print(tracks_master.head())\n",
        "print(tracks_ride.head())\n",
        "print(tracks_st.head())\n",
        "\n",
        "tracks_from_albums = pd.concat([tracks_master, tracks_ride, tracks_st],\n",
        "                               sort=True)\n",
        "print(tracks_from_albums)\n",
        "\n",
        "# Concatenate the tracks so the index goes from 0 to n-1\n",
        "tracks_from_albums = pd.concat([tracks_master, tracks_ride, tracks_st],\n",
        "                               ignore_index=True,\n",
        "                               sort=True)\n",
        "print(tracks_from_albums)\n",
        "\n",
        "# Concatenate the tracks, show only columns names that are in all tables\n",
        "tracks_from_albums = pd.concat([tracks_master, tracks_ride, tracks_st],\n",
        "                               join='inner',\n",
        "                               sort=True)\n",
        "print(tracks_from_albums)\n",
        "\n",
        "\n",
        "\n"
      ],
      "metadata": {
        "id": "yj-HBOu4o7ho",
        "colab": {
          "base_uri": "https://localhost:8080/"
        },
        "outputId": "ee906ef4-f8dc-4da5-aba4-7391dab57fe9"
      },
      "execution_count": 5,
      "outputs": [
        {
          "output_type": "stream",
          "name": "stdout",
          "text": [
            "    tid                  name  aid  mtid  gid  u_price             composer\n",
            "0  1882               Frantic  155     1    3     0.99  J.Hetfield/L.Ulrich\n",
            "1  1883             St. Anger  155     1    3     0.99            K.Hammett\n",
            "2  1884  Some Kind Of Monster  155     1    3     0.99  J.Hetfield/L.Ulrich\n",
            "3  1885          Dirty Window  155     1    3     0.99            K.Hammett\n",
            "4  1886         Invisible Kid  155     1    3     0.90          Elias Melka\n",
            "    tid                     name  aid  mtid  gid  u_price\n",
            "0  1874     Fight Fire With Fire  154     1    3     0.99\n",
            "1  1875       Ride The Lightning  154     1    3     0.99\n",
            "2  1876  For Whom The Bell Tolls  154     1    3     0.99\n",
            "3  1877            Fade To Black  154     1    3     0.99\n",
            "4  1878        Trapped Under Ice  154     1    3     0.99\n",
            "    tid                  name  aid  mtid  gid  u_price\n",
            "0  1882               Frantic  155     1    3     0.99\n",
            "1  1883             St. Anger  155     1    3     0.99\n",
            "2  1884  Some Kind Of Monster  155     1    3     0.99\n",
            "3  1885          Dirty Window  155     1    3     0.99\n",
            "4  1886         Invisible Kid  155     1    3     0.99\n",
            "   aid             composer  gid  mtid                     name   tid  u_price\n",
            "0  155  J.Hetfield/L.Ulrich    3     1                  Frantic  1882     0.99\n",
            "1  155            K.Hammett    3     1                St. Anger  1883     0.99\n",
            "2  155  J.Hetfield/L.Ulrich    3     1     Some Kind Of Monster  1884     0.99\n",
            "3  155            K.Hammett    3     1             Dirty Window  1885     0.99\n",
            "4  155          Elias Melka    3     1            Invisible Kid  1886     0.90\n",
            "0  154                  NaN    3     1     Fight Fire With Fire  1874     0.99\n",
            "1  154                  NaN    3     1       Ride The Lightning  1875     0.99\n",
            "2  154                  NaN    3     1  For Whom The Bell Tolls  1876     0.99\n",
            "3  154                  NaN    3     1            Fade To Black  1877     0.99\n",
            "4  154                  NaN    3     1        Trapped Under Ice  1878     0.99\n",
            "0  155                  NaN    3     1                  Frantic  1882     0.99\n",
            "1  155                  NaN    3     1                St. Anger  1883     0.99\n",
            "2  155                  NaN    3     1     Some Kind Of Monster  1884     0.99\n",
            "3  155                  NaN    3     1             Dirty Window  1885     0.99\n",
            "4  155                  NaN    3     1            Invisible Kid  1886     0.99\n",
            "    aid             composer  gid  mtid                     name   tid  \\\n",
            "0   155  J.Hetfield/L.Ulrich    3     1                  Frantic  1882   \n",
            "1   155            K.Hammett    3     1                St. Anger  1883   \n",
            "2   155  J.Hetfield/L.Ulrich    3     1     Some Kind Of Monster  1884   \n",
            "3   155            K.Hammett    3     1             Dirty Window  1885   \n",
            "4   155          Elias Melka    3     1            Invisible Kid  1886   \n",
            "5   154                  NaN    3     1     Fight Fire With Fire  1874   \n",
            "6   154                  NaN    3     1       Ride The Lightning  1875   \n",
            "7   154                  NaN    3     1  For Whom The Bell Tolls  1876   \n",
            "8   154                  NaN    3     1            Fade To Black  1877   \n",
            "9   154                  NaN    3     1        Trapped Under Ice  1878   \n",
            "10  155                  NaN    3     1                  Frantic  1882   \n",
            "11  155                  NaN    3     1                St. Anger  1883   \n",
            "12  155                  NaN    3     1     Some Kind Of Monster  1884   \n",
            "13  155                  NaN    3     1             Dirty Window  1885   \n",
            "14  155                  NaN    3     1            Invisible Kid  1886   \n",
            "\n",
            "    u_price  \n",
            "0      0.99  \n",
            "1      0.99  \n",
            "2      0.99  \n",
            "3      0.99  \n",
            "4      0.90  \n",
            "5      0.99  \n",
            "6      0.99  \n",
            "7      0.99  \n",
            "8      0.99  \n",
            "9      0.99  \n",
            "10     0.99  \n",
            "11     0.99  \n",
            "12     0.99  \n",
            "13     0.99  \n",
            "14     0.99  \n",
            "   aid  gid  mtid                     name   tid  u_price\n",
            "0  155    3     1                  Frantic  1882     0.99\n",
            "1  155    3     1                St. Anger  1883     0.99\n",
            "2  155    3     1     Some Kind Of Monster  1884     0.99\n",
            "3  155    3     1             Dirty Window  1885     0.99\n",
            "4  155    3     1            Invisible Kid  1886     0.90\n",
            "0  154    3     1     Fight Fire With Fire  1874     0.99\n",
            "1  154    3     1       Ride The Lightning  1875     0.99\n",
            "2  154    3     1  For Whom The Bell Tolls  1876     0.99\n",
            "3  154    3     1            Fade To Black  1877     0.99\n",
            "4  154    3     1        Trapped Under Ice  1878     0.99\n",
            "0  155    3     1                  Frantic  1882     0.99\n",
            "1  155    3     1                St. Anger  1883     0.99\n",
            "2  155    3     1     Some Kind Of Monster  1884     0.99\n",
            "3  155    3     1             Dirty Window  1885     0.99\n",
            "4  155    3     1            Invisible Kid  1886     0.99\n"
          ]
        }
      ]
    },
    {
      "cell_type": "markdown",
      "source": [
        "# **Concatenating with keys**\n",
        "\n",
        "The leadership of the music streaming company has come to you and asked you for assistance in analyzing sales for a recent business quarter. They would like to know which month in the quarter saw the highest average invoice total. You have been given three tables with invoice data named `inv_jul`, `inv_aug`, and `inv_sep`. Concatenate these tables into one to create a graph of the average monthly invoice total.\n",
        "\n",
        "Tables `inv_jul`, `inv_aug`, and `inv_sep` are loaded for you in the first few lines of code in the codecell given below.\n",
        "\n",
        "**Instructions:**\n",
        "* Concatenate the three tables together vertically in order with the oldest month first, adding `'7Jul'`, `'8Aug'`, and `'9Sep'` as keys for their respective months, and save to `inv_jul_thr_sep`.\n",
        "* Use the `.agg()` method to find the average of the `total` column from the grouped invoices and assing it to `avg_inv_by_month`.\n",
        "* Create a bar chart of `avg_inv_by_month`.\n"
      ],
      "metadata": {
        "id": "wFELAnlpp5Vp"
      }
    },
    {
      "cell_type": "code",
      "source": [
        "import matplotlib.pyplot as plt\n",
        "\n",
        "#Loadig inv_jul, inv_aug and inv_sep from dataset files\n",
        "inv_jul = pd.read_csv('https://github.com/DataAnalyst21/DatasetsForDataAnalytics/blob/main/inv_jul.csv?raw=True')\n",
        "inv_aug = pd.read_csv('https://github.com/DataAnalyst21/DatasetsForDataAnalytics/blob/main/inv_aug.csv?raw=True')\n",
        "inv_sep = pd.read_csv('https://github.com/DataAnalyst21/DatasetsForDataAnalytics/blob/main/inv_sep.csv?raw=True')\n",
        "\n",
        "#Exploring the firt few rows of inv_jul, inv_aug, and inv_sep\n",
        "print(inv_jul.head())\n",
        "print(inv_aug.head())\n",
        "print(inv_sep.head())\n",
        "\n",
        "\n",
        "\n",
        "\n",
        "# Step 1: Concatenate the three tables with keys\n",
        "inv_jul_thr_sep = pd.concat([inv_jul, inv_aug, inv_sep],\n",
        "                            keys=['7Jul', '8Aug', '9Sep'])\n",
        "\n",
        "# Step 2: Group by the keys (month) and calculate the average total\n",
        "avg_inv_by_month = inv_jul_thr_sep.groupby(level=0)['total'].agg('mean')\n",
        "\n",
        "# Step 3: Create a bar chart of the average invoice totals\n",
        "avg_inv_by_month.plot(kind='bar', color='skyblue', edgecolor='black')\n",
        "plt.title('Average Monthly Invoice Total (July - September)')\n",
        "plt.ylabel('Average Invoice Total')\n",
        "plt.xlabel('Month')\n",
        "plt.xticks(rotation=0)  # Keep month labels horizontal\n",
        "plt.show()\n",
        "\n",
        "\n"
      ],
      "metadata": {
        "id": "UlxVE34ws2Ex",
        "colab": {
          "base_uri": "https://localhost:8080/",
          "height": 799
        },
        "outputId": "0fcae0f2-0ceb-4112-ef24-f26c572a11f5"
      },
      "execution_count": 9,
      "outputs": [
        {
          "output_type": "stream",
          "name": "stdout",
          "text": [
            "   iid  cid  invoice_date  total       bill_ctry\n",
            "0   42   51         40000   1.98          Sweden\n",
            "1   43   53         40000   1.98              UK\n",
            "2   44   55         40001   3.96       Australia\n",
            "3   45   59         40002   5.94           India\n",
            "4   46    6         40005   8.91  Czech Republic\n",
            "   iid  cid  invoice_date  total bill_ctry\n",
            "0   49   30         40031   1.98    Canada\n",
            "1   50   32         40031   1.98    Canada\n",
            "2   51   34         40032   3.96  Portugal\n",
            "3   52   38         40033   5.94   Germany\n",
            "4   53   44         40036   8.91   Finland\n",
            "   iid  cid  invoice_date  total bill_ctry\n",
            "0   56    9         40062   1.98   Denmark\n",
            "1   57   11         40062   1.98    Brazil\n",
            "2   58   13         40063   3.96    Brazil\n",
            "3   59   17         40064   5.94       USA\n",
            "4   60   23         40067   8.91       USA\n"
          ]
        },
        {
          "output_type": "display_data",
          "data": {
            "text/plain": [
              "<Figure size 640x480 with 1 Axes>"
            ],
            "image/png": "[encoded data removed]"
          },
          "metadata": {}
        }
      ]
    },
    {
      "cell_type": "markdown",
      "source": [
        "# **Concatenate and merge to find common songs**\n",
        "\n",
        "The senior leadership of the streaming service is requesting your help again. You are given the historical files for a popular playlist in the classical music genre in 2018 and 2019. Additionally, you are given a similar set of files for the most popular pop music genre playlist on the streaming service in 2018 and 2019. Your goal is to concatenate the respective files to make a large classical playlist table and overall popular music table. Then filter the classical music table using a semi join to return only the most popular classical music tracks.\n",
        "\n",
        "The tables `classic_18`, `classic_19`, and `pop_18`, `pop_19` have been loaded for you in the first few lines of code in the codecell given below.\n",
        "\n",
        "**Instructions:**\n",
        "* Concatenate the `classic_18` and `classic_19` tables vertically where the index goes from 0 to n-1, and save to `classic_18_19`.\n",
        "* Concatenate the `pop_18` and `pop_19` tables vertically where the index goes from 0 to n-1, and save to `pop_18_19`.\n",
        "* With `classic_18_19` on the left, merge it with `pop_18_19` on `tid` using an inner join and assing it to `classic_pop`.\n",
        "* Use `.isin()` to filter `classic_18_19` where `tid` is in `classic_pop`.\n",
        "\n"
      ],
      "metadata": {
        "id": "BafZIY0WwO4S"
      }
    },
    {
      "cell_type": "code",
      "source": [
        "#Loading classic_18, classic_19, and pop_18, pop_19 DataFrames from dataset files\n",
        "classic_18 = pd.read_csv('https://github.com/DataAnalyst21/DatasetsForDataAnalytics/blob/main/classic_18.csv?raw=True')\n",
        "classic_19 = pd.read_csv('https://github.com/DataAnalyst21/DatasetsForDataAnalytics/blob/main/classic_19.csv?raw=True')\n",
        "pop_18 = pd.read_csv('https://github.com/DataAnalyst21/DatasetsForDataAnalytics/blob/main/pop_18.csv?raw=True')\n",
        "pop_19 = pd.read_csv('https://github.com/DataAnalyst21/DatasetsForDataAnalytics/blob/main/pop_19.csv?raw=True')\n",
        "\n",
        "#Exploring the first few rows of each DataFrame using .head() method\n",
        "print(classic_18.head())\n",
        "print(classic_19.head())\n",
        "print(pop_18.head())\n",
        "print(pop_19.head())\n",
        "\n",
        "classic_18_19 = pd.concat([classic_18, classic_19], ignore_index=True)\n",
        "\n",
        "# Step 2: Concatenate pop_18 and pop_19 vertically\n",
        "pop_18_19 = pd.concat([pop_18, pop_19], ignore_index=True)\n",
        "\n",
        "# Step 3: Merge classic_18_19 with pop_18_19 on 'tid' using an inner join\n",
        "classic_pop = pd.merge(classic_18_19, pop_18_19, on='tid', how='inner', suffixes=('_classic', '_pop'))\n",
        "\n",
        "# Step 4: Filter classic_18_19 where 'tid' is in classic_pop\n",
        "popular_classic = classic_18_19[classic_18_19['tid'].isin(classic_pop['tid'])]\n",
        "\n",
        "\n",
        "# Print popular chart\n",
        "print(popular_classic)"
      ],
      "metadata": {
        "id": "DgBTO90hw25T",
        "colab": {
          "base_uri": "https://localhost:8080/"
        },
        "outputId": "e327a728-1ee9-411c-8bd1-15a4dc5c6fd6"
      },
      "execution_count": 11,
      "outputs": [
        {
          "output_type": "stream",
          "name": "stdout",
          "text": [
            "   pid   tid\n",
            "0   12  3483\n",
            "1   12  3416\n",
            "2   12  3489\n",
            "3   12  3479\n",
            "4   12  3440\n",
            "   pid   tid\n",
            "0   12  3482\n",
            "1   12  3434\n",
            "2   12  3448\n",
            "3   12  3499\n",
            "4   12  3425\n",
            "   pid   tid\n",
            "0    1  3063\n",
            "1    1  2712\n",
            "2    1  2641\n",
            "3    1  2271\n",
            "4    1   919\n",
            "   pid   tid\n",
            "0    1  2115\n",
            "1    1   297\n",
            "2    1   272\n",
            "3    1  3023\n",
            "4    1  1193\n",
            "    pid   tid\n",
            "3    12  3479\n",
            "10   12  3439\n",
            "21   12  3445\n",
            "23   12  3449\n",
            "48   12  3437\n",
            "50   12  3435\n"
          ]
        }
      ]
    }
  ]
}