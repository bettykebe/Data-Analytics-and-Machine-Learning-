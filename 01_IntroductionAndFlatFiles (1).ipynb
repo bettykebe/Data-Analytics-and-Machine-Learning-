{
  "nbformat": 4,
  "nbformat_minor": 0,
  "metadata": {
    "colab": {
      "provenance": []
    },
    "kernelspec": {
      "name": "python3",
      "display_name": "Python 3"
    },
    "language_info": {
      "name": "python"
    }
  },
  "cells": [
    {
      "cell_type": "code",
      "execution_count": 12,
      "metadata": {
        "id": "DFw-qaraYiak"
      },
      "outputs": [],
      "source": [
        "#Importing necessary libraries for this notebook\n",
        "import pandas as pd\n",
        "import numpy as np\n",
        "import matplotlib.pyplot as plt\n",
        "import seaborn as sns\n",
        "import warnings\n",
        "warnings.filterwarnings('ignore')"
      ]
    },
    {
      "cell_type": "markdown",
      "source": [
        "# **Importing entire text files**\n",
        "\n",
        "In this exercise, you'll be working with the file `moby_dick.txt`. It is a text file that contains the opening sentences of Moby Dick, one of the great American novels! In the class, you've seen you could open such a file using `file = open('moby_dick.txt', mode='r')`. You could then read from it with `file.read()` and close the file using `file.close()`. However, using context managers allows you to do this more effectively. In this exercise, you will gain experience opening a text file, printing its contents and, finally, closing it by using a context manager.\n",
        "\n",
        "**Instructions:**\n",
        "* Run the first codecell below before doing your tasks in the second codecell to create `moby_dick.txt` as local file in this colab environment.\n",
        "* Open the file `moby_dick.txt` as read-only using a with statement and bind it to the variable `file`. Make sure to pass the filename enclosed in quotation marks ''.\n",
        "* Print the contents of the file to the shell using the `print()` function. As you have seen in the class, you'll need to apply the method `.read()` to the object file and print the result.\n"
      ],
      "metadata": {
        "id": "d8BfNJLXY6TS"
      }
    },
    {
      "cell_type": "code",
      "source": [
        "\n",
        "#Run this codecell before doing your assignment in the following codecell\n",
        "import urllib.request as request\n",
        "\n",
        "link = \"https://github.com/DataAnalyst21/DatasetsForDataAnalytics/blob/main/moby_dick.txt?raw=True\"\n",
        "file1 = request.urlopen(link)\n",
        "content =  file1.read().decode(file1.headers.get_content_charset())\n",
        "with open('moby_dick.txt', 'w') as file2:\n",
        "  file2.write(content)\n",
        "file1.close()"
      ],
      "metadata": {
        "id": "M0cPxc77dIRr"
      },
      "execution_count": 2,
      "outputs": []
    },
    {
      "cell_type": "code",
      "source": [
        "# Open a file as read-only and bind it to file\n",
        "\n",
        "with open('moby_dick.txt', 'r') as file:\n",
        "    # Print it\n",
        "    print(file.read())\n",
        "\n"
      ],
      "metadata": {
        "id": "jrZD9dWpZm-A",
        "colab": {
          "base_uri": "https://localhost:8080/"
        },
        "outputId": "1e204e8e-acd8-4f35-a460-7522d0971a6f"
      },
      "execution_count": 3,
      "outputs": [
        {
          "output_type": "stream",
          "name": "stdout",
          "text": [
            "CHAPTER 1. Loomings.\n",
            "\n",
            "Call me Ishmael. Some years ago--never mind how long precisely--having\n",
            "little or no money in my purse, and nothing particular to interest me on\n",
            "shore, I thought I would sail about a little and see the watery part of\n",
            "the world. It is a way I have of driving off the spleen and regulating\n",
            "the circulation. Whenever I find myself growing grim about the mouth;\n",
            "whenever it is a damp, drizzly November in my soul; whenever I find\n",
            "myself involuntarily pausing before coffin warehouses, and bringing up\n",
            "the rear of every funeral I meet; and especially whenever my hypos get\n",
            "such an upper hand of me, that it requires a strong moral principle to\n",
            "prevent me from deliberately stepping into the street, and methodically\n",
            "knocking people's hats off--then, I account it high time to get to sea\n",
            "as soon as I can. This is my substitute for pistol and ball. With a\n",
            "philosophical flourish Cato throws himself upon his sword; I quietly\n",
            "take to the ship. There is nothing surprising in this. If they but knew\n",
            "it, almost all men in their degree, some time or other, cherish very\n",
            "nearly the same feelings towards the ocean with me.\n",
            "\n"
          ]
        }
      ]
    },
    {
      "cell_type": "code",
      "source": [
        "with open('moby_dick.txt', 'r') as file:\n",
        "    # Print the first three lines of the file\n",
        "    print(file.readline())\n",
        "    print(file.readline())\n",
        "    print(file.readline())\n"
      ],
      "metadata": {
        "id": "Hc_jwkagjK__",
        "colab": {
          "base_uri": "https://localhost:8080/"
        },
        "outputId": "90e28dee-5d34-468b-f5ee-565efd90d6ca"
      },
      "execution_count": 4,
      "outputs": [
        {
          "output_type": "stream",
          "name": "stdout",
          "text": [
            "CHAPTER 1. Loomings.\n",
            "\n",
            "\n",
            "\n",
            "Call me Ishmael. Some years ago--never mind how long precisely--having\n",
            "\n"
          ]
        }
      ]
    },
    {
      "cell_type": "markdown",
      "source": [
        "# **Importing text files line by line**\n",
        "\n",
        "For large files, we may not want to print all of their content to the output shell: you may wish to print only the first few lines. Enter the `.readline()` method, which allows you to do this. When a file called `file` is open, you can print out the first line by executing `file.readline()`. If you execute the same command again, the second line will print, and so on.\n",
        "\n",
        "In the class, we also introduced the concept of a context manager. It is shown that you can bind a variable file by using a context manager construct:\n",
        "\n",
        "`with open('huck_finn.txt') as file:`\n",
        "\n",
        "While still within this construct, the variable file will be bound to `open('huck_finn.txt')`; thus, to print the file to the shell, all the code you need to execute is:\n",
        "```\n",
        "with open('huck_finn.txt') as file:\n",
        "    print(file.readline())\n",
        "\n",
        "```\n",
        "\n",
        "You'll now use these tools to print the first few lines of `moby_dick.txt`!\n",
        "\n",
        "**Instructions:**\n",
        "* Open `moby_dick.txt` using the `with` context manager and the variable `file`.\n",
        "* Print the first three lines of the file to the shell by using `.readline()` three times within the context manager.\n"
      ],
      "metadata": {
        "id": "2lcmu1E6iScv"
      }
    },
    {
      "cell_type": "markdown",
      "source": [
        "# **What exactly are flat files?**\n",
        "\n",
        "Which of the following statements about flat files is incorrect?\n",
        "\n",
        "Select one answer from either 1, 2, 3 or 4 and print your choice number in the codecell below.\n",
        "\n",
        "1. Flat files consist of rows and each row is called a record.\n",
        "2. Flat files consist of multiple tables with structured relationships between the tables.\n",
        "3. A record in a flat file is composed of fields or attributes, each of which contains at most one item of information.\n",
        "4. Flat files are pervasive in data science."
      ],
      "metadata": {
        "id": "ZTju7MXtkPaK"
      }
    },
    {
      "cell_type": "code",
      "source": [
        "#Print either 1, 2, 3 or 4 as a choice of the answer for the question above\n",
        "print('2')"
      ],
      "metadata": {
        "id": "U5PJVbu4kqI0"
      },
      "execution_count": null,
      "outputs": []
    },
    {
      "cell_type": "markdown",
      "source": [
        "# **Why we like flat files and the Zen of Python**\n",
        "\n",
        "In PythonLand, there are currently hundreds of Python Enhancement Proposals, commonly referred to as PEPs. PEP8, for example, is a standard style guide for Python, written by our sensei Guido van Rossum himself. Another one of my favorites is PEP20, commonly called the Zen of Python. Its abstract is as follows:\n",
        "\n",
        "\n",
        "> Long time Pythoneer Tim Peters succinctly channels the BDFL's guiding principles for Python's design into 20 aphorisms, only 19 of which have been written down.\n",
        "\n",
        "If you don't know what the acronym BDFL stands for, I suggest that you look [here](https://docs.python.org/3.3/glossary.html#term-bdfl). You can print the Zen of Python in your shell by typing `import this` into it and running the codecell! You're going to do this now and the 5th aphorism (line) will say something of particular interest.\n",
        "\n",
        "The question you need to answer is: what is the 5th aphorism of the Zen of Python?\n",
        "\n",
        "Print either 1, 2, 3 or 4 as your choice in the second codecell below.\n",
        "\n",
        "\n",
        "1. Flat is better than nested.\n",
        "2. Flat files are essential for data science.\n",
        "3. The world is representable as a flat file.\n",
        "4. Flatness is in the eye of the beholder."
      ],
      "metadata": {
        "id": "EWyDqkgplFVS"
      }
    },
    {
      "cell_type": "code",
      "source": [
        "#Run this codecell to answer the choice question in the next codecell\n",
        "import this\n"
      ],
      "metadata": {
        "colab": {
          "base_uri": "https://localhost:8080/"
        },
        "id": "grMPyW4nmr6-",
        "outputId": "8e077f12-a4d2-4e4b-f9e1-7b2cc3ec343d"
      },
      "execution_count": 5,
      "outputs": [
        {
          "output_type": "stream",
          "name": "stdout",
          "text": [
            "The Zen of Python, by Tim Peters\n",
            "\n",
            "Beautiful is better than ugly.\n",
            "Explicit is better than implicit.\n",
            "Simple is better than complex.\n",
            "Complex is better than complicated.\n",
            "Flat is better than nested.\n",
            "Sparse is better than dense.\n",
            "Readability counts.\n",
            "Special cases aren't special enough to break the rules.\n",
            "Although practicality beats purity.\n",
            "Errors should never pass silently.\n",
            "Unless explicitly silenced.\n",
            "In the face of ambiguity, refuse the temptation to guess.\n",
            "There should be one-- and preferably only one --obvious way to do it.\n",
            "Although that way may not be obvious at first unless you're Dutch.\n",
            "Now is better than never.\n",
            "Although never is often better than *right* now.\n",
            "If the implementation is hard to explain, it's a bad idea.\n",
            "If the implementation is easy to explain, it may be a good idea.\n",
            "Namespaces are one honking great idea -- let's do more of those!\n"
          ]
        }
      ]
    },
    {
      "cell_type": "code",
      "source": [
        "#Print either 1, 2, 3 or 4\n",
        "print('1')"
      ],
      "metadata": {
        "id": "3WD8VPi2ndgv",
        "colab": {
          "base_uri": "https://localhost:8080/"
        },
        "outputId": "ac0dda39-1cfd-4cb7-b72e-54c057e663e9"
      },
      "execution_count": 6,
      "outputs": [
        {
          "output_type": "stream",
          "name": "stdout",
          "text": [
            "1\n"
          ]
        }
      ]
    },
    {
      "cell_type": "markdown",
      "source": [
        "# **Using NumPy to import flat files**\n",
        "\n",
        "In this exercise, you're now going to load the MNIST digit recognition dataset using the numpy function `loadtxt()` and see just how easy it can be:\n",
        "* The first argument will be the filename.\n",
        "* The second will be the delimiter which, in this case, is a comma.\n",
        "\n",
        "The MNIST dataset is a collection of handwritten digits from 0 to 9, frequently used in the field of machine learning. It serves as a benchmark for evaluating algorithm performance in recognizing and classifying these numbers.\n",
        "\n",
        "**Instructions:**\n",
        "* Fill in the arguments of `np.loadtxt()` by passing file and a comma `','` for the delimiter.\n",
        "* Fill in the argument of `print()` to print the type of the object digits. Use the function `type()`.\n",
        "* Execute the rest of the code to visualize one of the rows of the data.\n"
      ],
      "metadata": {
        "id": "HWwnXA6gpl-B"
      }
    },
    {
      "cell_type": "code",
      "source": [
        "# Import packages\n",
        "import numpy as np\n",
        "\n",
        "# Assign filename to variable: file\n",
        "file = 'https://github.com/DataAnalyst21/DatasetsForDataAnalytics/blob/main/digits.csv?raw=True'\n",
        "\n",
        "\n",
        "\n",
        "# Load file as array: digits\n",
        "digits = np.loadtxt(file, delimiter=',')\n",
        "\n",
        "\n",
        "# Print datatype of digits\n",
        "print(type(digits))\n",
        "\n",
        "\n",
        "\n",
        "# Select and reshape a row\n",
        "im = digits[21, 1:]\n",
        "im_sq = np.reshape(im, (28, 28))\n",
        "\n",
        "# Plot reshaped data (matplotlib.pyplot already loaded as plt)\n",
        "plt.imshow(im_sq, cmap='Greys', interpolation='nearest')\n",
        "plt.show()\n"
      ],
      "metadata": {
        "id": "UYAktw6UrDMH",
        "colab": {
          "base_uri": "https://localhost:8080/",
          "height": 448
        },
        "outputId": "224fb9ee-e5aa-4a3b-a816-98535728a0b9"
      },
      "execution_count": 8,
      "outputs": [
        {
          "output_type": "stream",
          "name": "stdout",
          "text": [
            "<class 'numpy.ndarray'>\n"
          ]
        },
        {
          "output_type": "display_data",
          "data": {
            "text/plain": [
              "<Figure size 640x480 with 1 Axes>"
            ],
            "image/png": "[encoded data removed]"
          },
          "metadata": {}
        }
      ]
    },
    {
      "cell_type": "markdown",
      "source": [
        "# **Customizing your NumPy import**\n",
        "\n",
        "What if there are rows, such as a header, that you don't want to import? What if your file has a delimiter other than a comma? What if you only wish to import particular columns?\n",
        "\n",
        "There are a number of arguments that `np.loadtxt()` takes that you'll find useful:\n",
        "* `delimiter` changes the delimiter that `loadtxt()` is expecting.\n",
        "    * You can use `',' `for comma-delimited.\n",
        "    * You can use `'\\t'` for tab-delimited.\n",
        "* `skiprows` allows you to specify how many rows (not indices) you wish to skip.\n",
        "* `usecols` takes a list of the indices of the columns you wish to keep.\n",
        "\n",
        "The file that you'll be importing, `digits_header.txt`, has a header and is tab-delimited.\n",
        "\n",
        "**Instructions:**\n",
        "* Complete the arguments of `np.loadtxt()`: the file you're importing is tab-delimited, you want to skip the first row and you only want to import the first and third columns.\n",
        "* Complete the argument of the `print()` call in order to print the entire array that you just imported.\n"
      ],
      "metadata": {
        "id": "txXTwUZDsd36"
      }
    },
    {
      "cell_type": "code",
      "source": [
        "# Import numpy\n",
        "import numpy as np\n",
        "\n",
        "# Assign the filename: file\n",
        "file = 'https://github.com/DataAnalyst21/DatasetsForDataAnalytics/blob/main/digits_header.txt?raw=True'\n",
        "\n",
        "# Load the data: data\n",
        "data = np.loadtxt(file, delimiter='\\t', skiprows=1, usecols=[0])\n",
        "\n",
        "# Print data\n",
        "print(data)\n",
        "\n",
        "\n"
      ],
      "metadata": {
        "id": "iV2NBHdWtPR4",
        "colab": {
          "base_uri": "https://localhost:8080/"
        },
        "outputId": "509d9007-583f-45ba-890a-1f140aaa784a"
      },
      "execution_count": 3,
      "outputs": [
        {
          "output_type": "stream",
          "name": "stdout",
          "text": [
            "[1. 0. 1. 4. 0. 0. 7. 3. 5. 3. 8. 9. 1. 3. 3. 1. 2. 0. 7. 5. 8. 6. 2. 0.\n",
            " 2. 3. 6. 9. 9. 7. 8. 9. 4. 9. 2. 1. 3. 1. 1. 4. 9. 1. 4. 4. 2. 6. 3. 7.\n",
            " 7. 4. 7. 5. 1. 9. 0. 2. 2. 3. 9. 1. 1. 1. 5. 0. 6. 3. 4. 8. 1. 0. 3. 9.\n",
            " 6. 2. 6. 4. 7. 1. 4. 1. 5. 4. 8. 9. 2. 9. 9. 8. 9. 6. 3. 6. 4. 6. 2. 9.\n",
            " 1. 2. 0. 5.]\n"
          ]
        }
      ]
    },
    {
      "cell_type": "code",
      "source": [
        "import numpy as np\n",
        "import matplotlib.pyplot as plt\n",
        "\n",
        "# Assign filename: file\n",
        "file = 'https://github.com/DataAnalyst21/DatasetsForDataAnalytics/blob/main/seaslug.txt?raw=True'\n",
        "\n",
        "# Import file: data\n",
        "data = np.loadtxt(file, delimiter='\\t', dtype=str)\n",
        "\n",
        "# Print the first element of data\n",
        "print(data[0])\n",
        "\n",
        "# Import file as floats and skip the first row: data_float\n",
        "data_float = np.loadtxt(file, delimiter='\\t', dtype=float, skiprows=1)\n",
        "\n",
        "# Print the 10th element of data_float\n",
        "print(data_float[9])\n",
        "\n",
        "# Plot a scatterplot of the data\n",
        "plt.scatter(data_float[:, 0], data_float[:, 1])\n",
        "plt.xlabel('time (min.)')\n",
        "plt.ylabel('percentage of larvae')\n",
        "plt.show()\n",
        "\n",
        "\n"
      ],
      "metadata": {
        "id": "znp9Vb1Au88U",
        "colab": {
          "base_uri": "https://localhost:8080/",
          "height": 485
        },
        "outputId": "57df8752-a716-4e2d-8935-c85df6aad86d"
      },
      "execution_count": 2,
      "outputs": [
        {
          "output_type": "stream",
          "name": "stdout",
          "text": [
            "['Time' 'Percent']\n",
            "[0.    0.357]\n"
          ]
        },
        {
          "output_type": "display_data",
          "data": {
            "text/plain": [
              "<Figure size 640x480 with 1 Axes>"
            ],
            "image/png": "[encoded data removed]"
          },
          "metadata": {}
        }
      ]
    },
    {
      "cell_type": "markdown",
      "source": [
        "# **Importing different datatypes**\n",
        "\n",
        "The file `seaslug.txt`\n",
        "* has a text header, consisting of strings\n",
        "* is tab-delimited.\n",
        "\n",
        "This data consists of the percentage of sea slug larvae that had metamorphosed in a given time period. Read more here.\n",
        "\n",
        "Due to the header, if you tried to import it as-is using `np.loadtxt()`, Python would throw you a ValueError and tell you that it could not convert string to float. There are two ways to deal with this: firstly, you can set the data type argument `dtype` equal to `str` (for string).\n",
        "\n",
        "Alternatively, you can skip the first row as we have seen before, using the skiprows argument.\n",
        "\n",
        "**Instructions:**\n",
        "* Complete the first call to `np.loadtxt()` by passing `file` as the first argument.\n",
        "* Execute `print(data[0])` to print the first element of `data`.\n",
        "* Complete the second call to `np.loadtxt()`. The file you're importing is tab-delimited, the datatype is float, and you want to skip the first row.\n",
        "* Print the 10th element of `data_float` by completing the `print()` command. Be guided by the previous `print()` call.\n",
        "* Execute the rest of the code to visualize the data.\n"
      ],
      "metadata": {
        "id": "FEyqpqbwuMPl"
      }
    },
    {
      "cell_type": "markdown",
      "source": [
        "# **Using pandas to import flat files as DataFrames (1)**\n",
        "\n",
        "In the last exercises, you were able to import flat files containing columns with different datatypes as numpy arrays. However, the DataFrame object in pandas is a more appropriate structure in which to store such data and, thankfully, we can easily import files of mixed data types as DataFrames using the pandas functions `read_csv()` and `read_table()`.\n",
        "\n",
        "**Instructions:**\n",
        "* Import the `pandas` package using the alias `pd`.\n",
        "* Read `titanic.csv` into a DataFrame called `df`. The file name is already stored in the `file` object.\n",
        "* In a `print()` call, view the head of the DataFrame.\n"
      ],
      "metadata": {
        "id": "MwAfm0kGwfSr"
      }
    },
    {
      "cell_type": "code",
      "source": [
        "# Import pandas with the alias pd\n",
        "import pandas as pd\n",
        "\n",
        "# File name is already stored in the variable file\n",
        "file = 'https://github.com/DataAnalyst21/DatasetsForDataAnalytics/blob/main/titanic.csv?raw=True'\n",
        "\n",
        "# Read the CSV file into a DataFrame: df\n",
        "df = pd.read_csv(file)\n",
        "\n",
        "# View the first few rows of the DataFrame\n",
        "print(df.head())\n"
      ],
      "metadata": {
        "id": "6GZhVhu8w7YR",
        "colab": {
          "base_uri": "https://localhost:8080/"
        },
        "outputId": "3ab9d131-6176-450b-e49b-0c65431bf25d"
      },
      "execution_count": 1,
      "outputs": [
        {
          "output_type": "stream",
          "name": "stdout",
          "text": [
            "   PassengerId  Survived  Pclass  \\\n",
            "0            1         0       3   \n",
            "1            2         1       1   \n",
            "2            3         1       3   \n",
            "3            4         1       1   \n",
            "4            5         0       3   \n",
            "\n",
            "                                                Name     Sex   Age  SibSp  \\\n",
            "0                            Braund, Mr. Owen Harris    male  22.0      1   \n",
            "1  Cumings, Mrs. John Bradley (Florence Briggs Th...  female  38.0      1   \n",
            "2                             Heikkinen, Miss. Laina  female  26.0      0   \n",
            "3       Futrelle, Mrs. Jacques Heath (Lily May Peel)  female  35.0      1   \n",
            "4                           Allen, Mr. William Henry    male  35.0      0   \n",
            "\n",
            "   Parch            Ticket     Fare Cabin Embarked  \n",
            "0      0         A/5 21171   7.2500   NaN        S  \n",
            "1      0          PC 17599  71.2833   C85        C  \n",
            "2      0  STON/O2. 3101282   7.9250   NaN        S  \n",
            "3      0            113803  53.1000  C123        S  \n",
            "4      0            373450   8.0500   NaN        S  \n"
          ]
        }
      ]
    },
    {
      "cell_type": "code",
      "source": [
        "# Import pandas\n",
        "import pandas as pd\n",
        "\n",
        "# File name is already stored in the variable file\n",
        "file = 'https://github.com/DataAnalyst21/DatasetsForDataAnalytics/blob/main/digits.csv?raw=True'\n",
        "\n",
        "# Import the first 5 rows of the file into a DataFrame: data\n",
        "data = pd.read_csv(file, nrows=5, header=None)\n",
        "\n",
        "# Build a numpy array from the DataFrame: data_array\n",
        "data_array = data.to_numpy()\n",
        "\n",
        "# Print the datatype of data_array\n",
        "print(type(data_array))\n",
        "\n",
        "\n"
      ],
      "metadata": {
        "id": "rMk8YBzkx-QQ",
        "colab": {
          "base_uri": "https://localhost:8080/"
        },
        "outputId": "464e81c9-c804-405d-e859-4d136a940dd0"
      },
      "execution_count": 4,
      "outputs": [
        {
          "output_type": "stream",
          "name": "stdout",
          "text": [
            "<class 'numpy.ndarray'>\n"
          ]
        }
      ]
    },
    {
      "cell_type": "markdown",
      "source": [
        "# **Using pandas to import flat files as DataFrames (2)**\n",
        "\n",
        "In the last exercise, you were able to import flat files into a pandas DataFrame. As a bonus, it is then straightforward to retrieve the corresponding numpy array using the method `.to_numpy()`. You'll now have a chance to do this using the MNIST dataset, which is available as `digits.csv`.\n",
        "\n",
        "There are a number of arguments that `pd.read_csv()` takes that you'll find useful for this exercise:\n",
        "* `nrows` allows you to specify how many rows to read from the file. For example, `nrows=10` will only import the first `10` rows.\n",
        "* `header` accepts row numbers to use as the column labels and marks the start of the data. If the file does not contain a header row, you can set `header=None`, and pandas will automatically assign integer column labels starting from `0` (e.g., `0, 1, 2, …`).\n",
        "\n",
        "**Instructions:**\n",
        "* Import the first `5` rows of the file into a DataFrame using the function `pd.read_csv()` and assign the result to `data`. You'll need to use the arguments `nrows` and `header`. Note that there is no header row in this file.\n",
        "* Build a numpy array from the resulting DataFrame in data and assign to `data_array`.\n",
        "* Execute `print(type(data_array))` to print the datatype of `data_array`.\n"
      ],
      "metadata": {
        "id": "BS--Vz-cxOf2"
      }
    },
    {
      "cell_type": "markdown",
      "source": [
        "# **Customizing your pandas import**\n",
        "\n",
        "The pandas package is great at dealing with many of the issues you will encounter when importing data as a data scientist, such as comments occurring in flat files, empty lines and missing values (`NA` or `NaN`). To wrap up this chapter, you're going to import a corrupted copy of the Titanic dataset `titanic_corrupt.txt`, which contains comments after the character `'#'`, and is tab-delimited.\n",
        "\n",
        "Key arguments for `pd.read_csv()` include:\n",
        "* `sep` sets the expected delimiter.\n",
        "    * You can use `','` for comma-delimited.\n",
        "    * You can use `'\\t'` for tab-delimited.\n",
        "* `comment` takes characters that comments occur after in the file, indicating that any text starting with these characters should be ignored.\n",
        "* `na_values` takes a list of strings to identify as `NA/NaN`. By default, some values are already recognized as `NA/NaN`. Providing this argument will supply additional values.\n",
        "\n",
        "**Instructions:**\n",
        "1. Complete the arguments of `pd.read_csv()` to import `titanic_corrupt.txt` correctly using pandas:\n",
        "    * `sep` sets the delimiter to use, and works the same way as `np.loadtxt()`'s delimiter argument. Note that the file you're importing is tab-delimited.\n",
        "    * `comment` takes characters that comments occur after in the file, which in this case is `'#'`.\n",
        "    * `na_values` takes a list of strings to be treated as `NA/NaN`, in this case the string `'Nothing'`.\n",
        "2. Execute the rest of the code to print the head of the resulting DataFrame and plot the histogram of the `'Age'` of passengers aboard the Titanic.\n"
      ],
      "metadata": {
        "id": "FdmVIn1IyYFL"
      }
    },
    {
      "cell_type": "code",
      "source": [
        "import pandas as pd\n",
        "import matplotlib.pyplot as plt\n",
        "\n",
        "\n",
        "\n",
        "# Assign filename: file\n",
        "file = 'https://github.com/DataAnalyst21/DatasetsForDataAnalytics/blob/main/titanic_corrupt.txt?raw=True'\n",
        "\n",
        "data = pd.read_csv(\n",
        "    file,  # Path to the file\n",
        "    sep='\\t',              # Tab-delimited file\n",
        "    comment='#',           # Ignore comments after '#'\n",
        "    na_values=['Nothing']  # Treat 'Nothing' as NA/NaN\n",
        ")\n",
        "\n",
        "# Display the first few rows of the dataset\n",
        "print(data.head())\n",
        "\n",
        "# Plot a histogram of the 'Age' column\n",
        "data['Age'].plot(kind='hist', bins=20,edgecolor='red')\n",
        "plt.title('Age Distribution of Titanic Passengers')\n",
        "plt.xlabel('Age')\n",
        "plt.ylabel('Frequency')\n",
        "plt.show()\n"
      ],
      "metadata": {
        "id": "cCBH45kWz_Ue",
        "colab": {
          "base_uri": "https://localhost:8080/",
          "height": 708
        },
        "outputId": "59e1b949-49ad-4b51-8298-6dc67c41d786"
      },
      "execution_count": 11,
      "outputs": [
        {
          "output_type": "stream",
          "name": "stdout",
          "text": [
            "   PassengerId  Survived  Pclass     Sex   Age  SibSp  Parch  \\\n",
            "0            1         0       3    male  22.0      1      0   \n",
            "1            2         1       1  female  38.0      1      0   \n",
            "2            3         1       3  female  26.0      0      0   \n",
            "3            4         1       1  female  35.0      1      0   \n",
            "4            5         0       3    male  35.0      0      0   \n",
            "\n",
            "             Ticket    Fare Cabin Embarked  \n",
            "0         A/5 21171   7.250   NaN       S   \n",
            "1          PC 17599     NaN   NaN      NaN  \n",
            "2  STON/O2. 3101282   7.925   NaN        S  \n",
            "3            113803  53.100  C123        S  \n",
            "4            373450   8.050   NaN        S  \n"
          ]
        },
        {
          "output_type": "display_data",
          "data": {
            "text/plain": [
              "<Figure size 640x480 with 1 Axes>"
            ],
            "image/png": "[encoded data removed]"
          },
          "metadata": {}
        }
      ]
    }
  ]
}