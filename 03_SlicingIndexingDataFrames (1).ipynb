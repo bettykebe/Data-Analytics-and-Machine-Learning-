{
  "nbformat": 4,
  "nbformat_minor": 0,
  "metadata": {
    "colab": {
      "provenance": []
    },
    "kernelspec": {
      "name": "python3",
      "display_name": "Python 3"
    },
    "language_info": {
      "name": "python"
    }
  },
  "cells": [
    {
      "cell_type": "markdown",
      "source": [
        "Install pandas if not installed. Then import pandas as pd"
      ],
      "metadata": {
        "id": "evU9y-_or-fv"
      }
    },
    {
      "cell_type": "code",
      "source": [
        "#Install and import pandas\n",
        "#!pip install pandas\n",
        "import pandas as pd"
      ],
      "metadata": {
        "id": "m4-bzy_Yr9Wt"
      },
      "execution_count": 1,
      "outputs": []
    },
    {
      "cell_type": "markdown",
      "source": [
        "# **Setting and removing indexes**\n",
        "\n",
        "pandas allows you to designate columns as an index. This enables cleaner code when taking subsets (as well as providing more efficient lookup under some circumstances).\n",
        "\n",
        "In this chapter, you'll be creating and exploring `temperatures`, a DataFrame of average temperatures in cities around the world. You should also load pandas as pd."
      ],
      "metadata": {
        "id": "1iWJ93tPrOBX"
      }
    },
    {
      "cell_type": "code",
      "source": [
        "# Read the sales data and print the head of the sales data\n",
        "temperatures = pd.read_csv('https://github.com/datttrian/datacamp/blob/main/data-manipulation-with-pandas/temperatures.csv?raw=true', index_col=0)\n",
        "print(temperatures.head())"
      ],
      "metadata": {
        "colab": {
          "base_uri": "https://localhost:8080/"
        },
        "id": "cHkjKN72sMLQ",
        "outputId": "ebf58677-6314-401d-9ef6-9f88c56074ca"
      },
      "execution_count": 2,
      "outputs": [
        {
          "output_type": "stream",
          "name": "stdout",
          "text": [
            "         date     city        country  avg_temp_c\n",
            "0  2000-01-01  Abidjan  Côte D'Ivoire      27.293\n",
            "1  2000-02-01  Abidjan  Côte D'Ivoire      27.685\n",
            "2  2000-03-01  Abidjan  Côte D'Ivoire      29.061\n",
            "3  2000-04-01  Abidjan  Côte D'Ivoire      28.162\n",
            "4  2000-05-01  Abidjan  Côte D'Ivoire      27.547\n"
          ]
        }
      ]
    },
    {
      "cell_type": "markdown",
      "source": [
        "The `temperatures` DataFrame is available as it is read in the previous cells and and pandas is loaded as pd as well in the first cell. Answer each question below in each cell.\n",
        "\n",
        "Then you are expected to do the following two exercises:\n",
        "\n",
        "**Instructions:**\n",
        "* Look at temperatures by printing some of the first rows using `.head()` function.\n",
        "* Set the index of `temperatures` to \"`city`\", assigning to `temperatures_ind`.\n",
        "* Look at `temperatures_ind`. How is it different from `temperatures`?\n",
        "* Reset the index of `temperatures_ind`, keeping its contents.\n",
        "* Reset the index of `temperatures_ind`, dropping its contents."
      ],
      "metadata": {
        "id": "5ibSWU3mseAd"
      }
    },
    {
      "cell_type": "code",
      "source": [
        "# Look at temperatures\n",
        "print(temperatures.head())\n",
        "\n",
        "# Set the index of temperatures to city\n",
        "temperatures_ind = temperatures.set_index('city')\n",
        "\n",
        "# Look at temperatures_ind\n",
        "print(temperatures_ind.head())\n",
        "\n",
        "# Reset the temperatures_ind index, keeping its contents\n",
        "print(temperatures_ind.reset_index().head())\n",
        "\n",
        "# Reset the temperatures_ind index, dropping its contents\n",
        "print(temperatures_ind.reset_index(drop=True).head())\n",
        "\n",
        "\n"
      ],
      "metadata": {
        "id": "ybeXZ-gwxNrD",
        "colab": {
          "base_uri": "https://localhost:8080/"
        },
        "outputId": "f5ca98b4-4794-495b-ecb3-2684db3beeda"
      },
      "execution_count": 3,
      "outputs": [
        {
          "output_type": "stream",
          "name": "stdout",
          "text": [
            "         date     city        country  avg_temp_c\n",
            "0  2000-01-01  Abidjan  Côte D'Ivoire      27.293\n",
            "1  2000-02-01  Abidjan  Côte D'Ivoire      27.685\n",
            "2  2000-03-01  Abidjan  Côte D'Ivoire      29.061\n",
            "3  2000-04-01  Abidjan  Côte D'Ivoire      28.162\n",
            "4  2000-05-01  Abidjan  Côte D'Ivoire      27.547\n",
            "               date        country  avg_temp_c\n",
            "city                                          \n",
            "Abidjan  2000-01-01  Côte D'Ivoire      27.293\n",
            "Abidjan  2000-02-01  Côte D'Ivoire      27.685\n",
            "Abidjan  2000-03-01  Côte D'Ivoire      29.061\n",
            "Abidjan  2000-04-01  Côte D'Ivoire      28.162\n",
            "Abidjan  2000-05-01  Côte D'Ivoire      27.547\n",
            "      city        date        country  avg_temp_c\n",
            "0  Abidjan  2000-01-01  Côte D'Ivoire      27.293\n",
            "1  Abidjan  2000-02-01  Côte D'Ivoire      27.685\n",
            "2  Abidjan  2000-03-01  Côte D'Ivoire      29.061\n",
            "3  Abidjan  2000-04-01  Côte D'Ivoire      28.162\n",
            "4  Abidjan  2000-05-01  Côte D'Ivoire      27.547\n",
            "         date        country  avg_temp_c\n",
            "0  2000-01-01  Côte D'Ivoire      27.293\n",
            "1  2000-02-01  Côte D'Ivoire      27.685\n",
            "2  2000-03-01  Côte D'Ivoire      29.061\n",
            "3  2000-04-01  Côte D'Ivoire      28.162\n",
            "4  2000-05-01  Côte D'Ivoire      27.547\n"
          ]
        }
      ]
    },
    {
      "cell_type": "markdown",
      "source": [
        "# **Subsetting with `.loc[]`**\n",
        "\n",
        "The killer feature for indexes is `.loc[]`: a subsetting method that accepts index values. When you pass it a single argument, it will take a subset of rows.\n",
        "\n",
        "The code for subsetting using `.loc[]` can be easier to read than standard square bracket subsetting, which can make your code less burdensome to maintain.\n",
        "\n",
        "The `temperatures` DataFrame is available as it is read in the previous cells and `temperatures_ind` indexed by city is provided at the initial code. pandas is loaded as pd as well in the first cell. Answer each question below in each cell.\n",
        "\n",
        "Then you are expected to do the following two exercises.\n",
        "\n",
        "**Instructions:**\n",
        "* Create a list called `cities` that contains \"Moscow\" and \"Saint Petersburg\".\n",
        "* Use `[] `subsetting to filter temperatures for rows where the city column takes a value in the `cities` list.\n",
        "* Use `.loc[]` subsetting to filter `temperatures_ind` for rows where the `city` is in the `cities` list.\n"
      ],
      "metadata": {
        "id": "xIVkA2VTxXDO"
      }
    },
    {
      "cell_type": "code",
      "source": [
        "# Create temperatures_ind using city as index\n",
        "import pandas as pd\n",
        "cities = [\"Moscow\", \"Saint Petersburg\"]\n",
        "\n",
        "# Use [] subsetting to filter temperatures for rows where the city column takes a value in the cities list\n",
        "filtered_temperatures = temperatures[temperatures[\"city\"].isin(cities)]\n",
        "print(filtered_temperatures)\n",
        "\n",
        "# Use .loc[] subsetting to filter temperatures_ind for rows where the city is in the cities list\n",
        "temperatures_ind = temperatures.set_index(\"city\")  # Ensure it's indexed by city if not already\n",
        "filtered_temperatures_ind = temperatures_ind.loc[cities]\n",
        "print(filtered_temperatures_ind)"
      ],
      "metadata": {
        "id": "lr5K_ceVyiLV",
        "colab": {
          "base_uri": "https://localhost:8080/"
        },
        "outputId": "56eedba1-7e78-405b-f891-1d5a66157996"
      },
      "execution_count": 11,
      "outputs": [
        {
          "output_type": "stream",
          "name": "stdout",
          "text": [
            "             date              city country  avg_temp_c\n",
            "10725  2000-01-01            Moscow  Russia      -7.313\n",
            "10726  2000-02-01            Moscow  Russia      -3.551\n",
            "10727  2000-03-01            Moscow  Russia      -1.661\n",
            "10728  2000-04-01            Moscow  Russia      10.096\n",
            "10729  2000-05-01            Moscow  Russia      10.357\n",
            "...           ...               ...     ...         ...\n",
            "13360  2013-05-01  Saint Petersburg  Russia      12.355\n",
            "13361  2013-06-01  Saint Petersburg  Russia      17.185\n",
            "13362  2013-07-01  Saint Petersburg  Russia      17.234\n",
            "13363  2013-08-01  Saint Petersburg  Russia      17.153\n",
            "13364  2013-09-01  Saint Petersburg  Russia         NaN\n",
            "\n",
            "[330 rows x 4 columns]\n",
            "                        date country  avg_temp_c\n",
            "city                                            \n",
            "Moscow            2000-01-01  Russia      -7.313\n",
            "Moscow            2000-02-01  Russia      -3.551\n",
            "Moscow            2000-03-01  Russia      -1.661\n",
            "Moscow            2000-04-01  Russia      10.096\n",
            "Moscow            2000-05-01  Russia      10.357\n",
            "...                      ...     ...         ...\n",
            "Saint Petersburg  2013-05-01  Russia      12.355\n",
            "Saint Petersburg  2013-06-01  Russia      17.185\n",
            "Saint Petersburg  2013-07-01  Russia      17.234\n",
            "Saint Petersburg  2013-08-01  Russia      17.153\n",
            "Saint Petersburg  2013-09-01  Russia         NaN\n",
            "\n",
            "[330 rows x 3 columns]\n"
          ]
        }
      ]
    },
    {
      "cell_type": "markdown",
      "source": [
        "# **Setting multi-level indexes**\n",
        "\n",
        "Indexes can also be made out of multiple columns, forming a multi-level index (sometimes called a hierarchical index). There is a trade-off to using these.\n",
        "\n",
        "The benefit is that multi-level indexes make it more natural to reason about nested categorical variables. For example, in a clinical trial, you might have control and treatment groups. Then each test subject belongs to one or another group, and we can say that a test subject is nested inside the treatment group. Similarly, in the `temperature` dataset, the city is located in the country, so we can say a `city` is nested inside the `country`.\n",
        "\n",
        "The main downside is that the code for manipulating indexes is different from the code for manipulating columns, so you have to learn two syntaxes and keep track of how your data is represented.\n",
        "\n",
        "The `temperatures` DataFrame is available as it is read in the previous cells and and pandas is loaded as pd as well in the first cell. Answer each question below in each cell.\n",
        "\n",
        "Then you are expected to do the following two exercises:\n",
        "\n",
        "**Instructions:**\n",
        "* Set the index of `temperatures` to the \"`country`\" and \"`city`\" columns, and assign this to `temperatures_ind`.\n",
        "* Specify two country/city pairs to keep: \"`Brazil\"/\"Rio De Janeiro`\" and \"`Pakistan\"/\"Lahore`\", assigning to `rows_to_keep`.\n",
        "* Print and subset `temperatures_ind` for `rows_to_keep` using `.loc[]`.\n"
      ],
      "metadata": {
        "id": "A7drbOCK2RcU"
      }
    },
    {
      "cell_type": "code",
      "source": [
        "# Index temperatures by country & city\n",
        "import pandas as pd\n",
        "\n",
        "# Load the temperatures DataFrame (assuming it's available)\n",
        "temperatures = pd.read_csv('https://github.com/datttrian/datacamp/blob/main/data-manipulation-with-pandas/temperatures.csv?raw=true')\n",
        "\n",
        "# Set the index of temperatures to the \"country\" and \"city\" columns\n",
        "temperatures_ind = temperatures.set_index(['country', 'city'])\n",
        "\n",
        "# Specify the rows you want to keep: \"Brazil\"/\"Rio De Janeiro\" and \"Pakistan\"/\"Lahore\"\n",
        "rows_to_keep = [('Brazil', 'Rio De Janeiro'), ('Pakistan', 'Lahore')]\n",
        "\n",
        "# Print the rows_to_keep using .loc[]\n",
        "print(temperatures_ind.loc[rows_to_keep])\n",
        "\n"
      ],
      "metadata": {
        "id": "7QONFonJ3El8",
        "colab": {
          "base_uri": "https://localhost:8080/"
        },
        "outputId": "18d4d665-5b62-4293-af2c-dc362ac3b7e7"
      },
      "execution_count": 12,
      "outputs": [
        {
          "output_type": "stream",
          "name": "stdout",
          "text": [
            "                         Unnamed: 0        date  avg_temp_c\n",
            "country  city                                              \n",
            "Brazil   Rio De Janeiro       12540  2000-01-01      25.974\n",
            "         Rio De Janeiro       12541  2000-02-01      26.699\n",
            "         Rio De Janeiro       12542  2000-03-01      26.270\n",
            "         Rio De Janeiro       12543  2000-04-01      25.750\n",
            "         Rio De Janeiro       12544  2000-05-01      24.356\n",
            "...                             ...         ...         ...\n",
            "Pakistan Lahore                8575  2013-05-01      33.457\n",
            "         Lahore                8576  2013-06-01      34.456\n",
            "         Lahore                8577  2013-07-01      33.279\n",
            "         Lahore                8578  2013-08-01      31.511\n",
            "         Lahore                8579  2013-09-01         NaN\n",
            "\n",
            "[330 rows x 3 columns]\n"
          ]
        }
      ]
    },
    {
      "cell_type": "markdown",
      "source": [
        "# **Sorting by index values**\n",
        "\n",
        "Previously, you changed the order of the rows in a DataFrame by calling .`sort_values()`. It's also useful to be able to sort by elements in the index. For this, you need to use `.sort_index()`.\n",
        "\n",
        "The `temperatures` DataFrame is available as it is read in the previous cells and and pandas is loaded as pd as well in the first cell. `temperatures_ind` has a multi-level index of `country` and `city`, and is available as it is created in the above cell. Answer each question below in each cell.\n",
        "\n",
        "Then you are expected to do the following two exercises:\n",
        "\n",
        "**Instructions:**\n",
        "* Sort `temperatures_ind` by the index values.\n",
        "* Sort `temperatures_ind` by the index values at the \"`city`\" level.\n",
        "* Sort `temperatures_ind` by ascending `country` then descending `city`.\n",
        "\n"
      ],
      "metadata": {
        "id": "8yMPVS1g3PcT"
      }
    },
    {
      "cell_type": "code",
      "source": [
        "import pandas as pd\n",
        "\n",
        "# Load the temperatures DataFrame (assuming it's available)\n",
        "temperatures = pd.read_csv('https://github.com/datttrian/datacamp/blob/main/data-manipulation-with-pandas/temperatures.csv?raw=true')\n",
        "\n",
        "# Set the index of temperatures to the \"country\" and \"city\" columns\n",
        "temperatures_ind = temperatures.set_index(['country', 'city'])\n",
        "\n",
        "# 1. Sort temperatures_ind by the index values\n",
        "sorted_temperatures = temperatures_ind.sort_index()\n",
        "print(\"Sorted by index values:\")\n",
        "print(sorted_temperatures)\n",
        "\n",
        "# 2. Sort temperatures_ind by the index values at the \"city\" level\n",
        "sorted_by_city = temperatures_ind.sort_index(level='city')\n",
        "print(\"\\nSorted by 'city' level:\")\n",
        "print(sorted_by_city)\n",
        "\n",
        "# 3. Sort temperatures_ind by ascending country and descending city\n",
        "sorted_country_city = temperatures_ind.sort_index(level=['country', 'city'], ascending=[True, False])\n",
        "print(\"\\nSorted by 'country' (ascending) and 'city' (descending):\")\n",
        "print(sorted_country_city)\n"
      ],
      "metadata": {
        "id": "RZEKdOPy36-Q",
        "colab": {
          "base_uri": "https://localhost:8080/"
        },
        "outputId": "6ad99f46-16fa-4dc4-a24a-1748549b250e"
      },
      "execution_count": 13,
      "outputs": [
        {
          "output_type": "stream",
          "name": "stdout",
          "text": [
            "Sorted by index values:\n",
            "                    Unnamed: 0        date  avg_temp_c\n",
            "country     city                                      \n",
            "Afghanistan Kabul         7260  2000-01-01       3.326\n",
            "            Kabul         7261  2000-02-01       3.454\n",
            "            Kabul         7262  2000-03-01       9.612\n",
            "            Kabul         7263  2000-04-01      17.925\n",
            "            Kabul         7264  2000-05-01      24.658\n",
            "...                        ...         ...         ...\n",
            "Zimbabwe    Harare        5605  2013-05-01      18.298\n",
            "            Harare        5606  2013-06-01      17.020\n",
            "            Harare        5607  2013-07-01      16.299\n",
            "            Harare        5608  2013-08-01      19.232\n",
            "            Harare        5609  2013-09-01         NaN\n",
            "\n",
            "[16500 rows x 3 columns]\n",
            "\n",
            "Sorted by 'city' level:\n",
            "                       Unnamed: 0        date  avg_temp_c\n",
            "country       city                                       \n",
            "Côte D'Ivoire Abidjan           0  2000-01-01      27.293\n",
            "              Abidjan           1  2000-02-01      27.685\n",
            "              Abidjan           2  2000-03-01      29.061\n",
            "              Abidjan           3  2000-04-01      28.162\n",
            "              Abidjan           4  2000-05-01      27.547\n",
            "...                           ...         ...         ...\n",
            "China         Xian          16495  2013-05-01      18.979\n",
            "              Xian          16496  2013-06-01      23.522\n",
            "              Xian          16497  2013-07-01      25.251\n",
            "              Xian          16498  2013-08-01      24.528\n",
            "              Xian          16499  2013-09-01         NaN\n",
            "\n",
            "[16500 rows x 3 columns]\n",
            "\n",
            "Sorted by 'country' (ascending) and 'city' (descending):\n",
            "                    Unnamed: 0        date  avg_temp_c\n",
            "country     city                                      \n",
            "Afghanistan Kabul         7260  2000-01-01       3.326\n",
            "            Kabul         7261  2000-02-01       3.454\n",
            "            Kabul         7262  2000-03-01       9.612\n",
            "            Kabul         7263  2000-04-01      17.925\n",
            "            Kabul         7264  2000-05-01      24.658\n",
            "...                        ...         ...         ...\n",
            "Zimbabwe    Harare        5605  2013-05-01      18.298\n",
            "            Harare        5606  2013-06-01      17.020\n",
            "            Harare        5607  2013-07-01      16.299\n",
            "            Harare        5608  2013-08-01      19.232\n",
            "            Harare        5609  2013-09-01         NaN\n",
            "\n",
            "[16500 rows x 3 columns]\n"
          ]
        }
      ]
    },
    {
      "cell_type": "markdown",
      "source": [
        "# **Slicing index values**\n",
        "\n",
        "Slicing lets you select consecutive elements of an object using first:last syntax. DataFrames can be sliced by index values or by row/column number; we'll start with the first case. This involves slicing inside the `.loc[]` method.\n",
        "\n",
        "Compared to slicing lists, there are a few things to remember.\n",
        "* You can only slice an index if the index is sorted (using `.sort_index()`).\n",
        "* To slice at the outer level, first and last can be strings.\n",
        "* To slice at inner levels, first and last should be tuples.\n",
        "* If you pass a single slice to `.loc[]`, it will slice the rows.\n",
        "\n",
        "The `temperatures` DataFrame is available as it is read in the previous cells and and pandas is loaded as pd as well in the first cell. `temperatures_ind` has a multi-level index of country and city, and is available as it is created in the above cell. Answer each question below in each cell.\n",
        "\n",
        "**Instructions:**\n",
        "* Sort the index of `temperatures_ind`.\n",
        "* Use slicing with `.loc[]` to get these subsets:\n",
        "    * from `Pakistan` to `Russia`.\n",
        "    * from `Lahore` to `Moscow`. (This will return nonsense.)\n",
        "    * from `Pakistan`, `Lahore` to `Russia`, `Moscow`.\n"
      ],
      "metadata": {
        "id": "DWaNXib76M2P"
      }
    },
    {
      "cell_type": "code",
      "source": [
        "import pandas as pd\n",
        "\n",
        "# Load the temperatures DataFrame (assuming it's available)\n",
        "temperatures = pd.read_csv('https://github.com/datttrian/datacamp/blob/main/data-manipulation-with-pandas/temperatures.csv?raw=true')\n",
        "\n",
        "# Set the index of temperatures to the \"country\" and \"city\" columns\n",
        "temperatures_ind = temperatures.set_index(['country', 'city'])\n",
        "\n",
        "# 1. Sort the index of temperatures_ind\n",
        "temperatures_ind = temperatures_ind.sort_index()\n",
        "\n",
        "# 2. Slice from Pakistan to Russia\n",
        "subset_pakistan_russia = temperatures_ind.loc['Pakistan':'Russia']\n",
        "print(\"Subset from Pakistan to Russia:\")\n",
        "print(subset_pakistan_russia)\n",
        "\n",
        "# 3. Slice from Lahore to Moscow (This will return nonsense as cities are not in this order)\n",
        "# Slicing by city order, which does not exist in this manner, will not return valid results.\n",
        "# This is more of a demonstration of the error you'll get.\n",
        "subset_lahore_moscow = temperatures_ind.loc[('Pakistan', 'Lahore'):('Russia', 'Moscow')]\n",
        "print(\"\\nSubset from Lahore to Moscow (nonsense):\")\n",
        "print(subset_lahore_moscow)\n",
        "\n",
        "# 4. Slice from Pakistan, Lahore to Russia, Moscow (This will work if ordered correctly)\n",
        "subset_pakistan_lahore_russia_moscow = temperatures_ind.loc[('Pakistan', 'Lahore'):('Russia', 'Moscow')]\n",
        "print(\"\\nSubset from Pakistan, Lahore to Russia, Moscow:\")\n",
        "print(subset_pakistan_lahore_russia_moscow)\n",
        "\n"
      ],
      "metadata": {
        "id": "J6fkJmkW7w4N",
        "colab": {
          "base_uri": "https://localhost:8080/"
        },
        "outputId": "5655cbc5-9510-4d1f-bea6-aa8688fc703b"
      },
      "execution_count": 14,
      "outputs": [
        {
          "output_type": "stream",
          "name": "stdout",
          "text": [
            "Subset from Pakistan to Russia:\n",
            "                           Unnamed: 0        date  avg_temp_c\n",
            "country  city                                                \n",
            "Pakistan Faisalabad              4785  2000-01-01      12.792\n",
            "         Faisalabad              4786  2000-02-01      14.339\n",
            "         Faisalabad              4787  2000-03-01      20.309\n",
            "         Faisalabad              4788  2000-04-01      29.072\n",
            "         Faisalabad              4789  2000-05-01      34.845\n",
            "...                               ...         ...         ...\n",
            "Russia   Saint Petersburg       13360  2013-05-01      12.355\n",
            "         Saint Petersburg       13361  2013-06-01      17.185\n",
            "         Saint Petersburg       13362  2013-07-01      17.234\n",
            "         Saint Petersburg       13363  2013-08-01      17.153\n",
            "         Saint Petersburg       13364  2013-09-01         NaN\n",
            "\n",
            "[1155 rows x 3 columns]\n",
            "\n",
            "Subset from Lahore to Moscow (nonsense):\n",
            "                 Unnamed: 0        date  avg_temp_c\n",
            "country  city                                      \n",
            "Pakistan Lahore        8415  2000-01-01      12.792\n",
            "         Lahore        8416  2000-02-01      14.339\n",
            "         Lahore        8417  2000-03-01      20.309\n",
            "         Lahore        8418  2000-04-01      29.072\n",
            "         Lahore        8419  2000-05-01      34.845\n",
            "...                     ...         ...         ...\n",
            "Russia   Moscow       10885  2013-05-01      16.152\n",
            "         Moscow       10886  2013-06-01      18.718\n",
            "         Moscow       10887  2013-07-01      18.136\n",
            "         Moscow       10888  2013-08-01      17.485\n",
            "         Moscow       10889  2013-09-01         NaN\n",
            "\n",
            "[660 rows x 3 columns]\n",
            "\n",
            "Subset from Pakistan, Lahore to Russia, Moscow:\n",
            "                 Unnamed: 0        date  avg_temp_c\n",
            "country  city                                      \n",
            "Pakistan Lahore        8415  2000-01-01      12.792\n",
            "         Lahore        8416  2000-02-01      14.339\n",
            "         Lahore        8417  2000-03-01      20.309\n",
            "         Lahore        8418  2000-04-01      29.072\n",
            "         Lahore        8419  2000-05-01      34.845\n",
            "...                     ...         ...         ...\n",
            "Russia   Moscow       10885  2013-05-01      16.152\n",
            "         Moscow       10886  2013-06-01      18.718\n",
            "         Moscow       10887  2013-07-01      18.136\n",
            "         Moscow       10888  2013-08-01      17.485\n",
            "         Moscow       10889  2013-09-01         NaN\n",
            "\n",
            "[660 rows x 3 columns]\n"
          ]
        }
      ]
    },
    {
      "cell_type": "markdown",
      "source": [
        "# **Slicing in both directions**\n",
        "\n",
        "You've seen slicing DataFrames by rows and by columns, but since DataFrames are two-dimensional objects, it is often natural to slice both dimensions at once. That is, by passing two arguments to `.loc[]`, you can subset by rows and columns in one go.\n",
        "\n",
        "The `temperatures` DataFrame is available as it is read in the previous cells and and pandas is loaded as pd as well in the first cell. `temperatures_srt` has a multi-level index of country and city, and is available as it is created in the above cell. Answer each question below in each cell.\n",
        "\n",
        "**Instructions:**\n",
        "* Use `.loc[]` slicing to subset rows from `India`, `Hyderabad` to `Iraq`, `Baghdad`.\n",
        "* Use `.loc[]` slicing to subset columns from `date` to `avg_temp_c`.\n",
        "* Slice in both directions at once from `Hyderabad` to `Baghdad`, and `date` to `avg_temp_c`.\n"
      ],
      "metadata": {
        "id": "BooGSPsx8-ap"
      }
    },
    {
      "cell_type": "code",
      "source": [
        "# Subset rows from India, Hyderabad to Iraq, Baghdad\n",
        "import pandas as pd\n",
        "\n",
        "# For demonstration, assuming the data is loaded:\n",
        "temperatures = pd.read_csv('https://github.com/datttrian/datacamp/blob/main/data-manipulation-with-pandas/temperatures.csv?raw=true')\n",
        "\n",
        "# Set the index of temperatures to 'country' and 'city'\n",
        "temperatures_srt = temperatures.set_index(['country', 'city'])\n",
        "temperatures_srt = temperatures_srt.sort_index()\n",
        "\n",
        "# 1. Use .loc[] to subset rows from India, Hyderabad to Iraq, Baghdad\n",
        "\n",
        "subset_india_hyderabad_iraq_baghdad = temperatures_srt.loc[('India', 'Hyderabad'):('Iraq', 'Baghdad'), :]\n",
        "print(subset_india_hyderabad_iraq_baghdad)\n",
        "\n",
        "# 2. Use .loc[] to subset columns from 'date' to 'avg_temp_c'\n",
        "subset_columns = temperatures_srt.loc[:,'date':'avg_temp_c']\n",
        "\n",
        "print(subset_columns)\n",
        "\n",
        "# 3. Slice in both directions at once (rows and columns)\n",
        "subset_both_directions = temperatures_srt.loc[('India', 'Hyderabad'):('Iraq', 'Baghdad'), 'date':'avg_temp_c']\n",
        "print(\"\\nSlice in both directions (rows from Hyderabad to Baghdad, columns from date to avg_temp_c):\")\n",
        "print(subset_both_directions)\n"
      ],
      "metadata": {
        "id": "muaN-KIi-T20",
        "colab": {
          "base_uri": "https://localhost:8080/"
        },
        "outputId": "8b9d7908-6e94-4595-d21a-4cf8d7731b9d"
      },
      "execution_count": 25,
      "outputs": [
        {
          "output_type": "stream",
          "name": "stdout",
          "text": [
            "                   Unnamed: 0        date  avg_temp_c\n",
            "country city                                         \n",
            "India   Hyderabad        5940  2000-01-01      23.779\n",
            "        Hyderabad        5941  2000-02-01      25.826\n",
            "        Hyderabad        5942  2000-03-01      28.821\n",
            "        Hyderabad        5943  2000-04-01      32.698\n",
            "        Hyderabad        5944  2000-05-01      32.438\n",
            "...                       ...         ...         ...\n",
            "Iraq    Baghdad          1150  2013-05-01      28.673\n",
            "        Baghdad          1151  2013-06-01      33.803\n",
            "        Baghdad          1152  2013-07-01      36.392\n",
            "        Baghdad          1153  2013-08-01      35.463\n",
            "        Baghdad          1154  2013-09-01         NaN\n",
            "\n",
            "[2145 rows x 3 columns]\n",
            "Empty DataFrame\n",
            "Columns: [Unnamed: 0, date, avg_temp_c]\n",
            "Index: []\n",
            "\n",
            "Slice in both directions (rows from Hyderabad to Baghdad, columns from date to avg_temp_c):\n",
            "                         date  avg_temp_c\n",
            "country city                             \n",
            "India   Hyderabad  2000-01-01      23.779\n",
            "        Hyderabad  2000-02-01      25.826\n",
            "        Hyderabad  2000-03-01      28.821\n",
            "        Hyderabad  2000-04-01      32.698\n",
            "        Hyderabad  2000-05-01      32.438\n",
            "...                       ...         ...\n",
            "Iraq    Baghdad    2013-05-01      28.673\n",
            "        Baghdad    2013-06-01      33.803\n",
            "        Baghdad    2013-07-01      36.392\n",
            "        Baghdad    2013-08-01      35.463\n",
            "        Baghdad    2013-09-01         NaN\n",
            "\n",
            "[2145 rows x 2 columns]\n"
          ]
        }
      ]
    },
    {
      "cell_type": "code",
      "source": [
        "temperatures_bool = temperatures[(temperatures[\"date\"] >= \"2010-01-01\") & (temperatures[\"date\"] <= \"2011-12-31\")]\n",
        "print(temperatures_bool)\n",
        "\n",
        "\n",
        "# Set date as the index and sort the index\n",
        "temperatures_ind = temperatures.set_index(\"date\").sort_index()\n",
        "\n",
        "# Use .loc[] to subset temperatures_ind for rows in 2010 and 2011\n",
        "print(temperatures_ind.loc[\"2010\":\"2011\"])\n",
        "\n",
        "# Use .loc[] to subset temperatures_ind for rows from Aug 2010 to Feb 2011\n",
        "print(temperatures_ind.loc[\"2010-08-01\":\"2011-02-28\"])\n",
        "# Use Boolean conditions to subset temperatures for rows in 2010 and 2011\n"
      ],
      "metadata": {
        "id": "FzEhq4ptAGnS",
        "colab": {
          "base_uri": "https://localhost:8080/"
        },
        "outputId": "6259aa70-dbf3-43cb-a932-70bb5ef786ba"
      },
      "execution_count": 26,
      "outputs": [
        {
          "output_type": "stream",
          "name": "stdout",
          "text": [
            "       Unnamed: 0        date     city        country  avg_temp_c\n",
            "120           120  2010-01-01  Abidjan  Côte D'Ivoire      28.270\n",
            "121           121  2010-02-01  Abidjan  Côte D'Ivoire      29.262\n",
            "122           122  2010-03-01  Abidjan  Côte D'Ivoire      29.596\n",
            "123           123  2010-04-01  Abidjan  Côte D'Ivoire      29.068\n",
            "124           124  2010-05-01  Abidjan  Côte D'Ivoire      28.258\n",
            "...           ...         ...      ...            ...         ...\n",
            "16474       16474  2011-08-01     Xian          China      23.069\n",
            "16475       16475  2011-09-01     Xian          China      16.775\n",
            "16476       16476  2011-10-01     Xian          China      12.587\n",
            "16477       16477  2011-11-01     Xian          China       7.543\n",
            "16478       16478  2011-12-01     Xian          China      -0.490\n",
            "\n",
            "[2400 rows x 5 columns]\n",
            "            Unnamed: 0        city    country  avg_temp_c\n",
            "date                                                     \n",
            "2010-01-01        4905  Faisalabad   Pakistan      11.810\n",
            "2010-01-01       10185   Melbourne  Australia      20.016\n",
            "2010-01-01        3750   Chongqing      China       7.921\n",
            "2010-01-01       13155   São Paulo     Brazil      23.738\n",
            "2010-01-01        5400   Guangzhou      China      14.136\n",
            "...                ...         ...        ...         ...\n",
            "2010-12-01        6896     Jakarta  Indonesia      26.602\n",
            "2010-12-01        5246       Gizeh      Egypt      16.530\n",
            "2010-12-01       11186      Nagpur      India      19.120\n",
            "2010-12-01       14981      Sydney  Australia      19.559\n",
            "2010-12-01       13496    Salvador     Brazil      26.265\n",
            "\n",
            "[1200 rows x 4 columns]\n",
            "            Unnamed: 0      city        country  avg_temp_c\n",
            "date                                                       \n",
            "2010-08-01        2602  Calcutta          India      30.226\n",
            "2010-08-01       12337      Pune          India      24.941\n",
            "2010-08-01        6562     Izmir         Turkey      28.352\n",
            "2010-08-01       15637   Tianjin          China      25.543\n",
            "2010-08-01        9862    Manila    Philippines      27.101\n",
            "...                ...       ...            ...         ...\n",
            "2011-02-01        7393     Kabul    Afghanistan       3.914\n",
            "2011-02-01        3598   Chicago  United States       0.276\n",
            "2011-02-01         628    Aleppo          Syria       8.246\n",
            "2011-02-01        4423     Delhi          India      18.136\n",
            "2011-02-01       12508   Rangoon          Burma      26.631\n",
            "\n",
            "[700 rows x 4 columns]\n"
          ]
        }
      ]
    },
    {
      "cell_type": "markdown",
      "source": [
        "# **Slicing time series**\n",
        "\n",
        "Slicing is particularly useful for time series since it's a common thing to want to filter for data within a date range. Add the date column to the index, then use `.loc[]` to perform the subsetting. The important thing to remember is to keep your dates in ISO 8601 format, that is, \"yyyy-mm-dd\" for year-month-day, \"yyyy-mm\" for year-month, and \"yyyy\" for year.\n",
        "\n",
        "Recall that you can combine multiple Boolean conditions using logical operators, such as `&`. To do so in one line of code, you'll need to add parentheses `()` around each condition.\n",
        "\n",
        "The `temperatures` DataFrame is available (not indexed) as it is read in the previous cells and and pandas is loaded as pd as well in the first cell.\n",
        "\n",
        "**Instructions:**\n",
        "* Use Boolean conditions, not `.isin()` or `.loc[]`, and the full date `\"yyyy-mm-dd\"`, to subset `temperatures` for rows in `2010` and `2011` and print the results.\n",
        "* Set the index of `temperatures` to the date column and sort it.\n",
        "* Use `.loc[]` to subset `temperatures_ind` for rows in `2010` and `2011`.\n",
        "* Use `.loc[]` to subset `temperatures_ind` for rows from `Aug 2010` to `Feb 2011`.\n"
      ],
      "metadata": {
        "id": "zMbyQwNV-hFe"
      }
    },
    {
      "cell_type": "markdown",
      "source": [
        "# **Subsetting by row/column number**\n",
        "\n",
        "The most common ways to subset rows are the ways we've previously discussed: using a Boolean condition or by index labels. However, it is also occasionally useful to pass row numbers.\n",
        "\n",
        "This is done using `.iloc[]`, and like `.loc[]`, it can take two arguments to let you subset by rows and columns.\n",
        "\n",
        "The `temperatures` DataFrame is available (not indexed) as it is read in the previous cells and and pandas is loaded as pd as well in the first cell.\n",
        "\n",
        "**Intructions:**\n",
        "Use `.iloc[]` on temperatures to take subsets.\n",
        "* Get the 23rd row, 2nd column (index positions 22 and 1).\n",
        "* Get the first 5 rows (index positions 0 to 5).\n",
        "* Get all rows, columns 3 and 4 (index positions 2 to 4).\n",
        "* Get the first 5 rows, columns 3 and 4.\n"
      ],
      "metadata": {
        "id": "SvcUsF13AQhY"
      }
    },
    {
      "cell_type": "code",
      "source": [
        "# Get the 23rd row, 2nd column (index positions 22 and 1)\n",
        "value_23rd_row_2nd_col = temperatures.iloc[22, 1]\n",
        "print(\"23rd row, 2nd column value:\", value_23rd_row_2nd_col)\n",
        "\n",
        "# Get the first 5 rows (index positions 0 to 4)\n",
        "first_5_rows = temperatures.iloc[0:5, :]\n",
        "print(\"First 5 rows:\\n\", first_5_rows)\n",
        "\n",
        "# Get all rows, columns 3 and 4 (index positions 2 and 3)\n",
        "all_rows_cols_3_and_4 = temperatures.iloc[:, 2:4]\n",
        "print(\"All rows, columns 3 and 4:\\n\", all_rows_cols_3_and_4)\n",
        "\n",
        "# Get the first 5 rows, columns 3 and 4\n",
        "first_5_rows_cols_3_and_4 = temperatures.iloc[0:5, 2:4]\n",
        "print(\"First 5 rows, columns 3 and 4:\\n\", first_5_rows_cols_3_and_4)\n",
        "# Get 23rd row, 2nd column (index 22, 1)\n"
      ],
      "metadata": {
        "id": "1GCAfgraB5mV",
        "colab": {
          "base_uri": "https://localhost:8080/"
        },
        "outputId": "e4c1306b-da5a-4401-c839-791ecc0b070f"
      },
      "execution_count": 27,
      "outputs": [
        {
          "output_type": "stream",
          "name": "stdout",
          "text": [
            "23rd row, 2nd column value: 2001-11-01\n",
            "First 5 rows:\n",
            "    Unnamed: 0        date     city        country  avg_temp_c\n",
            "0           0  2000-01-01  Abidjan  Côte D'Ivoire      27.293\n",
            "1           1  2000-02-01  Abidjan  Côte D'Ivoire      27.685\n",
            "2           2  2000-03-01  Abidjan  Côte D'Ivoire      29.061\n",
            "3           3  2000-04-01  Abidjan  Côte D'Ivoire      28.162\n",
            "4           4  2000-05-01  Abidjan  Côte D'Ivoire      27.547\n",
            "All rows, columns 3 and 4:\n",
            "           city        country\n",
            "0      Abidjan  Côte D'Ivoire\n",
            "1      Abidjan  Côte D'Ivoire\n",
            "2      Abidjan  Côte D'Ivoire\n",
            "3      Abidjan  Côte D'Ivoire\n",
            "4      Abidjan  Côte D'Ivoire\n",
            "...        ...            ...\n",
            "16495     Xian          China\n",
            "16496     Xian          China\n",
            "16497     Xian          China\n",
            "16498     Xian          China\n",
            "16499     Xian          China\n",
            "\n",
            "[16500 rows x 2 columns]\n",
            "First 5 rows, columns 3 and 4:\n",
            "       city        country\n",
            "0  Abidjan  Côte D'Ivoire\n",
            "1  Abidjan  Côte D'Ivoire\n",
            "2  Abidjan  Côte D'Ivoire\n",
            "3  Abidjan  Côte D'Ivoire\n",
            "4  Abidjan  Côte D'Ivoire\n"
          ]
        }
      ]
    },
    {
      "cell_type": "markdown",
      "source": [
        "# **Pivot temperature by city and year**\n",
        "\n",
        "It's interesting to see how temperatures for each city change over time—looking at every month results in a big table, which can be tricky to reason about. Instead, let's look at how temperatures change by year.\n",
        "\n",
        "You can access the components of a date (year, month and day) using code of the form `dataframe[\"column\"].dt.component`. For example, the month component is `dataframe[\"column\"].dt.month`, and the year component is `dataframe[\"column\"].dt.year`.\n",
        "\n",
        "Once you have the year column, you can create a pivot table with the data aggregated by city and year, which you'll explore in the coming exercises.\n",
        "\n",
        "The `temperatures` DataFrame is available as it is read in the previous cells and and pandas is loaded as pd as well in the first cell.\n",
        "\n",
        "**Intructions:**\n",
        "* Add a `year` column to `temperatures`, from the year component of the `date` column.\n",
        "* Make a pivot table of the `avg_temp_c` column, with `country` and `city` as rows, and `year` as columns. Assign to `temp_by_country_city_vs_year`, and look at the result.\n"
      ],
      "metadata": {
        "id": "QCV4IYPnB7CM"
      }
    },
    {
      "cell_type": "code",
      "source": [
        "# Add a year column to temperatures\n",
        "temperatures['date'] = pd.to_datetime(temperatures['date'])\n",
        "temperatures['year'] = temperatures['date'].dt.year\n",
        "# Pivot avg_temp_c by country and city vs year\n",
        "temp_by_country_city_vs_year = temperatures.pivot_table('avg_temp_c', index=['country', 'city'], columns='year')\n",
        "\n",
        "# See the result\n",
        "print(temp_by_country_city_vs_year)"
      ],
      "metadata": {
        "colab": {
          "base_uri": "https://localhost:8080/"
        },
        "id": "wGoXeZmIDJSO",
        "outputId": "319e1c6b-62ed-419d-a235-60f57d18e38d"
      },
      "execution_count": 30,
      "outputs": [
        {
          "output_type": "stream",
          "name": "stdout",
          "text": [
            "year                                 2000       2001       2002       2003  \\\n",
            "country       city                                                           \n",
            "Afghanistan   Kabul             15.822667  15.847917  15.714583  15.132583   \n",
            "Angola        Luanda            24.410333  24.427083  24.790917  24.867167   \n",
            "Australia     Melbourne         14.320083  14.180000  14.075833  13.985583   \n",
            "              Sydney            17.567417  17.854500  17.733833  17.592333   \n",
            "Bangladesh    Dhaka             25.905250  25.931250  26.095000  25.927417   \n",
            "...                                   ...        ...        ...        ...   \n",
            "United States Chicago           11.089667  11.703083  11.532083  10.481583   \n",
            "              Los Angeles       16.643333  16.466250  16.430250  16.944667   \n",
            "              New York           9.969083  10.931000  11.252167   9.836000   \n",
            "Vietnam       Ho Chi Minh City  27.588917  27.831750  28.064750  27.827667   \n",
            "Zimbabwe      Harare            20.283667  20.861000  21.079333  20.889167   \n",
            "\n",
            "year                                 2004       2005       2006       2007  \\\n",
            "country       city                                                           \n",
            "Afghanistan   Kabul             16.128417  14.847500  15.798500  15.518000   \n",
            "Angola        Luanda            24.216167  24.414583  24.138417  24.241583   \n",
            "Australia     Melbourne         13.742083  14.378500  13.991083  14.991833   \n",
            "              Sydney            17.869667  18.028083  17.749500  18.020833   \n",
            "Bangladesh    Dhaka             26.136083  26.193333  26.440417  25.951333   \n",
            "...                                   ...        ...        ...        ...   \n",
            "United States Chicago           10.943417  11.583833  11.870500  11.448333   \n",
            "              Los Angeles       16.552833  16.431417  16.623083  16.699917   \n",
            "              New York          10.389500  10.681417  11.519250  10.627333   \n",
            "Vietnam       Ho Chi Minh City  27.686583  27.884000  28.044000  27.866667   \n",
            "Zimbabwe      Harare            20.307667  21.487417  20.699750  20.746250   \n",
            "\n",
            "year                                 2008       2009       2010       2011  \\\n",
            "country       city                                                           \n",
            "Afghanistan   Kabul             15.479250  15.093333  15.676000  15.812167   \n",
            "Angola        Luanda            24.266333  24.325083  24.440250  24.150750   \n",
            "Australia     Melbourne         14.110583  14.647417  14.231667  14.190917   \n",
            "              Sydney            17.321083  18.175833  17.999000  17.713333   \n",
            "Bangladesh    Dhaka             26.004500  26.535583  26.648167  25.803250   \n",
            "...                                   ...        ...        ...        ...   \n",
            "United States Chicago           10.242417  10.298333  11.815917  11.214250   \n",
            "              Los Angeles       17.014750  16.677000  15.887000  15.874833   \n",
            "              New York          10.641667  10.141833  11.357583  11.272250   \n",
            "Vietnam       Ho Chi Minh City  27.611417  27.853333  28.281750  27.675417   \n",
            "Zimbabwe      Harare            20.680500  20.523833  21.165833  20.781750   \n",
            "\n",
            "year                                 2012       2013  \n",
            "country       city                                    \n",
            "Afghanistan   Kabul             14.510333  16.206125  \n",
            "Angola        Luanda            24.240083  24.553875  \n",
            "Australia     Melbourne         14.268667  14.741500  \n",
            "              Sydney            17.474333  18.089750  \n",
            "Bangladesh    Dhaka             26.283583  26.587000  \n",
            "...                                   ...        ...  \n",
            "United States Chicago           12.821250  11.586889  \n",
            "              Los Angeles       17.089583  18.120667  \n",
            "              New York          11.971500  12.163889  \n",
            "Vietnam       Ho Chi Minh City  28.248750  28.455000  \n",
            "Zimbabwe      Harare            20.523333  19.756500  \n",
            "\n",
            "[100 rows x 14 columns]\n"
          ]
        }
      ]
    },
    {
      "cell_type": "markdown",
      "source": [
        "# **Subsetting pivot tables**\n",
        "\n",
        "A pivot table is just a DataFrame with sorted indexes, so the techniques you have learned already can be used to subset them. In particular, the `.loc[]` + slicing combination is often helpful.\n",
        "\n",
        "The `temp_by_country_city_vs_year` pivot table DataFrame is available as it is read in the previous cells and and pandas is loaded as pd as well in the first cell. Do the following exercises based this.\n",
        "\n",
        "**Intructions: **\n",
        "\n",
        "Use `.loc[]` on `temp_by_country_city_vs_year` to take subsets.\n",
        "* From `Egypt` to `India`.\n",
        "* From `Egypt, Cairo` to `India, Delhi`.\n",
        "* From `Egypt, Cairo` to `India, Delhi`, and `2005` to `2010`.\n"
      ],
      "metadata": {
        "id": "BWkzzLVEHHIz"
      }
    },
    {
      "cell_type": "code",
      "source": [
        "\n",
        "# Subset from Egypt to Indiatemperatures['date'] = pd.to_datetime(temperatures['date'])\n",
        "temperatures['year'] = temperatures['date'].dt.year\n",
        "temp_by_country_city_vs_year = temperatures.pivot_table('avg_temp_c', index=['country', 'city'], columns='year')\n",
        "subset_egypt_to_india = temp_by_country_city_vs_year.loc[\"Egypt\":\"India\", :]\n",
        "print(\"Subset from Egypt to India:\")\n",
        "print(subset_egypt_to_india)\n",
        "\n",
        "# Subset from Egypt, Cairo to India, Delhi\n",
        "subset_egypt_cairo_to_india_delhi = temp_by_country_city_vs_year.loc[(\"Egypt\", \"Cairo\"):(\"India\", \"Delhi\"), :]\n",
        "print(\"\\nSubset from Egypt, Cairo to India, Delhi:\")\n",
        "print(subset_egypt_cairo_to_india_delhi)\n",
        "\n",
        "# Subset from Egypt, Cairo to India, Delhi, and 2005 to 2010\n",
        "subset_egypt_cairo_india_delhi_2005_2010 = temp_by_country_city_vs_year.loc[\n",
        "    (\"Egypt\", \"Cairo\"):(\"India\", \"Delhi\"), 2005:2010\n",
        "]\n",
        "print(\"\\nSubset from Egypt, Cairo to India, Delhi, and 2005 to 2010:\")\n",
        "print(subset_egypt_cairo_india_delhi_2005_2010)\n",
        "temp_by_country_city_vs_year = temperatures.pivot_table('avg_temp_c', index=['country', 'city'], columns='year')\n",
        "\n"
      ],
      "metadata": {
        "id": "rxAP7kUrIKRN",
        "colab": {
          "base_uri": "https://localhost:8080/"
        },
        "outputId": "9e5870b0-40cb-4452-b7a0-a98d11e45c34"
      },
      "execution_count": 31,
      "outputs": [
        {
          "output_type": "stream",
          "name": "stdout",
          "text": [
            "Subset from Egypt to India:\n",
            "year                       2000       2001       2002       2003       2004  \\\n",
            "country  city                                                                 \n",
            "Egypt    Alexandria   20.744500  21.454583  21.456167  21.221417  21.064167   \n",
            "         Cairo        21.486167  22.330833  22.414083  22.170500  22.081917   \n",
            "         Gizeh        21.486167  22.330833  22.414083  22.170500  22.081917   \n",
            "Ethiopia Addis Abeba  18.241250  18.296417  18.469750  18.320917  18.292750   \n",
            "France   Paris        11.739667  11.371250  11.871333  11.909500  11.338833   \n",
            "Germany  Berlin       10.963667   9.690250  10.264417  10.065750   9.822583   \n",
            "India    Ahmadabad    27.436000  27.198083  27.719083  27.403833  27.628333   \n",
            "         Bangalore    25.337917  25.528167  25.755333  25.924750  25.252083   \n",
            "         Bombay       27.203667  27.243667  27.628667  27.578417  27.318750   \n",
            "         Calcutta     26.491333  26.515167  26.703917  26.561333  26.634333   \n",
            "         Delhi        26.048333  25.862917  26.634333  25.721083  26.239917   \n",
            "         Hyderabad    27.231833  27.555167  27.665167  27.844583  27.228500   \n",
            "         Jaipur       26.430250  26.023000  27.031667  26.027417  26.642167   \n",
            "         Kanpur       25.353917  25.326500  26.116833  25.409083  25.586500   \n",
            "         Lakhnau      25.353917  25.326500  26.116833  25.409083  25.586500   \n",
            "         Madras       28.811667  29.162917  29.246500  29.273083  28.810917   \n",
            "         Nagpur       26.181417  26.321667  26.753000  26.503833  26.406333   \n",
            "         New Delhi    26.048333  25.862917  26.634333  25.721083  26.239917   \n",
            "         Pune         25.110917  25.337833  25.583000  25.748417  25.316167   \n",
            "         Surat        27.029000  26.897250  27.347750  27.230917  27.290583   \n",
            "\n",
            "year                       2005       2006       2007       2008       2009  \\\n",
            "country  city                                                                 \n",
            "Egypt    Alexandria   21.082333  21.148167  21.507750  21.739000  21.670500   \n",
            "         Cairo        22.006500  22.050000  22.361000  22.644500  22.625000   \n",
            "         Gizeh        22.006500  22.050000  22.361000  22.644500  22.625000   \n",
            "Ethiopia Addis Abeba  18.312833  18.427083  18.142583  18.165000  18.765333   \n",
            "France   Paris        11.552917  11.788500  11.750833  11.278250  11.464083   \n",
            "Germany  Berlin        9.919083  10.545333  10.883167  10.657750  10.062500   \n",
            "India    Ahmadabad    26.828083  27.282833  27.511167  27.048500  28.095833   \n",
            "         Bangalore    25.476500  25.418250  25.464333  25.352583  25.725750   \n",
            "         Bombay       27.035750  27.381500  27.634667  27.177750  27.844500   \n",
            "         Calcutta     26.729167  26.986250  26.584583  26.522333  27.153250   \n",
            "         Delhi        25.716083  26.365917  26.145667  25.675000  26.554250   \n",
            "         Hyderabad    27.488833  27.471000  27.545333  27.446667  28.026500   \n",
            "         Jaipur       25.772250  26.429833  26.267000  25.877583  26.919500   \n",
            "         Kanpur       25.621500  25.848833  25.436083  25.109750  25.987083   \n",
            "         Lakhnau      25.621500  25.848833  25.436083  25.109750  25.987083   \n",
            "         Madras       29.099417  29.073250  28.970167  29.024083  29.417417   \n",
            "         Nagpur       26.229167  26.374833  26.393667  26.188000  27.138917   \n",
            "         New Delhi    25.716083  26.365917  26.145667  25.675000  26.554250   \n",
            "         Pune         25.085583  25.310167  25.584833  25.230250  25.868250   \n",
            "         Surat        26.724500  27.149417  27.311750  26.828750  27.819833   \n",
            "\n",
            "year                       2010       2011       2012       2013  \n",
            "country  city                                                     \n",
            "Egypt    Alexandria   22.459583  21.181500  21.552583  21.438500  \n",
            "         Cairo        23.718250  21.986917  22.484250  22.907000  \n",
            "         Gizeh        23.718250  21.986917  22.484250  22.907000  \n",
            "Ethiopia Addis Abeba  18.298250  18.606750  18.448583  19.539000  \n",
            "France   Paris        10.409833  12.325750  11.219917  11.011625  \n",
            "Germany  Berlin        8.606833  10.556417   9.964333  10.121500  \n",
            "India    Ahmadabad    28.017833  27.290417  27.027250  27.608625  \n",
            "         Bangalore    25.705250  25.362083  26.042333  26.610500  \n",
            "         Bombay       27.765417  27.384917  27.192500  26.713000  \n",
            "         Calcutta     27.288833  26.406917  26.935083  27.369250  \n",
            "         Delhi        26.520250  25.629500  25.889417  26.709250  \n",
            "         Hyderabad    27.693417  27.408833  28.018583  28.851250  \n",
            "         Jaipur       26.818417  25.916500  25.884500  26.844125  \n",
            "         Kanpur       26.021750  25.062083  25.445417  26.121250  \n",
            "         Lakhnau      26.021750  25.062083  25.445417  26.121250  \n",
            "         Madras       29.047333  29.063167  29.778417  30.411750  \n",
            "         Nagpur       26.927000  26.004667  26.327917  27.112375  \n",
            "         New Delhi    26.520250  25.629500  25.889417  26.709250  \n",
            "         Pune         25.749167  25.161417  25.296833  25.847625  \n",
            "         Surat        27.681667  27.016583  26.889250  27.437750  \n",
            "\n",
            "Subset from Egypt, Cairo to India, Delhi:\n",
            "year                       2000       2001       2002       2003       2004  \\\n",
            "country  city                                                                 \n",
            "Egypt    Cairo        21.486167  22.330833  22.414083  22.170500  22.081917   \n",
            "         Gizeh        21.486167  22.330833  22.414083  22.170500  22.081917   \n",
            "Ethiopia Addis Abeba  18.241250  18.296417  18.469750  18.320917  18.292750   \n",
            "France   Paris        11.739667  11.371250  11.871333  11.909500  11.338833   \n",
            "Germany  Berlin       10.963667   9.690250  10.264417  10.065750   9.822583   \n",
            "India    Ahmadabad    27.436000  27.198083  27.719083  27.403833  27.628333   \n",
            "         Bangalore    25.337917  25.528167  25.755333  25.924750  25.252083   \n",
            "         Bombay       27.203667  27.243667  27.628667  27.578417  27.318750   \n",
            "         Calcutta     26.491333  26.515167  26.703917  26.561333  26.634333   \n",
            "         Delhi        26.048333  25.862917  26.634333  25.721083  26.239917   \n",
            "\n",
            "year                       2005       2006       2007       2008       2009  \\\n",
            "country  city                                                                 \n",
            "Egypt    Cairo        22.006500  22.050000  22.361000  22.644500  22.625000   \n",
            "         Gizeh        22.006500  22.050000  22.361000  22.644500  22.625000   \n",
            "Ethiopia Addis Abeba  18.312833  18.427083  18.142583  18.165000  18.765333   \n",
            "France   Paris        11.552917  11.788500  11.750833  11.278250  11.464083   \n",
            "Germany  Berlin        9.919083  10.545333  10.883167  10.657750  10.062500   \n",
            "India    Ahmadabad    26.828083  27.282833  27.511167  27.048500  28.095833   \n",
            "         Bangalore    25.476500  25.418250  25.464333  25.352583  25.725750   \n",
            "         Bombay       27.035750  27.381500  27.634667  27.177750  27.844500   \n",
            "         Calcutta     26.729167  26.986250  26.584583  26.522333  27.153250   \n",
            "         Delhi        25.716083  26.365917  26.145667  25.675000  26.554250   \n",
            "\n",
            "year                       2010       2011       2012       2013  \n",
            "country  city                                                     \n",
            "Egypt    Cairo        23.718250  21.986917  22.484250  22.907000  \n",
            "         Gizeh        23.718250  21.986917  22.484250  22.907000  \n",
            "Ethiopia Addis Abeba  18.298250  18.606750  18.448583  19.539000  \n",
            "France   Paris        10.409833  12.325750  11.219917  11.011625  \n",
            "Germany  Berlin        8.606833  10.556417   9.964333  10.121500  \n",
            "India    Ahmadabad    28.017833  27.290417  27.027250  27.608625  \n",
            "         Bangalore    25.705250  25.362083  26.042333  26.610500  \n",
            "         Bombay       27.765417  27.384917  27.192500  26.713000  \n",
            "         Calcutta     27.288833  26.406917  26.935083  27.369250  \n",
            "         Delhi        26.520250  25.629500  25.889417  26.709250  \n",
            "\n",
            "Subset from Egypt, Cairo to India, Delhi, and 2005 to 2010:\n",
            "year                       2005       2006       2007       2008       2009  \\\n",
            "country  city                                                                 \n",
            "Egypt    Cairo        22.006500  22.050000  22.361000  22.644500  22.625000   \n",
            "         Gizeh        22.006500  22.050000  22.361000  22.644500  22.625000   \n",
            "Ethiopia Addis Abeba  18.312833  18.427083  18.142583  18.165000  18.765333   \n",
            "France   Paris        11.552917  11.788500  11.750833  11.278250  11.464083   \n",
            "Germany  Berlin        9.919083  10.545333  10.883167  10.657750  10.062500   \n",
            "India    Ahmadabad    26.828083  27.282833  27.511167  27.048500  28.095833   \n",
            "         Bangalore    25.476500  25.418250  25.464333  25.352583  25.725750   \n",
            "         Bombay       27.035750  27.381500  27.634667  27.177750  27.844500   \n",
            "         Calcutta     26.729167  26.986250  26.584583  26.522333  27.153250   \n",
            "         Delhi        25.716083  26.365917  26.145667  25.675000  26.554250   \n",
            "\n",
            "year                       2010  \n",
            "country  city                    \n",
            "Egypt    Cairo        23.718250  \n",
            "         Gizeh        23.718250  \n",
            "Ethiopia Addis Abeba  18.298250  \n",
            "France   Paris        10.409833  \n",
            "Germany  Berlin        8.606833  \n",
            "India    Ahmadabad    28.017833  \n",
            "         Bangalore    25.705250  \n",
            "         Bombay       27.765417  \n",
            "         Calcutta     27.288833  \n",
            "         Delhi        26.520250  \n"
          ]
        }
      ]
    },
    {
      "cell_type": "markdown",
      "source": [
        "# **Calculating on a pivot table**\n",
        "\n",
        "Pivot tables are filled with summary statistics, but they are only a first step to finding something insightful. Often you'll need to perform further calculations on them. A common thing to do is to find the rows or columns where the highest or lowest value occurs.\n",
        "\n",
        "Recall previous sections that you can easily subset a Series or DataFrame to find rows of interest using a logical condition inside of square brackets. For example: `series[series > value].`\n",
        "\n",
        "The `temp_by_country_city_vs_year` pivot table DataFrame is available as it is read in the previous cells and and pandas is loaded as pd as well in the first cell. Do the following exercises based this.\n",
        "\n",
        "**Intructions: **\n",
        "* Calculate the mean `temperature` for each year, assigning to `mean_temp_by_year`.\n",
        "* Filter `mean_temp_by_year` for the `year` that had the highest mean temperature.\n",
        "* Calculate the mean temperature for each city (across columns), assigning to `mean_temp_by_city`.\n",
        "* Filter `mean_temp_by_city` for the `city` that had the lowest mean temperature.\n",
        "\n"
      ],
      "metadata": {
        "id": "k1Wc0_cqI-3n"
      }
    },
    {
      "cell_type": "code",
      "source": [
        "# Get the worldwide mean temp by year\n",
        "mean_temp_by_year = temp_by_country_city_vs_year.mean(axis=0)\n",
        "print(\"Mean temperature for each year:\")\n",
        "print(mean_temp_by_year)\n",
        "highest_mean_temp_year = mean_temp_by_year[mean_temp_by_year == mean_temp_by_year.max()]\n",
        "print(\"Year with the highest mean temperature:\")\n",
        "print(highest_mean_temp_year)\n",
        "lowest_mean_temp_city = mean_temp_by_city[mean_temp_by_city == mean_temp_by_city.min()]\n",
        "print(\"City with the lowest mean temperature:\")\n",
        "print(lowest_mean_temp_city)\n",
        "\n"
      ],
      "metadata": {
        "id": "ruA-oX8qJzIi",
        "colab": {
          "base_uri": "https://localhost:8080/"
        },
        "outputId": "eb15dc2d-e80a-4963-856d-84b1d469a69a"
      },
      "execution_count": 34,
      "outputs": [
        {
          "output_type": "stream",
          "name": "stdout",
          "text": [
            "Mean temperature for each year:\n",
            "year\n",
            "2000    19.506243\n",
            "2001    19.679352\n",
            "2002    19.855685\n",
            "2003    19.630197\n",
            "2004    19.672204\n",
            "2005    19.607239\n",
            "2006    19.793993\n",
            "2007    19.854270\n",
            "2008    19.608778\n",
            "2009    19.833752\n",
            "2010    19.911734\n",
            "2011    19.549197\n",
            "2012    19.668239\n",
            "2013    20.312285\n",
            "dtype: float64\n",
            "Year with the highest mean temperature:\n",
            "year\n",
            "2013    20.312285\n",
            "dtype: float64\n",
            "City with the lowest mean temperature:\n",
            "country  city  \n",
            "China    Harbin    4.876551\n",
            "dtype: float64\n"
          ]
        }
      ]
    }
  ]
}