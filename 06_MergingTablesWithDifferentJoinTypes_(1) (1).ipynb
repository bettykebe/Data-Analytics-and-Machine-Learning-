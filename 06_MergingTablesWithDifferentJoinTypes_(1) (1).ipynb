{
  "nbformat": 4,
  "nbformat_minor": 0,
  "metadata": {
    "colab": {
      "provenance": []
    },
    "kernelspec": {
      "name": "python3",
      "display_name": "Python 3"
    },
    "language_info": {
      "name": "python"
    },
    "widgets": {
      "application/vnd.jupyter.widget-state+json": {
        "7c135d11e51e43729ad3ce3597df3104": {
          "model_module": "@jupyter-widgets/controls",
          "model_name": "RadioButtonsModel",
          "model_module_version": "1.5.0",
          "state": {
            "_dom_classes": [],
            "_model_module": "@jupyter-widgets/controls",
            "_model_module_version": "1.5.0",
            "_model_name": "RadioButtonsModel",
            "_options_labels": [
              "on='budget'",
              "on='popularity'",
              "on='id'"
            ],
            "_view_count": null,
            "_view_module": "@jupyter-widgets/controls",
            "_view_module_version": "1.5.0",
            "_view_name": "RadioButtonsView",
            "description": "1. What column is likely the best column to merge the two tables on? on='budget' on='popularity' on='id'",
            "description_tooltip": null,
            "disabled": false,
            "index": 2,
            "layout": "IPY_MODEL_4353b59d32af4fb1a6ff493de7f5594f",
            "style": "IPY_MODEL_80fd331a675e4693bcd092f37ae06bb8"
          }
        },
        "4353b59d32af4fb1a6ff493de7f5594f": {
          "model_module": "@jupyter-widgets/base",
          "model_name": "LayoutModel",
          "model_module_version": "1.2.0",
          "state": {
            "_model_module": "@jupyter-widgets/base",
            "_model_module_version": "1.2.0",
            "_model_name": "LayoutModel",
            "_view_count": null,
            "_view_module": "@jupyter-widgets/base",
            "_view_module_version": "1.2.0",
            "_view_name": "LayoutView",
            "align_content": null,
            "align_items": null,
            "align_self": null,
            "border": null,
            "bottom": null,
            "display": null,
            "flex": null,
            "flex_flow": null,
            "grid_area": null,
            "grid_auto_columns": null,
            "grid_auto_flow": null,
            "grid_auto_rows": null,
            "grid_column": null,
            "grid_gap": null,
            "grid_row": null,
            "grid_template_areas": null,
            "grid_template_columns": null,
            "grid_template_rows": null,
            "height": null,
            "justify_content": null,
            "justify_items": null,
            "left": null,
            "margin": null,
            "max_height": null,
            "max_width": null,
            "min_height": null,
            "min_width": null,
            "object_fit": null,
            "object_position": null,
            "order": null,
            "overflow": null,
            "overflow_x": null,
            "overflow_y": null,
            "padding": null,
            "right": null,
            "top": null,
            "visibility": null,
            "width": null
          }
        },
        "80fd331a675e4693bcd092f37ae06bb8": {
          "model_module": "@jupyter-widgets/controls",
          "model_name": "DescriptionStyleModel",
          "model_module_version": "1.5.0",
          "state": {
            "_model_module": "@jupyter-widgets/controls",
            "_model_module_version": "1.5.0",
            "_model_name": "DescriptionStyleModel",
            "_view_count": null,
            "_view_module": "@jupyter-widgets/base",
            "_view_module_version": "1.2.0",
            "_view_name": "StyleView",
            "description_width": ""
          }
        }
      }
    }
  },
  "cells": [
    {
      "cell_type": "code",
      "source": [
        "import pandas as pd\n",
        "import numpy as np"
      ],
      "metadata": {
        "id": "YpK5n22A6QJp",
        "colab": {
          "base_uri": "https://localhost:8080/",
          "height": 17
        },
        "outputId": "fc902230-0371-440e-e9a1-f867cbe5032b"
      },
      "execution_count": null,
      "outputs": [
        {
          "output_type": "display_data",
          "data": {
            "text/plain": [
              "<IPython.core.display.HTML object>"
            ],
            "text/html": [
              "\n",
              "            <style>\n",
              "                .geemap-dark {\n",
              "                    --jp-widgets-color: white;\n",
              "                    --jp-widgets-label-color: white;\n",
              "                    --jp-ui-font-color1: white;\n",
              "                    --jp-layout-color2: #454545;\n",
              "                    background-color: #383838;\n",
              "                }\n",
              "\n",
              "                .geemap-dark .jupyter-button {\n",
              "                    --jp-layout-color3: #383838;\n",
              "                }\n",
              "\n",
              "                .geemap-colab {\n",
              "                    background-color: var(--colab-primary-surface-color, white);\n",
              "                }\n",
              "\n",
              "                .geemap-colab .jupyter-button {\n",
              "                    --jp-layout-color3: var(--colab-primary-surface-color, white);\n",
              "                }\n",
              "            </style>\n",
              "            "
            ]
          },
          "metadata": {}
        }
      ]
    },
    {
      "cell_type": "markdown",
      "source": [
        "# **Counting missing rows with left join**\n",
        "\n",
        "The Movie Database is supported by volunteers going out into the world, collecting data, and entering it into the database. This includes financial data, such as movie budget and revenue. If you wanted to know which movies are still missing data, you could use a left join to identify them. Practice using a left join by merging the `movies` table and the `financials` table.\n",
        "\n",
        "The `movies` and `financials` tables have been loaded for you in the first lines of the codecell given below.\n",
        "\n",
        "\n",
        "**Instructions:**"
      ],
      "metadata": {
        "id": "eGcwtkah0-WT"
      }
    },
    {
      "cell_type": "code",
      "source": [
        "#Load movies DataFrame from the dataset file\n",
        "import pandas as pd\n",
        "movies = pd.read_pickle(\"https://raw.githubusercontent.com/DataAnalyst21/DatasetsForDataAnalytics/main/movies.p\")\n",
        "#Load financials DataFrame from the dataset file\n",
        "financials = pd.read_pickle(\"https://raw.githubusercontent.com/DataAnalyst21/DatasetsForDataAnalytics/main/financials.p\")\n",
        "\n",
        "#Explore the first few rows of data from movies and financials\n",
        "print(movies.head())\n",
        "print(financials.head())"
      ],
      "metadata": {
        "colab": {
          "base_uri": "https://localhost:8080/"
        },
        "id": "MUCr_g3a6GFI",
        "outputId": "da97b41e-4786-4632-c01a-03a7136e2cf3"
      },
      "execution_count": null,
      "outputs": [
        {
          "output_type": "stream",
          "name": "stdout",
          "text": [
            "      id                 title  popularity release_date\n",
            "0    257          Oliver Twist   20.415572   2005-09-23\n",
            "1  14290  Better Luck Tomorrow    3.877036   2002-01-12\n",
            "2  38365             Grown Ups   38.864027   2010-06-24\n",
            "3   9672              Infamous    3.680896   2006-11-16\n",
            "4  12819       Alpha and Omega   12.300789   2010-09-17\n",
            "       id     budget       revenue\n",
            "0   19995  237000000  2.787965e+09\n",
            "1     285  300000000  9.610000e+08\n",
            "2  206647  245000000  8.806746e+08\n",
            "3   49026  250000000  1.084939e+09\n",
            "4   49529  260000000  2.841391e+08\n"
          ]
        }
      ]
    },
    {
      "cell_type": "code",
      "execution_count": null,
      "metadata": {
        "colab": {
          "base_uri": "https://localhost:8080/",
          "height": 115,
          "referenced_widgets": [
            "7c135d11e51e43729ad3ce3597df3104",
            "4353b59d32af4fb1a6ff493de7f5594f",
            "80fd331a675e4693bcd092f37ae06bb8"
          ]
        },
        "id": "lUiAsVYt0zmY",
        "outputId": "d1afa97d-4abe-4027-a9e0-0627e5d73e47"
      },
      "outputs": [
        {
          "output_type": "display_data",
          "data": {
            "text/plain": [
              "RadioButtons(description=\"1. What column is likely the best column to merge the two tables on? on='budget' on=…"
            ],
            "application/vnd.jupyter.widget-view+json": {
              "version_major": 2,
              "version_minor": 0,
              "model_id": "7c135d11e51e43729ad3ce3597df3104"
            }
          },
          "metadata": {
            "application/vnd.jupyter.widget-view+json": {
              "colab": {
                "custom_widget_manager": {
                  "url": "https://ssl.gstatic.com/colaboratory-static/widgets/colab-cdn-widget-manager/2b70e893a8ba7c0f/manager.min.js"
                }
              }
            }
          }
        }
      ],
      "source": [
        "import ee\n",
        "import geemap\n",
        "import ipyleaflet\n",
        "import ipywidgets as widgets\n",
        "radio_buttons = widgets.RadioButtons(\n",
        "    options=[\"on='budget'\", \"on='popularity'\", \"on='id'\"], value=\"on='id'\", description=\"1. What column is likely the best column to merge the two tables on? on='budget' on='popularity' on='id'\"\n",
        ")\n",
        "radio_buttons"
      ]
    },
    {
      "cell_type": "markdown",
      "source": [
        "**Instructions: (Continued)**\n",
        "* Merge the `movies` table, as the left table, with the `financials` table using a left join, and save the result to `movies_financials`.\n",
        "* Count the number of rows in `movies_financials` with a null value in the `budget` column."
      ],
      "metadata": {
        "id": "9d7c3g_t_Hd9"
      }
    },
    {
      "cell_type": "code",
      "source": [
        "# Merge movies and financials with a left join\n",
        "import pandas as pd\n",
        "\n",
        "# Load the data\n",
        "movies = pd.read_pickle(\"https://raw.githubusercontent.com/DataAnalyst21/DatasetsForDataAnalytics/main/movies.p\")\n",
        "financials = pd.read_pickle(\"https://raw.githubusercontent.com/DataAnalyst21/DatasetsForDataAnalytics/main/financials.p\")\n",
        "\n",
        "# Merge the movies and financials DataFrames using a left join\n",
        "movies_financials = pd.merge(movies, financials, on='id', how='left')\n",
        "\n",
        "# Count rows with null values in the 'budget' column\n",
        "null_budget_count = movies_financials['budget'].isnull().sum()\n",
        "\n",
        "# Print the result\n",
        "print(f\"Number of rows with null values in the 'budget' column: {null_budget_count}\")\n",
        "\n"
      ],
      "metadata": {
        "id": "q4PsMvUP_eai",
        "colab": {
          "base_uri": "https://localhost:8080/"
        },
        "outputId": "5720a177-af55-443e-82e1-79b26e1fd528"
      },
      "execution_count": 6,
      "outputs": [
        {
          "output_type": "stream",
          "name": "stdout",
          "text": [
            "Number of rows with null values in the 'budget' column: 1574\n"
          ]
        }
      ]
    },
    {
      "cell_type": "markdown",
      "source": [
        "# **Enriching a dataset**\n",
        "\n",
        "Setting `how='left'` with the `.merge()` method is a useful technique for enriching or enhancing a dataset with additional information from a different table. In this exercise, you will start off with a sample of movie data from the movie series Toy Story. Your goal is to enrich this data by adding the marketing tag line for each movie. You will compare the results of a left join versus an inner join.\n",
        "\n",
        "The `toy_story` DataFrame contains the Toy Story movies. The `toy_story` and `taglines` DataFrames have been loaded in the first lines of the codecell given below.\n",
        "\n",
        "Instructions:\n",
        "1. Merge `toy_story` and `taglines` on the `id` column with a left join, and save the result as `toystory_tag`.\n",
        "\n",
        "2. The with `toy_story` as the left table, merge to it `taglines` on the `id` column with an inner join, and save as `toystory_tag`.\n"
      ],
      "metadata": {
        "id": "xY1yhekPWUah"
      }
    },
    {
      "cell_type": "code",
      "source": [
        "#Load taglines DataFrame from dataset file\n",
        "taglines = pd.read_pickle(\"https://raw.githubusercontent.com/DataAnalyst21/DatasetsForDataAnalytics/main/taglines.p\")\n",
        "\n",
        "#Load movie_genres DataFrame from dataset file\n",
        "movie_genres = pd.read_pickle(\"https://raw.githubusercontent.com/DataAnalyst21/DatasetsForDataAnalytics/main/movie_to_genres.p\")\n",
        "\n",
        "#Filter the Toy Story genre movies from movie_genres\n",
        "toy_story = movies[movies['title'].str.contains('Toy Story')]\n",
        "\n",
        "#Explore the first few rows from taglines, toy_story and movie_genres\n",
        "print(taglines.head())\n",
        "print(movie_genres.head())\n",
        "print(toy_story.head())\n",
        "\n",
        "\n",
        "\n",
        "# Merge the toy_story and taglines tables with a left join\n",
        "toystory_tag = pd.merge(toy_story, taglines, on='id', how='left')\n",
        "\n",
        "\n",
        "# Print the rows and shape of toystory_tag\n",
        "print(toystory_tag)\n",
        "print(toystory_tag.shape)\n",
        "\n",
        "# Inner join: toy_story as the left table\n",
        "scifi_only_movies = movies.merge(scifi_only, left_on='id', right_on='movie_id', how='inner')\n",
        "\n",
        "\n",
        "\n",
        "\n",
        "# Print the rows and shape of toystory_tag\n",
        "print(toystory_tag_inner)\n",
        "print(toystory_tag_inner.shape)"
      ],
      "metadata": {
        "id": "vDaxWu8lXHWr",
        "colab": {
          "base_uri": "https://localhost:8080/",
          "height": 600
        },
        "outputId": "221f6c02-ce9a-4575-c292-bc063faea5de"
      },
      "execution_count": 7,
      "outputs": [
        {
          "output_type": "stream",
          "name": "stdout",
          "text": [
            "       id                                         tagline\n",
            "0   19995                     Enter the World of Pandora.\n",
            "1     285  At the end of the world, the adventure begins.\n",
            "2  206647                           A Plan No One Escapes\n",
            "3   49026                                 The Legend Ends\n",
            "4   49529            Lost in our world, found in another.\n",
            "   movie_id            genre\n",
            "0         5            Crime\n",
            "1         5           Comedy\n",
            "2        11  Science Fiction\n",
            "3        11           Action\n",
            "4        11        Adventure\n",
            "         id        title  popularity release_date\n",
            "103   10193  Toy Story 3   59.995418   2010-06-16\n",
            "2637    863  Toy Story 2   73.575118   1999-10-30\n",
            "3716    862    Toy Story   73.640445   1995-10-30\n",
            "      id        title  popularity release_date                   tagline\n",
            "0  10193  Toy Story 3   59.995418   2010-06-16  No toy gets left behind.\n",
            "1    863  Toy Story 2   73.575118   1999-10-30        The toys are back!\n",
            "2    862    Toy Story   73.640445   1995-10-30                       NaN\n",
            "(3, 5)\n"
          ]
        },
        {
          "output_type": "error",
          "ename": "NameError",
          "evalue": "name 'scifi_only' is not defined",
          "traceback": [
            "\u001b[0;31m---------------------------------------------------------------------------\u001b[0m",
            "\u001b[0;31mNameError\u001b[0m                                 Traceback (most recent call last)",
            "\u001b[0;32m<ipython-input-7-42af132b1259>\u001b[0m in \u001b[0;36m<cell line: 26>\u001b[0;34m()\u001b[0m\n\u001b[1;32m     24\u001b[0m \u001b[0;34m\u001b[0m\u001b[0m\n\u001b[1;32m     25\u001b[0m \u001b[0;31m# Inner join: toy_story as the left table\u001b[0m\u001b[0;34m\u001b[0m\u001b[0;34m\u001b[0m\u001b[0m\n\u001b[0;32m---> 26\u001b[0;31m \u001b[0mscifi_only_movies\u001b[0m \u001b[0;34m=\u001b[0m \u001b[0mmovies\u001b[0m\u001b[0;34m.\u001b[0m\u001b[0mmerge\u001b[0m\u001b[0;34m(\u001b[0m\u001b[0mscifi_only\u001b[0m\u001b[0;34m,\u001b[0m \u001b[0mleft_on\u001b[0m\u001b[0;34m=\u001b[0m\u001b[0;34m'id'\u001b[0m\u001b[0;34m,\u001b[0m \u001b[0mright_on\u001b[0m\u001b[0;34m=\u001b[0m\u001b[0;34m'movie_id'\u001b[0m\u001b[0;34m,\u001b[0m \u001b[0mhow\u001b[0m\u001b[0;34m=\u001b[0m\u001b[0;34m'inner'\u001b[0m\u001b[0;34m)\u001b[0m\u001b[0;34m\u001b[0m\u001b[0;34m\u001b[0m\u001b[0m\n\u001b[0m\u001b[1;32m     27\u001b[0m \u001b[0;34m\u001b[0m\u001b[0m\n\u001b[1;32m     28\u001b[0m \u001b[0;34m\u001b[0m\u001b[0m\n",
            "\u001b[0;31mNameError\u001b[0m: name 'scifi_only' is not defined"
          ]
        }
      ]
    },
    {
      "cell_type": "markdown",
      "source": [
        "# **Right join to find unique movies**\n",
        "\n",
        "Most of the recent big-budget science fiction movies can also be classified as action movies. You are given a table of science fiction movies called `scifi_movies` and another table of action movies called `action_movies`. Your goal is to find which movies are considered only science fiction movies. Once you have this table, you can merge the `movies` table in to see the movie names. Since this exercise is related to science fiction movies, use a right join as your superhero power to solve this problem.\n",
        "\n",
        "The `movies` table is loaded in one of the previous codecells and `scifi_movies`, and `action_movies` tables have been filtered and assigned to in the first few lines in the codecell below.\n",
        "\n",
        "**Instructions:**\n",
        "\n",
        "1. Merge `action_movies` and `scifi_movies` tables with a right join on `movie_id`. Save the result as `action_scifi`.\n",
        "2. Update the merge to add suffixes, where `'_act'` and `'_sci'` are suffixes for the left and right tables, respectively.\n",
        "\n",
        "3. From `action_scifi`, subset only the rows where the `genre_act` column is null.\n",
        "\n",
        "4. Merge `movies` and `scifi_only` using the `id` column in the left table and the `movie_id` column in the right table with an inner join.\n",
        "\n"
      ],
      "metadata": {
        "id": "dDtZsh9maZDI"
      }
    },
    {
      "cell_type": "code",
      "source": [
        "#Filtering scifi_movies and action_movies from movie_genres\n",
        "scifi_movies = movie_genres[movie_genres['genre'] == 'Science Fiction']\n",
        "action_movies = movie_genres[movie_genres['genre'] == 'Action']\n",
        "\n",
        "#Exploring the first few rows of scifi_movies and action_movies\n",
        "print(scifi_movies.head())\n",
        "print(action_movies.head())\n",
        "\n",
        "# 1. Merge action_movies to scifi_movies with right join\n",
        "action_scifi = action_movies.merge(scifi_movies, on='movie_id', how='right')\n",
        "\n",
        "\n",
        "# Print the first few rows of action_scifi to see the structure\n",
        "print(action_scifi.head())\n",
        "\n",
        "# 2. Merge action_movies to scifi_movies with right join with suffixes\n",
        "action_scifi = action_movies.merge(scifi_movies, on='movie_id', how='right',suffixes=('_act', '_scifi'))\n",
        "\n",
        "\n",
        "# Print the first few rows of action_scifi to see the structure\n",
        "print(action_scifi.head())\n",
        "\n",
        "# 3. From action_scifi, select only the rows where the genre_act column is null\n",
        "scifi_only = action_scifi[action_scifi['genre_act'].isnull()]\n",
        "\n",
        "# 4. Merge the movies and scifi_only tables with an inner join\n",
        "scifi_only_movies = movies.merge(scifi_only, left_on='id', right_on='movie_id', how='inner')\n",
        "\n",
        "\n",
        "# Print the first few rows and shape of movies_and_scifi_only\n",
        "print(movies_and_scifi_only.head())\n",
        "print(movies_and_scifi_only.shape)"
      ],
      "metadata": {
        "id": "lmqVwmjczc5H",
        "colab": {
          "base_uri": "https://localhost:8080/",
          "height": 636
        },
        "outputId": "6bdd3fd1-4b45-4748-8e08-6d804793fe42"
      },
      "execution_count": 8,
      "outputs": [
        {
          "output_type": "stream",
          "name": "stdout",
          "text": [
            "    movie_id            genre\n",
            "2         11  Science Fiction\n",
            "17        18  Science Fiction\n",
            "20        19  Science Fiction\n",
            "38        38  Science Fiction\n",
            "49        62  Science Fiction\n",
            "    movie_id   genre\n",
            "3         11  Action\n",
            "14        18  Action\n",
            "25        22  Action\n",
            "26        24  Action\n",
            "42        58  Action\n",
            "   movie_id genre_x          genre_y\n",
            "0        11  Action  Science Fiction\n",
            "1        18  Action  Science Fiction\n",
            "2        19     NaN  Science Fiction\n",
            "3        38     NaN  Science Fiction\n",
            "4        62     NaN  Science Fiction\n",
            "   movie_id genre_act      genre_scifi\n",
            "0        11    Action  Science Fiction\n",
            "1        18    Action  Science Fiction\n",
            "2        19       NaN  Science Fiction\n",
            "3        38       NaN  Science Fiction\n",
            "4        62       NaN  Science Fiction\n"
          ]
        },
        {
          "output_type": "error",
          "ename": "NameError",
          "evalue": "name 'movies_and_scifi_only' is not defined",
          "traceback": [
            "\u001b[0;31m---------------------------------------------------------------------------\u001b[0m",
            "\u001b[0;31mNameError\u001b[0m                                 Traceback (most recent call last)",
            "\u001b[0;32m<ipython-input-8-c82820d3745f>\u001b[0m in \u001b[0;36m<cell line: 31>\u001b[0;34m()\u001b[0m\n\u001b[1;32m     29\u001b[0m \u001b[0;34m\u001b[0m\u001b[0m\n\u001b[1;32m     30\u001b[0m \u001b[0;31m# Print the first few rows and shape of movies_and_scifi_only\u001b[0m\u001b[0;34m\u001b[0m\u001b[0;34m\u001b[0m\u001b[0m\n\u001b[0;32m---> 31\u001b[0;31m \u001b[0mprint\u001b[0m\u001b[0;34m(\u001b[0m\u001b[0mmovies_and_scifi_only\u001b[0m\u001b[0;34m.\u001b[0m\u001b[0mhead\u001b[0m\u001b[0;34m(\u001b[0m\u001b[0;34m)\u001b[0m\u001b[0;34m)\u001b[0m\u001b[0;34m\u001b[0m\u001b[0;34m\u001b[0m\u001b[0m\n\u001b[0m\u001b[1;32m     32\u001b[0m \u001b[0mprint\u001b[0m\u001b[0;34m(\u001b[0m\u001b[0mmovies_and_scifi_only\u001b[0m\u001b[0;34m.\u001b[0m\u001b[0mshape\u001b[0m\u001b[0;34m)\u001b[0m\u001b[0;34m\u001b[0m\u001b[0;34m\u001b[0m\u001b[0m\n",
            "\u001b[0;31mNameError\u001b[0m: name 'movies_and_scifi_only' is not defined"
          ]
        }
      ]
    },
    {
      "cell_type": "markdown",
      "source": [
        "# **Popular genres with right join**\n",
        "\n",
        "What are the genres of the most popular movies? To answer this question, you need to merge data from the `movies` and `movie_genres` tables. In a table called `pop_movies`, the top 10 most popular movies in the movies table have been selected. To ensure that you are analyzing all of the popular movies, merge it with the `movie_genres` table using a right join. To complete your analysis, count the number of different genres. Also, the two tables can be merged by the movie ID. However, in `pop_movies` that column is called `id`, and in `movie_genres` it's called `movie_id`.\n",
        "\n",
        "The `movie_genres` table have been loaded in one of the previous codecell and `pop_movies` is filtered from `movies` in the first lines of the codecell below.\n",
        "\n",
        "**Instructions:**\n",
        "* Merge `movie_genres` and `pop_movies` using a right join. Save the results as `genres_movies`.\n",
        "* Group `genres_movies` by genre and count the number of id values.\n"
      ],
      "metadata": {
        "id": "CKmzEwb-2P_e"
      }
    },
    {
      "cell_type": "code",
      "source": [
        "#Sorting movies by popularity and taking the first 10 most popular movies to pop_movies\n",
        "movies_sorted = movies.sort_values('popularity', ascending=False)\n",
        "pop_movies = movies_sorted[:10]\n",
        "\n",
        "#Exploring the first few rows of pop_movies\n",
        "print(pop_movies.head())\n",
        "\n",
        "# Use right join to merge the movie_to_genres and pop_movies tables\n",
        "genres_movies = movie_genres.merge(pop_movies, left_on='movie_id', right_on='id', how='right')\n",
        "\n",
        "\n",
        "# Count the number of genres\n",
        "genre_count = genres_movies.groupby('genre').agg({'id':'count'})\n",
        "\n",
        "# Plot a bar chart of the genre_count\n",
        "genre_count.plot(kind='bar')\n",
        "plt.show()"
      ],
      "metadata": {
        "id": "a54T_-g-3o9r",
        "colab": {
          "base_uri": "https://localhost:8080/",
          "height": 813
        },
        "outputId": "33989167-59b9-43b0-8122-6fc811c1b4aa"
      },
      "execution_count": null,
      "outputs": [
        {
          "output_type": "display_data",
          "data": {
            "text/plain": [
              "<IPython.core.display.HTML object>"
            ],
            "text/html": [
              "\n",
              "            <style>\n",
              "                .geemap-dark {\n",
              "                    --jp-widgets-color: white;\n",
              "                    --jp-widgets-label-color: white;\n",
              "                    --jp-ui-font-color1: white;\n",
              "                    --jp-layout-color2: #454545;\n",
              "                    background-color: #383838;\n",
              "                }\n",
              "\n",
              "                .geemap-dark .jupyter-button {\n",
              "                    --jp-layout-color3: #383838;\n",
              "                }\n",
              "\n",
              "                .geemap-colab {\n",
              "                    background-color: var(--colab-primary-surface-color, white);\n",
              "                }\n",
              "\n",
              "                .geemap-colab .jupyter-button {\n",
              "                    --jp-layout-color3: var(--colab-primary-surface-color, white);\n",
              "                }\n",
              "            </style>\n",
              "            "
            ]
          },
          "metadata": {}
        },
        {
          "output_type": "stream",
          "name": "stdout",
          "text": [
            "          id                    title  popularity release_date\n",
            "4546  211672                  Minions  875.581305   2015-06-17\n",
            "4343  157336             Interstellar  724.247784   2014-11-05\n",
            "1966  293660                 Deadpool  514.569956   2016-02-09\n",
            "2423  118340  Guardians of the Galaxy  481.098624   2014-07-30\n",
            "4220   76341       Mad Max: Fury Road  434.278564   2015-05-13\n"
          ]
        },
        {
          "output_type": "error",
          "ename": "NameError",
          "evalue": "name 'plt' is not defined",
          "traceback": [
            "\u001b[0;31m---------------------------------------------------------------------------\u001b[0m",
            "\u001b[0;31mNameError\u001b[0m                                 Traceback (most recent call last)",
            "\u001b[0;32m<ipython-input-19-52193aa6f633>\u001b[0m in \u001b[0;36m<cell line: 17>\u001b[0;34m()\u001b[0m\n\u001b[1;32m     15\u001b[0m \u001b[0;31m# Plot a bar chart of the genre_count\u001b[0m\u001b[0;34m\u001b[0m\u001b[0;34m\u001b[0m\u001b[0m\n\u001b[1;32m     16\u001b[0m \u001b[0mgenre_count\u001b[0m\u001b[0;34m.\u001b[0m\u001b[0mplot\u001b[0m\u001b[0;34m(\u001b[0m\u001b[0mkind\u001b[0m\u001b[0;34m=\u001b[0m\u001b[0;34m'bar'\u001b[0m\u001b[0;34m)\u001b[0m\u001b[0;34m\u001b[0m\u001b[0;34m\u001b[0m\u001b[0m\n\u001b[0;32m---> 17\u001b[0;31m \u001b[0mplt\u001b[0m\u001b[0;34m.\u001b[0m\u001b[0mshow\u001b[0m\u001b[0;34m(\u001b[0m\u001b[0;34m)\u001b[0m\u001b[0;34m\u001b[0m\u001b[0;34m\u001b[0m\u001b[0m\n\u001b[0m",
            "\u001b[0;31mNameError\u001b[0m: name 'plt' is not defined"
          ]
        },
        {
          "output_type": "display_data",
          "data": {
            "text/plain": [
              "<Figure size 640x480 with 1 Axes>"
            ],
            "image/png": "[encoded data removed]"
          },
          "metadata": {}
        }
      ]
    },
    {
      "cell_type": "markdown",
      "source": [
        "# **Using outer join to select actors**\n",
        "\n",
        "One cool aspect of using an outer join is that, because it returns all rows from both merged tables and null where they do not match, you can use it to find rows that do not have a match in the other table. To try for yourself, you have been given two tables with a list of actors from two popular movies: *Iron Man 1* and *Iron Man 2*. Most of the actors played in both movies. Use an outer join to find actors who did not act in both movies.\n",
        "\n",
        "The *Iron Man 1* table is called `iron_1_actors`, and *Iron Man 2* table is called `iron_2_actors`. Both tables have been loaded in the first few lines of the codecell given below for you and a few rows printed so you can see the structure.\n",
        "\n",
        "![noJoin.png](data:image/png;base64,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)\n",
        "\n",
        "**Instructions:**\n",
        "* Save to `iron_1_and_2` the merge of `iron_1_actors` (left) with `iron_2_actors` tables with an outer join on the `id` column, and set suffixes to `('_1','_2')`.\n",
        "* Create an index that returns `True` if `name_1` or `name_2` are null, and False otherwise.\n"
      ],
      "metadata": {
        "id": "7lFO1eCd5e2A"
      }
    },
    {
      "cell_type": "code",
      "source": [
        "#Read movie_actors and load iron_1_actors and iron_2_actors from dataset files\n",
        "import numpy as np\n",
        "import pandas as pd\n",
        "iron_1_actors = pd.read_csv('https://github.com/DataAnalyst21/DatasetsForDataAnalytics/blob/main/iron_1_actors.csv?raw=True')\n",
        "iron_2_actors = pd.read_csv('https://github.com/DataAnalyst21/DatasetsForDataAnalytics/blob/main/iron_2_actors.csv?raw=True')\n",
        "\n",
        "#Exploring the first few rows of iron_1_actors and iron_2_actors\n",
        "print(iron_1_actors.head())\n",
        "print(iron_2_actors.head())\n",
        "\n",
        "# Merge iron_1_actors to iron_2_actors on id with outer join using suffixes\n",
        "iron_1_and_2 = iron_1_actors.merge(iron_2_actors, on='id', how='outer', suffixes=('-1', '_2'))\n",
        "\n",
        "\n",
        "\n",
        "# Create an index that returns true if name_1 or name_2 are null\n",
        "m=((iron_1_and_2['iron_1_actors'].isnull()) | (iron_1_and_2['iron_2_actors'].isnull()))\n",
        "\n",
        "\n",
        "\n",
        "\n",
        "# Print the first few rows of iron_1_and_2\n",
        "print(iron_1_and_2[m].head())"
      ],
      "metadata": {
        "id": "2t6f9mwB6gz6",
        "colab": {
          "base_uri": "https://localhost:8080/",
          "height": 787
        },
        "outputId": "dc63ce8f-2db2-4c18-e9ea-127a2e55a238"
      },
      "execution_count": 9,
      "outputs": [
        {
          "output_type": "stream",
          "name": "stdout",
          "text": [
            "                     character     id             name\n",
            "0                       Yinsen  17857       Shaun Toub\n",
            "1      Virginia \"Pepper\" Potts  12052  Gwyneth Paltrow\n",
            "2  Obadiah Stane / Iron Monger   1229     Jeff Bridges\n",
            "3                  War Machine  18288  Terrence Howard\n",
            "4           Christine Everhart  57451      Leslie Bibb\n",
            "                                          character     id                name\n",
            "0                             Ivan Vanko / Whiplash   2295       Mickey Rourke\n",
            "1  Natalie Rushman / Natasha Romanoff / Black Widow   1245  Scarlett Johansson\n",
            "2                                     Justin Hammer   6807        Sam Rockwell\n",
            "3                                Director Nick Fury   2231   Samuel L. Jackson\n",
            "4                           Virginia \"Pepper\" Potts  12052     Gwyneth Paltrow\n"
          ]
        },
        {
          "output_type": "error",
          "ename": "KeyError",
          "evalue": "'iron_1_actors'",
          "traceback": [
            "\u001b[0;31m---------------------------------------------------------------------------\u001b[0m",
            "\u001b[0;31mKeyError\u001b[0m                                  Traceback (most recent call last)",
            "\u001b[0;32m/usr/local/lib/python3.10/dist-packages/pandas/core/indexes/base.py\u001b[0m in \u001b[0;36mget_loc\u001b[0;34m(self, key)\u001b[0m\n\u001b[1;32m   3804\u001b[0m         \u001b[0;32mtry\u001b[0m\u001b[0;34m:\u001b[0m\u001b[0;34m\u001b[0m\u001b[0;34m\u001b[0m\u001b[0m\n\u001b[0;32m-> 3805\u001b[0;31m             \u001b[0;32mreturn\u001b[0m \u001b[0mself\u001b[0m\u001b[0;34m.\u001b[0m\u001b[0m_engine\u001b[0m\u001b[0;34m.\u001b[0m\u001b[0mget_loc\u001b[0m\u001b[0;34m(\u001b[0m\u001b[0mcasted_key\u001b[0m\u001b[0;34m)\u001b[0m\u001b[0;34m\u001b[0m\u001b[0;34m\u001b[0m\u001b[0m\n\u001b[0m\u001b[1;32m   3806\u001b[0m         \u001b[0;32mexcept\u001b[0m \u001b[0mKeyError\u001b[0m \u001b[0;32mas\u001b[0m \u001b[0merr\u001b[0m\u001b[0;34m:\u001b[0m\u001b[0;34m\u001b[0m\u001b[0;34m\u001b[0m\u001b[0m\n",
            "\u001b[0;32mindex.pyx\u001b[0m in \u001b[0;36mpandas._libs.index.IndexEngine.get_loc\u001b[0;34m()\u001b[0m\n",
            "\u001b[0;32mindex.pyx\u001b[0m in \u001b[0;36mpandas._libs.index.IndexEngine.get_loc\u001b[0;34m()\u001b[0m\n",
            "\u001b[0;32mpandas/_libs/hashtable_class_helper.pxi\u001b[0m in \u001b[0;36mpandas._libs.hashtable.PyObjectHashTable.get_item\u001b[0;34m()\u001b[0m\n",
            "\u001b[0;32mpandas/_libs/hashtable_class_helper.pxi\u001b[0m in \u001b[0;36mpandas._libs.hashtable.PyObjectHashTable.get_item\u001b[0;34m()\u001b[0m\n",
            "\u001b[0;31mKeyError\u001b[0m: 'iron_1_actors'",
            "\nThe above exception was the direct cause of the following exception:\n",
            "\u001b[0;31mKeyError\u001b[0m                                  Traceback (most recent call last)",
            "\u001b[0;32m<ipython-input-9-39cc03e3055e>\u001b[0m in \u001b[0;36m<cell line: 17>\u001b[0;34m()\u001b[0m\n\u001b[1;32m     15\u001b[0m \u001b[0;34m\u001b[0m\u001b[0m\n\u001b[1;32m     16\u001b[0m \u001b[0;31m# Create an index that returns true if name_1 or name_2 are null\u001b[0m\u001b[0;34m\u001b[0m\u001b[0;34m\u001b[0m\u001b[0m\n\u001b[0;32m---> 17\u001b[0;31m \u001b[0mm\u001b[0m\u001b[0;34m=\u001b[0m\u001b[0;34m(\u001b[0m\u001b[0;34m(\u001b[0m\u001b[0miron_1_and_2\u001b[0m\u001b[0;34m[\u001b[0m\u001b[0;34m'iron_1_actors'\u001b[0m\u001b[0;34m]\u001b[0m\u001b[0;34m.\u001b[0m\u001b[0misnull\u001b[0m\u001b[0;34m(\u001b[0m\u001b[0;34m)\u001b[0m\u001b[0;34m)\u001b[0m \u001b[0;34m|\u001b[0m \u001b[0;34m(\u001b[0m\u001b[0miron_1_and_2\u001b[0m\u001b[0;34m[\u001b[0m\u001b[0;34m'iron_2_actors'\u001b[0m\u001b[0;34m]\u001b[0m\u001b[0;34m.\u001b[0m\u001b[0misnull\u001b[0m\u001b[0;34m(\u001b[0m\u001b[0;34m)\u001b[0m\u001b[0;34m)\u001b[0m\u001b[0;34m)\u001b[0m\u001b[0;34m\u001b[0m\u001b[0;34m\u001b[0m\u001b[0m\n\u001b[0m\u001b[1;32m     18\u001b[0m \u001b[0;34m\u001b[0m\u001b[0m\n\u001b[1;32m     19\u001b[0m \u001b[0;34m\u001b[0m\u001b[0m\n",
            "\u001b[0;32m/usr/local/lib/python3.10/dist-packages/pandas/core/frame.py\u001b[0m in \u001b[0;36m__getitem__\u001b[0;34m(self, key)\u001b[0m\n\u001b[1;32m   4100\u001b[0m             \u001b[0;32mif\u001b[0m \u001b[0mself\u001b[0m\u001b[0;34m.\u001b[0m\u001b[0mcolumns\u001b[0m\u001b[0;34m.\u001b[0m\u001b[0mnlevels\u001b[0m \u001b[0;34m>\u001b[0m \u001b[0;36m1\u001b[0m\u001b[0;34m:\u001b[0m\u001b[0;34m\u001b[0m\u001b[0;34m\u001b[0m\u001b[0m\n\u001b[1;32m   4101\u001b[0m                 \u001b[0;32mreturn\u001b[0m \u001b[0mself\u001b[0m\u001b[0;34m.\u001b[0m\u001b[0m_getitem_multilevel\u001b[0m\u001b[0;34m(\u001b[0m\u001b[0mkey\u001b[0m\u001b[0;34m)\u001b[0m\u001b[0;34m\u001b[0m\u001b[0;34m\u001b[0m\u001b[0m\n\u001b[0;32m-> 4102\u001b[0;31m             \u001b[0mindexer\u001b[0m \u001b[0;34m=\u001b[0m \u001b[0mself\u001b[0m\u001b[0;34m.\u001b[0m\u001b[0mcolumns\u001b[0m\u001b[0;34m.\u001b[0m\u001b[0mget_loc\u001b[0m\u001b[0;34m(\u001b[0m\u001b[0mkey\u001b[0m\u001b[0;34m)\u001b[0m\u001b[0;34m\u001b[0m\u001b[0;34m\u001b[0m\u001b[0m\n\u001b[0m\u001b[1;32m   4103\u001b[0m             \u001b[0;32mif\u001b[0m \u001b[0mis_integer\u001b[0m\u001b[0;34m(\u001b[0m\u001b[0mindexer\u001b[0m\u001b[0;34m)\u001b[0m\u001b[0;34m:\u001b[0m\u001b[0;34m\u001b[0m\u001b[0;34m\u001b[0m\u001b[0m\n\u001b[1;32m   4104\u001b[0m                 \u001b[0mindexer\u001b[0m \u001b[0;34m=\u001b[0m \u001b[0;34m[\u001b[0m\u001b[0mindexer\u001b[0m\u001b[0;34m]\u001b[0m\u001b[0;34m\u001b[0m\u001b[0;34m\u001b[0m\u001b[0m\n",
            "\u001b[0;32m/usr/local/lib/python3.10/dist-packages/pandas/core/indexes/base.py\u001b[0m in \u001b[0;36mget_loc\u001b[0;34m(self, key)\u001b[0m\n\u001b[1;32m   3810\u001b[0m             ):\n\u001b[1;32m   3811\u001b[0m                 \u001b[0;32mraise\u001b[0m \u001b[0mInvalidIndexError\u001b[0m\u001b[0;34m(\u001b[0m\u001b[0mkey\u001b[0m\u001b[0;34m)\u001b[0m\u001b[0;34m\u001b[0m\u001b[0;34m\u001b[0m\u001b[0m\n\u001b[0;32m-> 3812\u001b[0;31m             \u001b[0;32mraise\u001b[0m \u001b[0mKeyError\u001b[0m\u001b[0;34m(\u001b[0m\u001b[0mkey\u001b[0m\u001b[0;34m)\u001b[0m \u001b[0;32mfrom\u001b[0m \u001b[0merr\u001b[0m\u001b[0;34m\u001b[0m\u001b[0;34m\u001b[0m\u001b[0m\n\u001b[0m\u001b[1;32m   3813\u001b[0m         \u001b[0;32mexcept\u001b[0m \u001b[0mTypeError\u001b[0m\u001b[0;34m:\u001b[0m\u001b[0;34m\u001b[0m\u001b[0;34m\u001b[0m\u001b[0m\n\u001b[1;32m   3814\u001b[0m             \u001b[0;31m# If we have a listlike key, _check_indexing_error will raise\u001b[0m\u001b[0;34m\u001b[0m\u001b[0;34m\u001b[0m\u001b[0m\n",
            "\u001b[0;31mKeyError\u001b[0m: 'iron_1_actors'"
          ]
        }
      ]
    },
    {
      "cell_type": "markdown",
      "source": [
        "# **Self join**\n",
        "\n",
        "Merging a table to itself can be useful when you want to compare values in a column to other values in the same column. In this exercise, you will practice this by creating a table that for each movie will list the movie director and a member of the crew on one row. You have been given a table called `crews`, which has columns `id`, `job`, and `name`. First, merge the table to itself using the movie ID. This merge will give you a larger table where for each movie, every job is matched against each other. Then select only those rows with a director in the left table, and avoid having a row where the director's job is listed in both the left and right tables. This filtering will remove job combinations that aren't with the director.\n",
        "\n",
        "The `crews` table has been loaded for you in the first lines of the codecell given below.\n",
        "\n",
        "**Instructions:**\n",
        "* To a variable called `crews_self_merged`, merge the `crews` table to itself on the `id` column using an inner join, setting the suffixes to `'_dir'` and `'_crew'` for the left and right tables respectively.\n",
        "* Create a Boolean index, named `boolean_filter`, that selects rows from the left table with the job of `'Director'` and avoids rows with the job of `'Director'` in the right table.\n",
        "* Use the `.head()` method to print the first few rows of `direct_crews`.\n"
      ],
      "metadata": {
        "id": "PXH85bIqCG1C"
      }
    },
    {
      "cell_type": "code",
      "source": [
        "#Load crew table from the dataset file\n",
        "crews = pd.read_pickle('https://github.com/DataAnalyst21/DatasetsForDataAnalytics/blob/main/crews.p?raw=True')\n",
        "\n",
        "# Print the first few rows of the crew table.\n",
        "print(crews.head())\n",
        "\n",
        "crews_self_merged = crews.merge(crews, on='id', how='inner', suffixes=('_dir', '_crew'))\n",
        "\n",
        "# Create a Boolean index to filter rows where the left table's job is 'Director' and the right table's job is not 'Director'\n",
        "boolean_filter = (crews_self_merged['job_dir'] == 'Director') & (crews_self_merged['job_crew'] != 'Director')\n",
        "\n",
        "# Apply the filter to the merged table\n",
        "direct_crews = crews_self_merged[boolean_filter]\n",
        "\n",
        "# Print the first few rows of direct_crews\n",
        "print(direct_crews.head())\n",
        "\n"
      ],
      "metadata": {
        "id": "PWpxdeHuDEDF",
        "colab": {
          "base_uri": "https://localhost:8080/"
        },
        "outputId": "f90ecadf-c1dd-4a5a-89d3-adb1be305be6"
      },
      "execution_count": 10,
      "outputs": [
        {
          "output_type": "stream",
          "name": "stdout",
          "text": [
            "      id  department             job               name\n",
            "0  19995     Editing          Editor  Stephen E. Rivkin\n",
            "2  19995       Sound  Sound Designer  Christopher Boyes\n",
            "4  19995  Production         Casting          Mali Finn\n",
            "6  19995   Directing        Director      James Cameron\n",
            "7  19995     Writing          Writer      James Cameron\n",
            "        id department_dir   job_dir       name_dir department_crew  \\\n",
            "156  19995      Directing  Director  James Cameron         Editing   \n",
            "157  19995      Directing  Director  James Cameron           Sound   \n",
            "158  19995      Directing  Director  James Cameron      Production   \n",
            "160  19995      Directing  Director  James Cameron         Writing   \n",
            "161  19995      Directing  Director  James Cameron             Art   \n",
            "\n",
            "           job_crew          name_crew  \n",
            "156          Editor  Stephen E. Rivkin  \n",
            "157  Sound Designer  Christopher Boyes  \n",
            "158         Casting          Mali Finn  \n",
            "160          Writer      James Cameron  \n",
            "161    Set Designer    Richard F. Mays  \n"
          ]
        }
      ]
    },
    {
      "cell_type": "markdown",
      "source": [
        "# **Index merge for movie ratings**\n",
        "\n",
        "To practice merging on indexes, you will merge `movies` and a table called `ratings` that holds info about movie ratings. Ensure that your merge returns all rows from the `movies` table, and only matching rows from the `ratings` table.\n",
        "\n",
        "The movies table is loaded before and ratings table is loaded in the first few lines of the codecell given below for you to use.\n",
        "\n",
        "**Instructions:**\n",
        "* Merge the `movies` and `ratings` tables on the `id` column, keeping all rows from the `movies` table, and save the result as `movies_ratings`.\n"
      ],
      "metadata": {
        "id": "zQHRsjIsGJjE"
      }
    },
    {
      "cell_type": "code",
      "source": [
        "#Load ratings DataFrame from the dataset file\n",
        "ratings = pd.read_pickle('https://github.com/DataAnalyst21/DatasetsForDataAnalytics/blob/main/ratings.p?raw=True')\n",
        "\n",
        "# Print the first few rows of ratings\n",
        "print(ratings.head())\n",
        "\n",
        "# Merge to the movies table the ratings table on the index\n",
        "movies_ratings = movies.merge(ratings, on='id', how='left')\n",
        "\n",
        "# Print the first few rows of movies_ratings\n",
        "print(movies_ratings.head())"
      ],
      "metadata": {
        "id": "4ttprpvGGpGU",
        "colab": {
          "base_uri": "https://localhost:8080/"
        },
        "outputId": "01db4afb-aea6-4c4f-e3f0-d046a51cc161"
      },
      "execution_count": 11,
      "outputs": [
        {
          "output_type": "stream",
          "name": "stdout",
          "text": [
            "       id  vote_average  vote_count\n",
            "0   19995           7.2     11800.0\n",
            "1     285           6.9      4500.0\n",
            "2  206647           6.3      4466.0\n",
            "3   49026           7.6      9106.0\n",
            "4   49529           6.1      2124.0\n",
            "      id                 title  popularity release_date  vote_average  \\\n",
            "0    257          Oliver Twist   20.415572   2005-09-23           6.7   \n",
            "1  14290  Better Luck Tomorrow    3.877036   2002-01-12           6.5   \n",
            "2  38365             Grown Ups   38.864027   2010-06-24           6.0   \n",
            "3   9672              Infamous    3.680896   2006-11-16           6.4   \n",
            "4  12819       Alpha and Omega   12.300789   2010-09-17           5.3   \n",
            "\n",
            "   vote_count  \n",
            "0       274.0  \n",
            "1        27.0  \n",
            "2      1705.0  \n",
            "3        60.0  \n",
            "4       124.0  \n"
          ]
        }
      ]
    },
    {
      "cell_type": "markdown",
      "source": [
        "# **Do sequels earn more?**\n",
        "\n",
        "It is time to put together many of the aspects that you have learned in this chapter. In this exercise, you'll find out which movie sequels earned the most compared to the original movie. To answer this question, you will merge a modified version of the `sequels` and `financials` tables where their index is the movie ID. You will need to choose a merge type that will return all of the rows from the `sequels` table and not all the rows of `financials` table need to be included in the result. From there, you will join the resulting table to itself so that you can compare the revenue values of the original movie to the sequel. Next, you will calculate the difference between the two revenues and sort the resulting dataset.\n",
        "\n",
        "The financials table is loaded before and sequels table is loaded in the first few lines in the codecell below for you to use.\n",
        "\n",
        "**Instructions:**\n",
        "* With the `sequels` table on the left, merge to it the `financials` table on index named `id`, ensuring that all the rows from the `sequels` are returned and some rows from the other table may not be returned, Save the results to `sequels_fin`.\n",
        "* Merge the `sequels_fin` table to itself with an inner join, where the left and right tables merge on `sequel` and `id` respectively with suffixes equal to `('_org','_seq')`, saving to `orig_seq`.\n",
        "* Select the `title_org`, `title_seq`, and `diff` columns of `orig_seq` and save this as `titles_diff`.\n",
        "* Sort by `titles_diff` by `diff` in descending order and print the first few rows.\n",
        "\n"
      ],
      "metadata": {
        "id": "w8JqAVaJHE5K"
      }
    },
    {
      "cell_type": "code",
      "source": [
        "#Loading sequels DataFrame from the source dataset file\n",
        "sequels = pd.read_pickle('https://github.com/DataAnalyst21/DatasetsForDataAnalytics/blob/main/sequels.p?raw=True')\n",
        "\n",
        "# Print the first few rows of sequels\n",
        "print(sequels.head())\n",
        "\n",
        "# Merge sequels with financials using a left join\n",
        "sequels_fin = sequels.merge(financials, on='id', how='left')\n",
        "\n",
        "# Merge sequels_fin with itself using an inner join\n",
        "orig_seq = sequels_fin.merge(\n",
        "    sequels_fin,\n",
        "    left_on='sequel',\n",
        "    right_on='id',\n",
        "    suffixes=('_org', '_seq'),\n",
        "    how='inner'\n",
        ")\n",
        "\n",
        "# Calculate the revenue difference\n",
        "orig_seq['diff'] = orig_seq['revenue_seq'] - orig_seq['revenue_org']\n",
        "\n",
        "# Select relevant columns\n",
        "titles_diff = orig_seq[['title_org', 'title_seq', 'diff']]\n",
        "\n",
        "# Sort by diff in descending order\n",
        "titles_diff = titles_diff.sort_values(by='diff', ascending=False)\n",
        "\n",
        "# Print the first few rows\n",
        "print(titles_diff.head())\n",
        "\n"
      ],
      "metadata": {
        "id": "K7-4-yLMH_he",
        "colab": {
          "base_uri": "https://localhost:8080/"
        },
        "outputId": "76327fa3-c61d-4bab-899b-aab57aff305c"
      },
      "execution_count": 12,
      "outputs": [
        {
          "output_type": "stream",
          "name": "stdout",
          "text": [
            "      id         title  sequel\n",
            "0  19995        Avatar    <NA>\n",
            "1    862     Toy Story     863\n",
            "2    863   Toy Story 2   10193\n",
            "3    597       Titanic    <NA>\n",
            "4  24428  The Avengers    <NA>\n",
            "            title_org        title_seq          diff\n",
            "28  Jurassic Park III   Jurassic World  1.144748e+09\n",
            "26      Batman Begins  The Dark Knight  6.303398e+08\n",
            "11         Iron Man 2       Iron Man 3  5.915067e+08\n",
            "1         Toy Story 2      Toy Story 3  5.696028e+08\n",
            "14  Quantum of Solace          Skyfall  5.224703e+08\n"
          ]
        }
      ]
    }
  ]
}