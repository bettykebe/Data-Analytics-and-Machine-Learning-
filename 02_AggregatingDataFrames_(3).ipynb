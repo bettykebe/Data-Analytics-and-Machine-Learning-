{
  "nbformat": 4,
  "nbformat_minor": 0,
  "metadata": {
    "colab": {
      "provenance": []
    },
    "kernelspec": {
      "name": "python3",
      "display_name": "Python 3"
    },
    "language_info": {
      "name": "python"
    }
  },
  "cells": [
    {
      "cell_type": "markdown",
      "source": [
        "# **Mean and median**\n",
        "\n",
        "Summary statistics are exactly what they sound like - they summarize many numbers in one statistic. For example, **mean**, **median**, **minimum**, **maximum**, and **standard deviation** are summary statistics. Calculating summary statistics allows you to get a better sense of your data, even if there's a lot of it.\n",
        "\n",
        "In the following code cell, you will install pandas if you didn't do so far and you will import pandas as:\n",
        "\n",
        "`import pandas as pd `\n",
        "\n",
        "\n"
      ],
      "metadata": {
        "id": "xiL8yfnUQDtN"
      }
    },
    {
      "cell_type": "code",
      "execution_count": null,
      "metadata": {
        "id": "D3tdv10qNn3y"
      },
      "outputs": [],
      "source": [
        "#Install and import pandas\n",
        "#!pip install pandas\n",
        "import pandas as pd\n",
        "import zipfile"
      ]
    },
    {
      "cell_type": "markdown",
      "source": [
        "Then read data from csv file using pandas and create a `sales` DataFrame."
      ],
      "metadata": {
        "id": "4W0EXfAHQwSY"
      }
    },
    {
      "cell_type": "code",
      "source": [
        "file = \"https://github.com/elmoallistair/datacamp/blob/master/data-manipulation-with-pandas/datasets/sales_subset.csv?raw=True\"\n",
        "# open zipped dataset\n",
        "sales = pd.read_csv(file)\n",
        "# display dataset\n",
        "print(sales.head())"
      ],
      "metadata": {
        "colab": {
          "base_uri": "https://localhost:8080/"
        },
        "id": "b6Z890b5V4EN",
        "outputId": "6b4a4678-990c-48d8-f200-c0c3a13cabd4"
      },
      "execution_count": null,
      "outputs": [
        {
          "output_type": "stream",
          "name": "stdout",
          "text": [
            "   Unnamed: 0  store type  department        date  weekly_sales  is_holiday  \\\n",
            "0           0      1    A           1  2010-02-05      24924.50       False   \n",
            "1           1      1    A           1  2010-03-05      21827.90       False   \n",
            "2           2      1    A           1  2010-04-02      57258.43       False   \n",
            "3           3      1    A           1  2010-05-07      17413.94       False   \n",
            "4           4      1    A           1  2010-06-04      17558.09       False   \n",
            "\n",
            "   temperature_c  fuel_price_usd_per_l  unemployment  \n",
            "0       5.727778              0.679451         8.106  \n",
            "1       8.055556              0.693452         8.106  \n",
            "2      16.816667              0.718284         7.808  \n",
            "3      22.527778              0.748928         7.808  \n",
            "4      27.050000              0.714586         7.808  \n"
          ]
        }
      ]
    },
    {
      "cell_type": "markdown",
      "source": [
        "**Instructions to the exercises:**\n",
        "\n",
        "\n",
        "\n",
        "*   Explore your new DataFrame first by printing the first few rows of the `sales` DataFrame.\n",
        "*   Print information about the columns in `sales`.\n",
        "*   Print the mean of the `weekly_sales` column.\n",
        "*   Print the median of the `weekly_sales` column.\n"
      ],
      "metadata": {
        "id": "5KMX0NbhQhNR"
      }
    },
    {
      "cell_type": "code",
      "source": [
        "# Print the head of the sales DataFrame\n",
        "print(sales.head)\n",
        "\n",
        "# Print the info about the sales DataFrame\n",
        "print(sales.info)\n",
        "\n",
        "# Print the mean of weekly_sales\n",
        "mean_weekly_sales = sales['weekly_sales'].mean()\n",
        "print(mean_weekly_sales)\n",
        "\n",
        "# Print the median of weekly_sales\n",
        "median_weekly_sales = sales['weekly_sales'].median()\n",
        "print(median_weekly_sales)"
      ],
      "metadata": {
        "id": "csRjzrJERLWe",
        "colab": {
          "base_uri": "https://localhost:8080/"
        },
        "outputId": "46a000b4-0488-495a-c0f8-a7d76b9738e4"
      },
      "execution_count": null,
      "outputs": [
        {
          "output_type": "stream",
          "name": "stdout",
          "text": [
            "<bound method NDFrame.head of        Unnamed: 0  store type  department        date  weekly_sales  \\\n",
            "0               0      1    A           1  2010-02-05      24924.50   \n",
            "1               1      1    A           1  2010-03-05      21827.90   \n",
            "2               2      1    A           1  2010-04-02      57258.43   \n",
            "3               3      1    A           1  2010-05-07      17413.94   \n",
            "4               4      1    A           1  2010-06-04      17558.09   \n",
            "...           ...    ...  ...         ...         ...           ...   \n",
            "10769       10769     39    A          99  2011-12-09        895.00   \n",
            "10770       10770     39    A          99  2012-02-03        350.00   \n",
            "10771       10771     39    A          99  2012-06-08        450.00   \n",
            "10772       10772     39    A          99  2012-07-13          0.06   \n",
            "10773       10773     39    A          99  2012-10-05        915.00   \n",
            "\n",
            "       is_holiday  temperature_c  fuel_price_usd_per_l  unemployment  \n",
            "0           False       5.727778              0.679451         8.106  \n",
            "1           False       8.055556              0.693452         8.106  \n",
            "2           False      16.816667              0.718284         7.808  \n",
            "3           False      22.527778              0.748928         7.808  \n",
            "4           False      27.050000              0.714586         7.808  \n",
            "...           ...            ...                   ...           ...  \n",
            "10769       False       9.644444              0.834256         7.716  \n",
            "10770       False      15.938889              0.887619         7.244  \n",
            "10771       False      27.288889              0.911922         6.989  \n",
            "10772       False      25.644444              0.860145         6.623  \n",
            "10773       False      22.250000              0.955511         6.228  \n",
            "\n",
            "[10774 rows x 10 columns]>\n",
            "<bound method DataFrame.info of        Unnamed: 0  store type  department        date  weekly_sales  \\\n",
            "0               0      1    A           1  2010-02-05      24924.50   \n",
            "1               1      1    A           1  2010-03-05      21827.90   \n",
            "2               2      1    A           1  2010-04-02      57258.43   \n",
            "3               3      1    A           1  2010-05-07      17413.94   \n",
            "4               4      1    A           1  2010-06-04      17558.09   \n",
            "...           ...    ...  ...         ...         ...           ...   \n",
            "10769       10769     39    A          99  2011-12-09        895.00   \n",
            "10770       10770     39    A          99  2012-02-03        350.00   \n",
            "10771       10771     39    A          99  2012-06-08        450.00   \n",
            "10772       10772     39    A          99  2012-07-13          0.06   \n",
            "10773       10773     39    A          99  2012-10-05        915.00   \n",
            "\n",
            "       is_holiday  temperature_c  fuel_price_usd_per_l  unemployment  \n",
            "0           False       5.727778              0.679451         8.106  \n",
            "1           False       8.055556              0.693452         8.106  \n",
            "2           False      16.816667              0.718284         7.808  \n",
            "3           False      22.527778              0.748928         7.808  \n",
            "4           False      27.050000              0.714586         7.808  \n",
            "...           ...            ...                   ...           ...  \n",
            "10769       False       9.644444              0.834256         7.716  \n",
            "10770       False      15.938889              0.887619         7.244  \n",
            "10771       False      27.288889              0.911922         6.989  \n",
            "10772       False      25.644444              0.860145         6.623  \n",
            "10773       False      22.250000              0.955511         6.228  \n",
            "\n",
            "[10774 rows x 10 columns]>\n",
            "23843.95014850566\n",
            "12049.064999999999\n"
          ]
        }
      ]
    },
    {
      "cell_type": "markdown",
      "source": [
        "# **Summarizing dates**\n",
        "\n",
        "Summary statistics can also be calculated on date columns that have values with the data type `datetime64`. Some summary statistics — like mean — don't make a ton of sense on dates, but others are super helpful, for example, minimum and maximum, which allow you to see what time range your data covers.\n",
        "\n",
        "The `sales` DataFrame is available as it is read in the previous cells and and pandas is loaded as pd as well in the first cell. Answer each question below in each cell.\n",
        "\n",
        "Then you are expected to do the following two exercises:\n",
        "\n",
        "**Instructions:**\n",
        "* Print the maximum of the `date` column.\n",
        "* Print the minimum of the `date` column.\n"
      ],
      "metadata": {
        "id": "CiG3tIizRdYt"
      }
    },
    {
      "cell_type": "code",
      "source": [
        "# Print the maximum of the date column\n",
        "data_max=sales[\"date\"].max()\n",
        "print(data_max)\n",
        "\n",
        "# Print the minimum of the date column\n",
        "data_min=sales[\"date\"].min()\n",
        "print(data_min)"
      ],
      "metadata": {
        "id": "hccAgBGeSV3B",
        "colab": {
          "base_uri": "https://localhost:8080/"
        },
        "outputId": "66689592-7eff-4a35-c5ec-a593caae980f"
      },
      "execution_count": null,
      "outputs": [
        {
          "output_type": "stream",
          "name": "stdout",
          "text": [
            "2012-10-26\n",
            "2010-02-05\n"
          ]
        }
      ]
    },
    {
      "cell_type": "markdown",
      "source": [
        "# **Efficient summaries**\n",
        "\n",
        "While pandas and NumPy have tons of functions, sometimes, you may need a different function to summarize your data.\n",
        "\n",
        "The `.agg()` method allows you to apply your own custom functions to a DataFrame, as well as apply functions to more than one column of a DataFrame at once, making your aggregations super-efficient. For example,\n",
        "\n",
        "`df['column'].agg(function)`\n",
        "\n",
        "In the custom function for this exercise, \"IQR\" is short for inter-quartile range, which is the 75th percentile minus the 25th percentile. It's an alternative to standard deviation that is helpful if your data contains outliers.\n",
        "\n",
        "The `sales` DataFrame is available as it is read in the previous cells and and pandas is loaded as pd as well in the first cell. Answer each question below in each cell.\n",
        "\n",
        "Based on the `.agg()` function, do the following exercises.\n",
        "\n",
        "**Instructions:**\n",
        "\n",
        "\n",
        "1.   Use the custom `iqr` function defined for you along with `.agg()` to print the IQR of the `temperature_c` column of `sales`.\n",
        "\n"
      ],
      "metadata": {
        "id": "rqUJABplSgGx"
      }
    },
    {
      "cell_type": "code",
      "source": [
        "# A custom IQR function\n",
        "def iqr(column):\n",
        "    return column.quantile(0.75) - column.quantile(0.25)\n",
        "\n",
        "# Print IQR of the temperature_c column\n",
        "temperature_iqr = iqr(sales['temperature_c'])\n",
        "print(\"IQR of the temperature_c column:\", temperature_iqr)"
      ],
      "metadata": {
        "id": "huSejUu9Tmfd"
      },
      "execution_count": null,
      "outputs": []
    },
    {
      "cell_type": "markdown",
      "source": [
        "2. Update the column selection to use the custom `iqr` function with `.agg()` to print the IQR of `temperature_c`, `fuel_price_usd_per_l`, and `unemployment`, in that order."
      ],
      "metadata": {
        "id": "jspZx6hgTwTQ"
      }
    },
    {
      "cell_type": "code",
      "source": [
        "# A custom IQR function\n",
        "def iqr(column):\n",
        "    return column.quantile(0.75) - column.quantile(0.25)\n",
        "\n",
        "# Print IQR of the temperature_c, fuel_price_usd_per_l, and unemployment columns\n",
        "iqr_values = sales[[\"temperature_c\", \"fuel_price_usd_per_l\", \"unemployment\"]].agg(iqr)\n",
        "print(iqr_values)"
      ],
      "metadata": {
        "id": "OsAzVcppUPo8"
      },
      "execution_count": null,
      "outputs": []
    },
    {
      "cell_type": "markdown",
      "source": [
        "3. Update the aggregation functions called by `.agg()`: include `iqr` and `np.median` in that order."
      ],
      "metadata": {
        "id": "ffI5NvD5URlT"
      }
    },
    {
      "cell_type": "code",
      "source": [
        "# A custom IQR function\n",
        "def iqr(column):\n",
        "    return column.quantile(0.75) - column.quantile(0.25)\n",
        "\n",
        "iqr_median_values = sales[[\"temperature_c\", \"fuel_price_usd_per_l\", \"unemployment\"]].agg([iqr, \"median\"])\n",
        "\n",
        "print(iqr_median_values)\n",
        "# Print IQR and median of the temperature_c, fuel_price_usd_per_l, and unemployment columns\n"
      ],
      "metadata": {
        "id": "iI3GK8rXUcuZ",
        "colab": {
          "base_uri": "https://localhost:8080/"
        },
        "outputId": "7b785bf3-03d2-41dc-aa1c-3d89ff54b744"
      },
      "execution_count": null,
      "outputs": [
        {
          "output_type": "stream",
          "name": "stdout",
          "text": [
            "        temperature_c  fuel_price_usd_per_l  unemployment\n",
            "iqr         16.583333              0.073176         0.565\n",
            "median      16.966667              0.743381         8.099\n"
          ]
        }
      ]
    },
    {
      "cell_type": "markdown",
      "source": [
        "# **Cumulative statistics**\n",
        "\n",
        "Cumulative statistics can also be helpful in tracking summary statistics over time. In this exercise, you'll calculate the cumulative sum and cumulative max of a department's weekly sales, which will allow you to identify what the total sales were so far as well as what the highest weekly sales were so far.\n",
        "\n",
        "The `sales` DataFrame is available as it is read in the previous cells and and pandas is loaded as pd as well in the first cell. Answer each question below in each cell.\n",
        "\n",
        "If you have a DataFrame object, `df`, you can use `df.sort_values()` function to sort rows.\n",
        "\n",
        "Based on this, do the following exercises.\n",
        "\n",
        "**Instructions:**\n",
        "\n",
        "* Sort the rows of `sales` by the `date` column in ascending order.\n",
        "* Get the cumulative sum of `weekly_sales` and add it as a new column of `sales` called `cum_weekly_sales`.\n",
        "* Get the cumulative maximum of `weekly_sales`, and add it as a column called `cum_max_sales`.\n",
        "* Print the `date`, `weekly_sales`, `cum_weekly_sales`, and `cum_max_sales` columns.\n"
      ],
      "metadata": {
        "id": "2wDMIfn6VDEx"
      }
    },
    {
      "cell_type": "code",
      "source": [
        "# Sort sales by date\n",
        "import pandas as pd\n",
        "\n",
        "# Assuming 'sales' DataFrame is already loaded\n",
        "# Sort the rows by the 'date' column in ascending order\n",
        "sales_sorted = sales.sort_values(by=\"date\")\n",
        "\n",
        "# Add cumulative sum of 'weekly_sales' as a new column\n",
        "sales_sorted[\"cum_weekly_sales\"] = sales_sorted[\"weekly_sales\"].cumsum()\n",
        "\n",
        "# Add cumulative maximum of 'weekly_sales' as a new column\n",
        "sales_sorted[\"cum_max_sales\"] = sales_sorted[\"weekly_sales\"].cummax()\n",
        "\n",
        "# Print the required columns\n",
        "print(sales_sorted[[\"date\", \"weekly_sales\", \"cum_weekly_sales\", \"cum_max_sales\"]])\n"
      ],
      "metadata": {
        "id": "ssoK8mVKZk4c",
        "colab": {
          "base_uri": "https://localhost:8080/"
        },
        "outputId": "16228318-9129-439b-cbfb-771bc68289d1"
      },
      "execution_count": null,
      "outputs": [
        {
          "output_type": "stream",
          "name": "stdout",
          "text": [
            "             date  weekly_sales  cum_weekly_sales  cum_max_sales\n",
            "0      2010-02-05      24924.50      2.492450e+04       24924.50\n",
            "6437   2010-02-05      38597.52      6.352202e+04       38597.52\n",
            "1249   2010-02-05       3840.21      6.736223e+04       38597.52\n",
            "6449   2010-02-05      17590.59      8.495282e+04       38597.52\n",
            "6461   2010-02-05       4929.87      8.988269e+04       38597.52\n",
            "...           ...           ...               ...            ...\n",
            "3592   2012-10-05        440.00      2.568932e+08      293966.05\n",
            "8108   2012-10-05        660.00      2.568938e+08      293966.05\n",
            "10773  2012-10-05        915.00      2.568947e+08      293966.05\n",
            "6257   2012-10-12          3.00      2.568947e+08      293966.05\n",
            "3384   2012-10-26        -21.63      2.568947e+08      293966.05\n",
            "\n",
            "[10774 rows x 4 columns]\n"
          ]
        }
      ]
    },
    {
      "cell_type": "markdown",
      "source": [
        "# **Dropping duplicates**\n",
        "\n",
        "Removing duplicates is an essential skill to get accurate counts because often, you don't want to count the same thing multiple times. In this exercise, you'll create some new DataFrames using unique values from `sales`.\n",
        "\n",
        "If you have a DataFrame object, `df`, you can use `df.drop_duplicates(subset=column_name)` to remove duplicates using a single or more columns.\n",
        "\n",
        "The `sales` DataFrame is available as it is read in the previous cells and and pandas is loaded as pd as well in the first cell. Answer each question below in each cell.\n",
        "\n",
        "Based on this, do the following exercises.\n",
        "\n",
        "**Instructions:**\n",
        "* Remove rows of `sales` with duplicate pairs of `store` and `type` and save as `store_types` and print the head.\n",
        "* Remove rows of `sales` with duplicate pairs of `store` and `department` and save as `store_depts` and print the head.\n",
        "* Subset the rows that are holiday weeks using the `is_holiday` column, and drop the duplicate `dates`, saving as `holiday_dates`.\n",
        "* Select the `date` column of `holiday_dates`, and print.\n",
        "\n"
      ],
      "metadata": {
        "id": "6aw5h_5_Z6Zl"
      }
    },
    {
      "cell_type": "code",
      "source": [
        "# Drop duplicate store/type combinations\n",
        "store_types = sales.drop_duplicates(subset=[\"store\",\"type\"])\n",
        "print(store_types.head())\n",
        "\n",
        "# Drop duplicate store/department combinations\n",
        "store_depts =sales.drop_duplicates(subset=[\"store\",\"department\"])\n",
        "print(store_depts.head())\n",
        "\n",
        "# Subset the rows where is_holiday is True and drop duplicate dates\n",
        "holiday_dates = sales[sales[\"is_holiday\"]].drop_duplicates(subset=\"date\")\n",
        "\n",
        "\n",
        "# Print date col of holiday_dates\n",
        "print(holiday_dates[\"date\"])"
      ],
      "metadata": {
        "id": "BIYib3vfayv-",
        "colab": {
          "base_uri": "https://localhost:8080/"
        },
        "outputId": "057d6bc3-21bf-4def-8eaa-a0f75c2e9b1d"
      },
      "execution_count": 33,
      "outputs": [
        {
          "output_type": "stream",
          "name": "stdout",
          "text": [
            "      Unnamed: 0  store type  department        date  weekly_sales  \\\n",
            "0              0      1    A           1  2010-02-05      24924.50   \n",
            "901          901      2    A           1  2010-02-05      35034.06   \n",
            "1798        1798      4    A           1  2010-02-05      38724.42   \n",
            "2699        2699      6    A           1  2010-02-05      25619.00   \n",
            "3593        3593     10    B           1  2010-02-05      40212.84   \n",
            "\n",
            "      is_holiday  temperature_c  fuel_price_usd_per_l  unemployment  \n",
            "0          False       5.727778              0.679451         8.106  \n",
            "901        False       4.550000              0.679451         8.324  \n",
            "1798       False       6.533333              0.686319         8.623  \n",
            "2699       False       4.683333              0.679451         7.259  \n",
            "3593       False      12.411111              0.782478         9.765  \n",
            "    Unnamed: 0  store type  department        date  weekly_sales  is_holiday  \\\n",
            "0            0      1    A           1  2010-02-05      24924.50       False   \n",
            "12          12      1    A           2  2010-02-05      50605.27       False   \n",
            "24          24      1    A           3  2010-02-05      13740.12       False   \n",
            "36          36      1    A           4  2010-02-05      39954.04       False   \n",
            "48          48      1    A           5  2010-02-05      32229.38       False   \n",
            "\n",
            "    temperature_c  fuel_price_usd_per_l  unemployment  \n",
            "0        5.727778              0.679451         8.106  \n",
            "12       5.727778              0.679451         8.106  \n",
            "24       5.727778              0.679451         8.106  \n",
            "36       5.727778              0.679451         8.106  \n",
            "48       5.727778              0.679451         8.106  \n",
            "498     2010-09-10\n",
            "691     2011-11-25\n",
            "2315    2010-02-12\n",
            "6735    2012-09-07\n",
            "6810    2010-12-31\n",
            "6815    2012-02-10\n",
            "6820    2011-09-09\n",
            "Name: date, dtype: object\n"
          ]
        }
      ]
    },
    {
      "cell_type": "markdown",
      "source": [
        "# **Counting categorical variables**\n",
        "\n",
        "Counting is a great way to get an overview of your data and to spot curiosities that you might not notice otherwise. In this exercise, you'll count the number of each type of store and the number of each department number using the DataFrames you created in the previous exercise:\n",
        "\n",
        "`# Drop duplicate store/type combinations`\n",
        "\n",
        "`store_types = sales.drop_duplicates(subset=[\"store\", \"type\"])`\n",
        "\n",
        "`# Drop duplicate store/department combinations`\n",
        "\n",
        "`store_depts = sales.drop_duplicates(subset=[\"store\", \"department\"])`\n",
        "\n",
        "The `store_types` and `store_depts` DataFrames you created in the last exercise are available, and pandas is imported as pd.\n",
        "\n",
        "Based on this, do the following exercises.\n",
        "\n",
        "**Instructions:**\n",
        "* Count the number of stores of each store `type` in `store_types`.\n",
        "* Count the proportion of stores of each store `type` in `store_types`.\n",
        "* Count the number of different `department` s in `store_depts`, sorting the counts in descending order.\n",
        "* Count the proportion of different `department` s in `store_depts`, sorting the proportions in descending order.\n"
      ],
      "metadata": {
        "id": "oXjm7og2dpab"
      }
    },
    {
      "cell_type": "code",
      "source": [
        "# Count the number of stores of each type\n",
        "store_type_counts = store_types[\"type\"].value_counts()\n",
        "print(\"Number of stores of each store type:\")\n",
        "print(store_type_counts)\n",
        "\n",
        "# Count the proportion of stores of each store type in store_types\n",
        "store_type_proportions = store_types[\"type\"].value_counts(normalize=True)\n",
        "print(\"\\nProportion of stores of each store type:\")\n",
        "print(store_type_proportions)\n",
        "\n",
        "# Count the number of different departments in store_depts, sorted in descending order\n",
        "department_counts = store_depts[\"department\"].value_counts()\n",
        "print(\"\\nNumber of different departments (sorted):\")\n",
        "print(department_counts)\n",
        "\n",
        "# Count the proportion of different departments in store_depts, sorted in descending order\n",
        "department_proportions = store_depts[\"department\"].value_counts(normalize=True)\n",
        "print(\"\\nProportion of different departments (sorted):\")\n",
        "print(department_proportions)\n"
      ],
      "metadata": {
        "id": "0-RqngWlfUrv",
        "colab": {
          "base_uri": "https://localhost:8080/"
        },
        "outputId": "1755d08f-cf7f-45ba-f0d8-75420fd83484"
      },
      "execution_count": 36,
      "outputs": [
        {
          "output_type": "stream",
          "name": "stdout",
          "text": [
            "Number of stores of each store type:\n",
            "type\n",
            "A    11\n",
            "B     1\n",
            "Name: count, dtype: int64\n",
            "\n",
            "Proportion of stores of each store type:\n",
            "type\n",
            "A    0.916667\n",
            "B    0.083333\n",
            "Name: proportion, dtype: float64\n",
            "\n",
            "Number of different departments (sorted):\n",
            "department\n",
            "1     12\n",
            "55    12\n",
            "72    12\n",
            "71    12\n",
            "67    12\n",
            "      ..\n",
            "37    10\n",
            "48     8\n",
            "50     6\n",
            "39     4\n",
            "43     2\n",
            "Name: count, Length: 80, dtype: int64\n",
            "\n",
            "Proportion of different departments (sorted):\n",
            "department\n",
            "1     0.012917\n",
            "55    0.012917\n",
            "72    0.012917\n",
            "71    0.012917\n",
            "67    0.012917\n",
            "        ...   \n",
            "37    0.010764\n",
            "48    0.008611\n",
            "50    0.006459\n",
            "39    0.004306\n",
            "43    0.002153\n",
            "Name: proportion, Length: 80, dtype: float64\n"
          ]
        }
      ]
    },
    {
      "cell_type": "markdown",
      "source": [
        "# **What percent of sales occurred at each store type?**\n",
        "\n",
        "While `.groupby()` is useful, you can also calculate grouped summary statistics without it.\n",
        "\n",
        "Walmart distinguishes three types of stores: \"supercenters,\" \"discount stores,\" and \"neighborhood markets,\" encoded in this dataset as type \"A,\" \"B,\" and \"C.\" In this exercise, you'll calculate the total sales made at each store type, without using `.groupby()`. You can then use these numbers to see what proportion of Walmart's total sales were made at each type.\n",
        "\n",
        "The `sales` DataFrame is available as it is read in the previous cells and and pandas is loaded as pd as well in the first cell. Answer each question below in each cell.\n",
        "\n",
        "Based on this, do the following exercises.\n",
        "\n",
        "**Instructions:**\n",
        "* Calculate the total `weekly_sales` over the whole dataset.\n",
        "* Subset for `type` \"A\" stores, and calculate their total weekly sales.\n",
        "* Do the same for `type` \"B\" and `type` \"C\" stores.\n",
        "* Combine the A/B/C results into a list, and divide by `sales_all` to get the proportion of sales by type.\n"
      ],
      "metadata": {
        "id": "IRtVuLRrhybb"
      }
    },
    {
      "cell_type": "code",
      "source": [
        "\n",
        "sales_all = sales[\"weekly_sales\"].sum()\n",
        "print(f\"Total sales (all stores): {sales_all}\")\n",
        "\n",
        "# Subset for type \"A\" stores and calculate their total weekly sales\n",
        "sales_A = sales[sales[\"type\"] == \"A\"][\"weekly_sales\"].sum()\n",
        "print(f\"Total sales (type A stores): {sales_A}\")\n",
        "\n",
        "# Subset for type \"B\" stores and calculate their total weekly sales\n",
        "sales_B = sales[sales[\"type\"] == \"B\"][\"weekly_sales\"].sum()\n",
        "print(f\"Total sales (type B stores): {sales_B}\")\n",
        "\n",
        "# Subset for type \"C\" stores and calculate their total weekly sales\n",
        "sales_C = sales[sales[\"type\"] == \"C\"][\"weekly_sales\"].sum()\n",
        "print(sales_C)\n",
        "\n",
        "# Get proportion for each type\n",
        "sales_propn_by_type = [sales_A, sales_B, sales_C] / sales_all\n",
        "print(sales_propn_by_type)"
      ],
      "metadata": {
        "id": "OM07B30djGcI",
        "colab": {
          "base_uri": "https://localhost:8080/"
        },
        "outputId": "cdd37d50-bef9-4651-9b75-ab5eb88afe49"
      },
      "execution_count": 40,
      "outputs": [
        {
          "output_type": "stream",
          "name": "stdout",
          "text": [
            "Total sales (all stores): 256894718.89999998\n",
            "Total sales (type A stores): 233716315.01\n",
            "Total sales (type B stores): 23178403.89\n",
            "0.0\n",
            "[0.9097747 0.0902253 0.       ]\n"
          ]
        }
      ]
    },
    {
      "cell_type": "markdown",
      "source": [
        "# **Calculations with `.groupby()`**\n",
        "\n",
        "The `.groupby()` method makes life much easier. In this exercise, you'll perform the same calculations as last time, except you'll use the `.groupby()` method. You'll also perform calculations on data grouped by two variables to see if sales differ by store type depending on if it's a holiday week or not.\n",
        "\n",
        "The `sales` DataFrame is available as it is read in the previous cells and and pandas is loaded as pd as well in the first cell. Answer each question below in each cell.\n",
        "\n",
        "Based on this, do the following exercises.\n",
        "\n",
        "**Instructions:**\n",
        "* Group sales by \"`type`\", take the sum of \"`weekly_sales`\", and store as `sales_by_type`.\n",
        "* Calculate the proportion of `sales` at each store `type` by dividing by the sum of `sales_by_type`. Assign to `sales_propn_by_type`.\n"
      ],
      "metadata": {
        "id": "Oq4JfYskkD0d"
      }
    },
    {
      "cell_type": "code",
      "source": [
        "# Group by type; calc total weekly sales\n",
        "sales_by_type = sales.groupby(\"type\")[\"weekly_sales\"].sum()\n",
        "\n",
        "# Get proportion for each type\n",
        "sales_propn_by_type = sales_by_type / sum(sales_by_type)\n",
        "print(sales_propn_by_type)"
      ],
      "metadata": {
        "id": "PH0hmwTemr2B",
        "colab": {
          "base_uri": "https://localhost:8080/"
        },
        "outputId": "3010486f-3bb2-4d32-e167-0d1fe0e17146"
      },
      "execution_count": 41,
      "outputs": [
        {
          "output_type": "stream",
          "name": "stdout",
          "text": [
            "type\n",
            "A    0.909775\n",
            "B    0.090225\n",
            "Name: weekly_sales, dtype: float64\n"
          ]
        }
      ]
    },
    {
      "cell_type": "markdown",
      "source": [
        "# **Multiple grouped summaries**\n",
        "\n",
        "Earlier in this chapter, you saw that the `.agg()` method is useful to compute multiple statistics on multiple variables. It also works with grouped data. NumPy, which is imported as np, has many different summary statistics functions, including: np.min, np.max, np.mean, and np.median.\n",
        "\n",
        "The `sales` DataFrame is available as it is read in the previous cells and and pandas is loaded as pd as well in the first cell. Answer each question below in each cell.\n",
        "\n",
        "Based on this, do the following exercises.\n",
        "\n",
        "**Instructions:**\n",
        "* Import `numpy` with the alias `np`.\n",
        "* Get the `min`, `max`, `mean`, and `median` of `weekly_sales` for each store type using `.groupby()` and `.agg()`. Store this as `sales_stats`. Make sure to use numpy functions!\n",
        "* Get the `min`, `max`, `mean`, and `median` of `unemployment` and `fuel_price_usd_per_l` for each store `type`. Store this as `unemp_fuel_stats`.\n"
      ],
      "metadata": {
        "id": "mF3E7kikmtbE"
      }
    },
    {
      "cell_type": "code",
      "source": [
        "# Import numpy with the alias np\n",
        "import numpy as np\n",
        "\n",
        "\n",
        "# For each store type, aggregate weekly_sales: get min, max, mean, and median\n",
        "sales_stats = sales.groupby(\"type\")[\"weekly_sales\"].agg(['min', 'max', 'mean', 'median'])\n",
        "\n",
        "\n",
        "\n",
        "# Print sales_stats\n",
        "print(sales_stats)\n",
        "\n",
        "# For each store type, aggregate unemployment and fuel_price_usd_per_l: get min, max, mean, and median\n",
        "\n",
        "unemp_fuel_stats = sales.groupby(\"type\")[[\"unemployment\",\"fuel_price_usd_per_l\"]].agg(['min','max','mean','median'])\n",
        "\n",
        "# Print unemp_fuel_stats\n",
        "print(unemp_fuel_stats)"
      ],
      "metadata": {
        "id": "sy_K23kSnf-T",
        "colab": {
          "base_uri": "https://localhost:8080/"
        },
        "outputId": "c96142e9-222d-49cd-ec9f-679afd39a475"
      },
      "execution_count": 50,
      "outputs": [
        {
          "output_type": "stream",
          "name": "stdout",
          "text": [
            "         min        max          mean    median\n",
            "type                                           \n",
            "A    -1098.0  293966.05  23674.667242  11943.92\n",
            "B     -798.0  232558.51  25696.678370  13336.08\n",
            "     unemployment                         fuel_price_usd_per_l            \\\n",
            "              min    max      mean median                  min       max   \n",
            "type                                                                       \n",
            "A           3.879  8.992  7.972611  8.067             0.664129  1.107410   \n",
            "B           7.170  9.765  9.279323  9.199             0.760023  1.107674   \n",
            "\n",
            "                          \n",
            "          mean    median  \n",
            "type                      \n",
            "A     0.744619  0.735455  \n",
            "B     0.805858  0.803348  \n"
          ]
        }
      ]
    },
    {
      "cell_type": "markdown",
      "source": [
        "# **Pivoting on one variable**\n",
        "\n",
        "Pivot tables are the standard way of aggregating data in spreadsheets.\n",
        "\n",
        "In pandas, pivot tables are essentially another way of performing grouped calculations. That is, the `.pivot_table()` method is an alternative to `.groupby()`.\n",
        "\n",
        "In this exercise, you'll perform calculations using `.pivot_table()` to replicate the calculations you performed in the last lesson using `.groupby()`.\n",
        "\n",
        "The `sales` DataFrame is available as it is read in the previous cells and and pandas is loaded as pd as well in the first cell. Answer each question below in each cell.\n",
        "\n",
        "Based on this, do the following exercises.\n",
        "\n",
        "**Instructions:**\n",
        "1. Get the mean `weekly_sales` by type using `.pivot_table()` and store as `mean_sales_by_type`."
      ],
      "metadata": {
        "id": "D5QdC7fUodOs"
      }
    },
    {
      "cell_type": "code",
      "source": [
        "# Pivot for mean weekly_sales for each store type\n",
        "mean_sales_by_type = sales.pivot_table(values=\"weekly_sales\",index=\"type\",aggfunc=\"mean\")\n",
        "\n",
        "# Print mean_sales_by_type\n",
        "print(mean_sales_by_type)"
      ],
      "metadata": {
        "id": "bjQ9-VXbo5QA",
        "colab": {
          "base_uri": "https://localhost:8080/"
        },
        "outputId": "8883b586-807f-4e2f-982a-a7cb011f5120"
      },
      "execution_count": 56,
      "outputs": [
        {
          "output_type": "stream",
          "name": "stdout",
          "text": [
            "      weekly_sales\n",
            "type              \n",
            "A     23674.667242\n",
            "B     25696.678370\n"
          ]
        }
      ]
    },
    {
      "cell_type": "markdown",
      "source": [
        "2. Get the `mean` and `median` (using NumPy functions) of `weekly_sales` by type using `.pivot_table()` and store as `mean_med_sales_by_type`."
      ],
      "metadata": {
        "id": "sBcgYZ21o8eN"
      }
    },
    {
      "cell_type": "code",
      "source": [
        "# Pivot for mean and median of weekly_sales for each store type\n",
        "mean_med_sales_by_type = sales.pivot_table(values=\"weekly_sales\",index=\"type\",aggfunc=[\"mean\",\"median\"])\n",
        "\n",
        "# Print mean_med_sales_by_type\n",
        "print(mean_med_sales_by_type)"
      ],
      "metadata": {
        "id": "Tn2Ai3EkpIma",
        "colab": {
          "base_uri": "https://localhost:8080/"
        },
        "outputId": "3a73f374-cf43-40f3-da23-57d5ee102d4b"
      },
      "execution_count": 58,
      "outputs": [
        {
          "output_type": "stream",
          "name": "stdout",
          "text": [
            "              mean       median\n",
            "      weekly_sales weekly_sales\n",
            "type                           \n",
            "A     23674.667242     11943.92\n",
            "B     25696.678370     13336.08\n"
          ]
        }
      ]
    },
    {
      "cell_type": "markdown",
      "source": [
        "3. Get the `mean` of `weekly_sales` by `type` and `is_holiday` using .`pivot_table()` and store as `mean_sales_by_type_holiday`."
      ],
      "metadata": {
        "id": "NJsFlTaxpVYF"
      }
    },
    {
      "cell_type": "code",
      "source": [
        "# Pivot for mean weekly_sales for each store type for holiday\n",
        "mean_sales_by_type_holiday = sales.pivot_table(values=\"weekly_sales\",index=\"type\",columns=\"is_holiday\",aggfunc=\"mean\")\n",
        "\n",
        "# Print mean_sales_by_type_holiday\n",
        "print(mean_sales_by_type_holiday)"
      ],
      "metadata": {
        "id": "GLe-IntDpcOF",
        "colab": {
          "base_uri": "https://localhost:8080/"
        },
        "outputId": "e2d6e6c4-2809-4b88-d354-025f111b346d"
      },
      "execution_count": 62,
      "outputs": [
        {
          "output_type": "stream",
          "name": "stdout",
          "text": [
            "is_holiday         False      True \n",
            "type                               \n",
            "A           23768.583523  590.04525\n",
            "B           25751.980533  810.70500\n"
          ]
        }
      ]
    },
    {
      "cell_type": "markdown",
      "source": [
        "# **Fill in missing values and sum values with pivot tables**\n",
        "\n",
        "The `.pivot_table()` method has several useful arguments, including `fill_value` and `margins`.\n",
        "\n",
        "* `fill_value` replaces missing values with a real value (known as imputation). What to replace missing values with is a topic big enough to have its own course (Dealing with Missing Data in Python), but the simplest thing to do is to substitute a dummy value.\n",
        "* `margins` is a shortcut for when you pivoted by two variables, but also wanted to pivot by each of those variables separately: it gives the row and column totals of the pivot table contents.\n",
        "\n",
        "In this exercise, you'll practice using these arguments to up your pivot table skills, which will help you crunch numbers more efficiently!\n",
        "\n",
        "The `sales` DataFrame is available as it is read in the previous cells and and pandas is loaded as pd as well in the first cell. Answer each question below in each cell.\n",
        "\n",
        "Based on this, do the following exercises.\n",
        "\n",
        "**Instructions:**\n",
        "1. Print the mean `weekly_sales` by `department` and `type`, filling in any missing values with `0`.\n",
        "\n",
        "2. Print the mean `weekly_sales` by `department` and `type`, filling in any missing values with `0` and summing all rows and columns."
      ],
      "metadata": {
        "id": "6ZFQolz9p1Wl"
      }
    },
    {
      "cell_type": "code",
      "source": [
        "# Print mean weekly_sales by department and type; fill missing values with 0\n",
        "print((sales.pivot_table(values=\"weekly_sales\",index=\"type\",columns=\"department\",aggfunc=\"mean\",fill_value='0')\n",
        "))\n",
        "\n",
        "# Print mean weekly_sales by department and type; fill missing values with 0\n",
        "# and summing all rows and columns\n",
        "print(sales.pivot_table(values=\"weekly_sales\",index=\"type\",columns=\"department\",aggfunc=\"mean\",fill_value='0', margins=True))\n"
      ],
      "metadata": {
        "id": "mjt-7NL5qZvc",
        "colab": {
          "base_uri": "https://localhost:8080/"
        },
        "outputId": "3a93eefd-042c-4d5f-c9f7-765d6a56a5d8"
      },
      "execution_count": 63,
      "outputs": [
        {
          "output_type": "stream",
          "name": "stdout",
          "text": [
            "department            1              2             3             4   \\\n",
            "type                                                                  \n",
            "A           30961.725379   67600.158788  17160.002955  44285.399091   \n",
            "B           44050.626667  112958.526667  30580.655000  51219.654167   \n",
            "\n",
            "department            5             6             7             8   \\\n",
            "type                                                                 \n",
            "A           34821.011364   7136.292652  38454.336818  48583.475303   \n",
            "B           63236.875000  10717.297500  52909.653333  90733.753333   \n",
            "\n",
            "department            9             10  ...            90            91  \\\n",
            "type                                    ...                               \n",
            "A           30120.449924  30930.456364  ...  85776.905909  70423.165227   \n",
            "B           66679.301667  48595.126667  ...  14780.210000  13199.602500   \n",
            "\n",
            "department             92            93            94             95  \\\n",
            "type                                                                   \n",
            "A           139722.204773  53413.633939  60081.155303  123933.787121   \n",
            "B            50859.278333   1466.274167    161.445833   77082.102500   \n",
            "\n",
            "department            96            97            98          99  \n",
            "type                                                              \n",
            "A           21367.042857  28471.266970  12875.423182  379.123659  \n",
            "B            9528.538333   5828.873333    217.428333           0  \n",
            "\n",
            "[2 rows x 80 columns]\n",
            "department             1              2             3             4  \\\n",
            "type                                                                  \n",
            "A           30961.725379   67600.158788  17160.002955  44285.399091   \n",
            "B           44050.626667  112958.526667     30580.655  51219.654167   \n",
            "All         32052.467153   71380.022778  18278.390625  44863.253681   \n",
            "\n",
            "department             5            6             7             8  \\\n",
            "type                                                                \n",
            "A           34821.011364  7136.292652  38454.336818  48583.475303   \n",
            "B              63236.875   10717.2975  52909.653333  90733.753333   \n",
            "All              37189.0  7434.709722  39658.946528  52095.998472   \n",
            "\n",
            "department             9            10  ...            91             92  \\\n",
            "type                                    ...                                \n",
            "A           30120.449924  30930.456364  ...  70423.165227  139722.204773   \n",
            "B           66679.301667  48595.126667  ...    13199.6025   50859.278333   \n",
            "All         33167.020903  32402.512222  ...     65654.535  132316.960903   \n",
            "\n",
            "department            93            94             95            96  \\\n",
            "type                                                                  \n",
            "A           53413.633939  60081.155303  123933.787121  21367.042857   \n",
            "B            1466.274167    161.445833     77082.1025   9528.538333   \n",
            "All         49084.687292  55087.846181  120029.480069  20337.607681   \n",
            "\n",
            "department            97            98          99           All  \n",
            "type                                                              \n",
            "A            28471.26697  12875.423182  379.123659  23674.667242  \n",
            "B            5828.873333    217.428333           0   25696.67837  \n",
            "All         26584.400833  11820.590278  379.123659  23843.950149  \n",
            "\n",
            "[3 rows x 81 columns]\n"
          ]
        },
        {
          "output_type": "stream",
          "name": "stderr",
          "text": [
            "<ipython-input-63-4fd90184ef15>:2: FutureWarning: Downcasting object dtype arrays on .fillna, .ffill, .bfill is deprecated and will change in a future version. Call result.infer_objects(copy=False) instead. To opt-in to the future behavior, set `pd.set_option('future.no_silent_downcasting', True)`\n",
            "  print((sales.pivot_table(values=\"weekly_sales\",index=\"type\",columns=\"department\",aggfunc=\"mean\",fill_value='0')\n",
            "<ipython-input-63-4fd90184ef15>:7: FutureWarning: Downcasting object dtype arrays on .fillna, .ffill, .bfill is deprecated and will change in a future version. Call result.infer_objects(copy=False) instead. To opt-in to the future behavior, set `pd.set_option('future.no_silent_downcasting', True)`\n",
            "  print(sales.pivot_table(values=\"weekly_sales\",index=\"type\",columns=\"department\",aggfunc=\"mean\",fill_value='0', margins=True))\n"
          ]
        }
      ]
    }
  ]
}