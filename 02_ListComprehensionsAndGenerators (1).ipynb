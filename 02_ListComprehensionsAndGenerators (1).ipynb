{
  "nbformat": 4,
  "nbformat_minor": 0,
  "metadata": {
    "colab": {
      "provenance": []
    },
    "kernelspec": {
      "name": "python3",
      "display_name": "Python 3"
    },
    "language_info": {
      "name": "python"
    }
  },
  "cells": [
    {
      "cell_type": "code",
      "execution_count": 1,
      "metadata": {
        "id": "306oYpTcpxBj"
      },
      "outputs": [],
      "source": [
        "#Importing necessary libraries for this notebook\n",
        "import pandas as pd\n"
      ]
    },
    {
      "cell_type": "markdown",
      "source": [
        "# **Write a basic list comprehension**\n",
        "\n",
        "In this exercise, you will practice what you've learned from the class about writing list comprehensions. You will write a list comprehension and identify the output that will be produced.\n",
        "\n",
        "The following list has been assigned in the codecell below.\n",
        "\n",
        "`doctor = ['house', 'cuddy', 'chase', 'thirteen', 'wilson']`\n",
        "\n",
        "How would a list comprehension that produces a list of the first character of each string in `doctor` look like? Note that the list comprehension uses `doc` as the iterator variable. What will the output be? Print either A, B, or C in the codecell below after your worked out the list comprehension for yourself.\n",
        "\n",
        "* A. The list comprehension is `[for doc in doctor: doc[0]]` and produces the list `['h', 'c', 'c', 't', 'w']`.\n",
        "* B. The list comprehension is `[doc[0] for doc in doctor]` and produces the list `['h', 'c', 'c', 't', 'w']`.\n",
        "* C. The list comprehension is `[doc[0] in doctor]` and produces the list `['h', 'c', 'c', 't', 'w']`."
      ],
      "metadata": {
        "id": "a5lmSkAF20Qe"
      }
    },
    {
      "cell_type": "code",
      "source": [
        "#Assign the doctor list\n",
        "doctor = ['house', 'cuddy', 'chase', 'thirteen', 'wilson']\n",
        "\n",
        "\n",
        "#Print either A, B or C as an aswer choice for the above question\n",
        "print('B')\n"
      ],
      "metadata": {
        "id": "7oEYBLiK3DzT",
        "colab": {
          "base_uri": "https://localhost:8080/"
        },
        "outputId": "af55882b-6759-49fb-8f99-81b391314d43"
      },
      "execution_count": null,
      "outputs": [
        {
          "output_type": "stream",
          "name": "stdout",
          "text": [
            "B\n"
          ]
        }
      ]
    },
    {
      "cell_type": "markdown",
      "source": [
        "# **List comprehension over iterables**\n",
        "\n",
        "You know that list comprehensions can be built over iterables. Given the following objects below, which of these can we build list comprehensions over?\n",
        "\n",
        "`doctor = ['house', 'cuddy', 'chase', 'thirteen', 'wilson']`\n",
        "\n",
        "`range(50)`\n",
        "\n",
        "`underwood = 'After all, we are nothing more or less than what we choose to reveal.'`\n",
        "\n",
        "`jean = '24601'`\n",
        "\n",
        "`flash = ['jay garrick', 'barry allen', 'wally west', 'bart allen']`\n",
        "\n",
        "`valjean = 24601`\n",
        "\n",
        "Whic of these assigned objects are iterables and we can build list comprehension over? Print either A, B, C or D in the codecell below.\n",
        "\n",
        "* A. You can build list comprehensions over all the objects except the string of number characters `jean`.\n",
        "* B. You can build list comprehensions over all the objects except the string lists `doctor` and `flash`.\n",
        "* C. You can build list comprehensions over all the objects except `range(50)`.\n",
        "* D. You can build list comprehensions over all the objects except the integer object `valjean`."
      ],
      "metadata": {
        "id": "ZNxg7lSi4MUB"
      }
    },
    {
      "cell_type": "code",
      "source": [
        "#Print either A, B, C or D as answer to the question above\n",
        "print(D)"
      ],
      "metadata": {
        "id": "f6ahhdB85BzI"
      },
      "execution_count": null,
      "outputs": []
    },
    {
      "cell_type": "markdown",
      "source": [
        "# **Writing list comprehensions**\n",
        "\n",
        "You now have all the knowledge necessary to begin writing list comprehensions! Your job in this exercise is to write a list comprehension that produces a list of the squares of the numbers ranging from `0` to `9`.\n",
        "\n",
        "**Instructions:**\n",
        "* Using the range of numbers from `0` to `9` as your iterable and `i` as your iterator variable, write a list comprehension that produces a list of numbers consisting of the squared values of `i`.\n"
      ],
      "metadata": {
        "id": "Ju3Ktqt75VRS"
      }
    },
    {
      "cell_type": "code",
      "source": [
        "# Create list comprehension: squares\n",
        "squares = [i**2 for i in range(10)]\n",
        "print(squares)\n"
      ],
      "metadata": {
        "id": "6AXDTke_5mlS",
        "colab": {
          "base_uri": "https://localhost:8080/"
        },
        "outputId": "1df235d3-5c0a-459b-e112-f78261a28343"
      },
      "execution_count": 1,
      "outputs": [
        {
          "output_type": "stream",
          "name": "stdout",
          "text": [
            "[0, 1, 4, 9, 16, 25, 36, 49, 64, 81]\n"
          ]
        }
      ]
    },
    {
      "cell_type": "markdown",
      "source": [
        "# **Nested list comprehensions**\n",
        "\n",
        "At this point, you have a good grasp of the basic syntax of list comprehensions. Let's push your code-writing skills a little further. In this exercise, you will be writing a list comprehension within another list comprehension, or nested list comprehensions. It sounds a little tricky, but you can do it!\n",
        "\n",
        "Let's step aside for a while from strings. One of the ways in which lists can be used are in representing multi-dimension objects such as matrices. Matrices can be represented as a list of lists in Python. For example a `5 x 5` matrix with values `0` to `4 `in each row can be written as:\n",
        "```\n",
        "matrix = [[0, 1, 2, 3, 4],\n",
        "          [0, 1, 2, 3, 4],\n",
        "          [0, 1, 2, 3, 4],\n",
        "          [0, 1, 2, 3, 4],\n",
        "          [0, 1, 2, 3, 4]]\n",
        "```\n",
        "\n",
        "Your task is to recreate this matrix by using nested listed comprehensions. Recall that you can create one of the rows of the matrix with a single list comprehension. To create the list of lists, you simply have to supply the list comprehension as the output expression of the overall list comprehension:\n",
        "\n",
        "`[[output expression] for iterator variable in iterable]`\n",
        "\n",
        "Note that here, the output expression is itself a list comprehension.\n",
        "\n",
        "**Instructions:**\n",
        "* In the inner list comprehension - that is, the output expression of the nested list comprehension - create a list of values from `0` to `4` using `range()`. Use `col` as the iterator variable.\n",
        "* In the iterable part of your nested list comprehension, use `range()` to count `5` rows - that is, create a list of values from `0` to `4`. Use `row` as the iterator variable; note that you won't be needing this variable to create values in the list of lists.\n"
      ],
      "metadata": {
        "id": "ATWnOIE758iQ"
      }
    },
    {
      "cell_type": "code",
      "source": [
        "# Create a 5 x 5 matrix using a list of lists: matrix\n",
        "matrix = [[col for col in range(5)] for row in range(5)]\n",
        "\n",
        "\n",
        "# Print the matrix\n",
        "for row in matrix:\n",
        "    print(row)\n"
      ],
      "metadata": {
        "id": "E2svLJs36x17",
        "colab": {
          "base_uri": "https://localhost:8080/"
        },
        "outputId": "c24045bc-47ad-427b-bb80-abcd3965e4c9"
      },
      "execution_count": 2,
      "outputs": [
        {
          "output_type": "stream",
          "name": "stdout",
          "text": [
            "[0, 1, 2, 3, 4]\n",
            "[0, 1, 2, 3, 4]\n",
            "[0, 1, 2, 3, 4]\n",
            "[0, 1, 2, 3, 4]\n",
            "[0, 1, 2, 3, 4]\n"
          ]
        }
      ]
    },
    {
      "cell_type": "markdown",
      "source": [
        "# **Using conditionals in comprehensions (1)**\n",
        "\n",
        "You've been using list comprehensions to build lists of values, sometimes using operations to create these values.\n",
        "\n",
        "An interesting mechanism in list comprehensions is that you can also create lists with values that meet only a certain condition. One way of doing this is by using conditionals on iterator variables. In this exercise, you will do exactly that!\n",
        "\n",
        "Recall from the class that you can apply a conditional statement to test the iterator variable by adding an `if` statement in the optional predicate expression part after the for statement in the comprehension:\n",
        "\n",
        "`[ output expression for iterator variable in iterable if predicate expression ]`.\n",
        "\n",
        "You will use this recipe to write a list comprehension for this exercise. You are given a list of strings `fellowship` and, using a list comprehension, you will create a list that only includes the members of fellowship that have `7` characters or more.\n",
        "\n",
        "**Instructions:**\n",
        "* Use member as the iterator variable in the list comprehension. For the conditional, use `len()` to evaluate the iterator variable. Note that you only want strings with `7 `characters or more.\n"
      ],
      "metadata": {
        "id": "hbS46N_37mKR"
      }
    },
    {
      "cell_type": "code",
      "source": [
        "# Create a list of strings: fellowship\n",
        "fellowship = ['frodo', 'samwise', 'merry', 'aragorn', 'legolas', 'boromir', 'gimli']\n",
        "\n",
        "\n",
        "\n",
        "# Create list comprehension: new_fellowship\n",
        "new_fellowship = [____ for ____ in fellowship ____]\n",
        "\n",
        "# Print the new list\n",
        "print(new_fellowship)\n"
      ],
      "metadata": {
        "id": "E6te-x7U8JwV"
      },
      "execution_count": null,
      "outputs": []
    },
    {
      "cell_type": "markdown",
      "source": [
        "# **Using conditionals in comprehensions (2)**\n",
        "\n",
        "In the previous exercise, you used an `if` conditional statement in the predicate expression part of a list comprehension to evaluate an iterator variable. In this exercise, you will use an `if-else` statement on the output expression of the list.\n",
        "\n",
        "You will work on the same list, `fellowship` and, using a list comprehension and an `if-else` conditional statement in the output expression, create a list that keeps members of fellowship with `7 `or more characters and replaces others with an empty string. Use `member` as the iterator variable in the list comprehension.\n",
        "\n",
        "**Instructions:**\n",
        "* In the output expression, keep the string as-is if the number of characters is `>= 7`, `else` replace it with an empty string - that is, `''` or `\"\"`.\n"
      ],
      "metadata": {
        "id": "NEveuwnj8dzY"
      }
    },
    {
      "cell_type": "code",
      "source": [
        "# Create a list of strings: fellowship\n",
        "fellowship = ['frodo', 'samwise', 'merry', 'aragorn', 'legolas', 'boromir', 'gimli']\n",
        "\n",
        "\n",
        "long_names = [member for member in fellowship if len(member) >= 7]\n",
        "print(long_names)\n",
        "\n",
        "\n"
      ],
      "metadata": {
        "id": "gCYGmDPG83LS",
        "colab": {
          "base_uri": "https://localhost:8080/"
        },
        "outputId": "34ce5c73-7fac-430d-f5bf-3db9a23a5c12"
      },
      "execution_count": 3,
      "outputs": [
        {
          "output_type": "stream",
          "name": "stdout",
          "text": [
            "['samwise', 'aragorn', 'legolas', 'boromir']\n"
          ]
        }
      ]
    },
    {
      "cell_type": "markdown",
      "source": [
        "# **Dict comprehensions**\n",
        "\n",
        "Comprehensions aren't relegated merely to the world of lists. There are many other objects you can build using comprehensions, such as dictionaries, pervasive objects in Data Science. You will create a dictionary using the comprehension syntax for this exercise. In this case, the comprehension is called a dict comprehension.\n",
        "\n",
        "Recall that the main difference between a list comprehension and a dict comprehension is the use of curly braces `{}` instead of `[]`. Additionally, members of the dictionary are created using a colon `:`, as in `<key> : <value>`.\n",
        "\n",
        "You are given a list of strings `fellowship` and, using a dict comprehension, create a dictionary with the members of the list as the keys and the length of each string as the corresponding values.\n",
        "\n",
        "**Instructions:**\n",
        "* Create a dict comprehension where the key is a string in `fellowship` and the value is the length of the string. Remember to use the syntax `<key> : <value> `in the output expression part of the comprehension to create the members of the dictionary. Use `member` as the iterator variable."
      ],
      "metadata": {
        "id": "AHHPiLyF9H79"
      }
    },
    {
      "cell_type": "code",
      "source": [
        "# Create a list of strings: fellowship\n",
        "fellowship = ['frodo', 'samwise', 'merry', 'aragorn', 'legolas', 'boromir', 'gimli']\n",
        "\n",
        "\n",
        "\n",
        "fellowship_dict = {member: len(member) for member in fellowship}\n",
        "print(fellowship_dict)\n",
        "\n",
        "\n"
      ],
      "metadata": {
        "id": "yS_O0p7T9nPI",
        "colab": {
          "base_uri": "https://localhost:8080/"
        },
        "outputId": "4a8a9e7c-b86e-4b7d-b15b-5e7ec1cd9e68"
      },
      "execution_count": 4,
      "outputs": [
        {
          "output_type": "stream",
          "name": "stdout",
          "text": [
            "{'frodo': 5, 'samwise': 7, 'merry': 5, 'aragorn': 7, 'legolas': 7, 'boromir': 7, 'gimli': 5}\n"
          ]
        }
      ]
    },
    {
      "cell_type": "markdown",
      "source": [
        "# **List comprehensions vs. generators**\n",
        "\n",
        "You've seen from our class that list comprehensions and generator expressions look very similar in their syntax, except for the use of parentheses `()` in generator expressions and brackets `[]` in list comprehensions.\n",
        "\n",
        "In this exercise, you will recall the difference between list comprehensions and generators. To help with that task, the following code has been added as the first lines of code in the codecell below:\n",
        "```\n",
        "# List of strings\n",
        "fellowship = ['frodo', 'samwise', 'merry', 'aragorn', 'legolas', 'boromir', 'gimli']\n",
        "\n",
        "# List comprehension\n",
        "fellow1 = [member for member in fellowship if len(member) >= 7]\n",
        "\n",
        "# Generator expression\n",
        "fellow2 = (member for member in fellowship if len(member) >= 7)\n",
        "```\n",
        "Try to play around with `fellow1` and `fellow2` by figuring out their types and printing out their values. Based on your observations and what you can recall from the class, select from the options below the best description for the difference between list comprehensions and generators. Then print out either choice A, B, or C in the last line of code in the codecell below.\n",
        "\n",
        "* A. List comprehensions and generators are not different at all; they are just different ways of writing the same thing.\n",
        "* B. A list comprehension produces a list as output, a generator produces a generator object.\n",
        "* C. A list comprehension produces a list as output that can be iterated over, a generator produces a generator object that can't be iterated over."
      ],
      "metadata": {
        "id": "z7WLoJfr-0Me"
      }
    },
    {
      "cell_type": "code",
      "source": [
        "# List of strings\n",
        "fellowship = ['frodo', 'samwise', 'merry', 'aragorn', 'legolas', 'boromir', 'gimli']\n",
        "\n",
        "# List comprehension\n",
        "fellow1 = [member for member in fellowship if len(member) >= 7]\n",
        "\n",
        "# Generator expression\n",
        "fellow2 = (member for member in fellowship if len(member) >= 7)\n",
        "\n",
        "#Print either A, B or C as an aswer choice for the above question\n",
        "print('B')\n",
        "\n"
      ],
      "metadata": {
        "id": "Il2Yosk8_iqt",
        "colab": {
          "base_uri": "https://localhost:8080/"
        },
        "outputId": "3c8d8102-cf2d-4eb6-e934-1a810adac49e"
      },
      "execution_count": 5,
      "outputs": [
        {
          "output_type": "stream",
          "name": "stdout",
          "text": [
            "B\n"
          ]
        }
      ]
    },
    {
      "cell_type": "markdown",
      "source": [
        "# **Write your own generator expressions**\n",
        "\n",
        "You are familiar with what generators and generator expressions are, as well as its difference from list comprehensions. In this exercise, you will practice building generator expressions on your own.\n",
        "\n",
        "Recall that generator expressions basically have the same syntax as list comprehensions, except that it uses parentheses `()` instead of brackets `[]`; this should make things feel familiar! Furthermore, if you have ever iterated over a dictionary with `.items()`, or used the `range()` function, for example, you have already encountered and used generators before, without knowing it! When you use these functions, Python creates generators for you behind the scenes.\n",
        "\n",
        "Now, you will start simple by creating a generator object that produces numeric values.\n",
        "\n",
        "**Instructions:**\n",
        "* Create a generator object that will produce values from `0` to `30`. Assign the result to `result` and use `num` as the iterator variable in the generator expression.\n",
        "* Print the first `5` values by using `next()` appropriately in `print()`.\n",
        "* Print the rest of the values by using a `for` loop to iterate over the generator object.\n"
      ],
      "metadata": {
        "id": "sZz8CopyAHj0"
      }
    },
    {
      "cell_type": "code",
      "source": [
        "# Create generator object: result\n",
        "result = (num for num in range(31))\n",
        "\n",
        "# Print the first 5 values using next()\n",
        "print(next(result))  # Output: 0\n",
        "print(next(result))  # Output: 1\n",
        "print(next(result))  # Output: 2\n",
        "print(next(result))  # Output: 3\n",
        "print(next(result))  # Output: 4\n",
        "\n",
        "# Print the rest of the values using a for loop\n",
        "for num in result:\n",
        "    print(num)\n",
        "\n"
      ],
      "metadata": {
        "id": "es9LAO6xAk0q",
        "colab": {
          "base_uri": "https://localhost:8080/",
          "height": 763
        },
        "outputId": "c543eec4-0200-45fa-9d89-717fc7a99f76"
      },
      "execution_count": 6,
      "outputs": [
        {
          "output_type": "stream",
          "name": "stdout",
          "text": [
            "0\n",
            "1\n",
            "2\n",
            "3\n",
            "4\n",
            "5\n",
            "6\n",
            "7\n",
            "8\n",
            "9\n",
            "10\n",
            "11\n",
            "12\n",
            "13\n",
            "14\n",
            "15\n",
            "16\n",
            "17\n",
            "18\n",
            "19\n",
            "20\n",
            "21\n",
            "22\n",
            "23\n",
            "24\n",
            "25\n",
            "26\n",
            "27\n",
            "28\n",
            "29\n",
            "30\n"
          ]
        },
        {
          "output_type": "error",
          "ename": "NameError",
          "evalue": "name '____' is not defined",
          "traceback": [
            "\u001b[0;31m---------------------------------------------------------------------------\u001b[0m",
            "\u001b[0;31mNameError\u001b[0m                                 Traceback (most recent call last)",
            "\u001b[0;32m<ipython-input-6-d2c30b256122>\u001b[0m in \u001b[0;36m<cell line: 14>\u001b[0;34m()\u001b[0m\n\u001b[1;32m     12\u001b[0m \u001b[0;32mfor\u001b[0m \u001b[0mnum\u001b[0m \u001b[0;32min\u001b[0m \u001b[0mresult\u001b[0m\u001b[0;34m:\u001b[0m\u001b[0;34m\u001b[0m\u001b[0;34m\u001b[0m\u001b[0m\n\u001b[1;32m     13\u001b[0m     \u001b[0mprint\u001b[0m\u001b[0;34m(\u001b[0m\u001b[0mnum\u001b[0m\u001b[0;34m)\u001b[0m\u001b[0;34m\u001b[0m\u001b[0;34m\u001b[0m\u001b[0m\n\u001b[0;32m---> 14\u001b[0;31m \u001b[0mresult\u001b[0m \u001b[0;34m=\u001b[0m \u001b[0m____\u001b[0m\u001b[0;34m\u001b[0m\u001b[0;34m\u001b[0m\u001b[0m\n\u001b[0m\u001b[1;32m     15\u001b[0m \u001b[0;34m\u001b[0m\u001b[0m\n",
            "\u001b[0;31mNameError\u001b[0m: name '____' is not defined"
          ]
        }
      ]
    },
    {
      "cell_type": "markdown",
      "source": [
        "# **Changing the output in generator expressions**\n",
        "\n",
        "At this point, you already know how to write a basic generator expression. In this exercise, you will push this idea a little further by adding to the output expression of a generator expression. Because generator expressions and list comprehensions are so alike in syntax, this should be a familiar task for you!\n",
        "\n",
        "You are given a list of strings `lannister` and, using a generator expression, create a generator object that you will iterate over to print its values.\n",
        "\n",
        "**Instructions:**\n",
        "* Write a generator expression that will generate the lengths of each string in `lannister`. Use `person` as the iterator variable. Assign the result to `lengths`.\n",
        "* Supply the correct iterable in the `for` loop for printing the values in the generator object.\n"
      ],
      "metadata": {
        "id": "Q1ZghBeJA2Qy"
      }
    },
    {
      "cell_type": "code",
      "source": [
        "# Create a list of strings: lannister\n",
        "lannister = ['cersei', 'jaime', 'tywin', 'tyrion', 'joffrey']\n",
        "\n",
        "# Create a generator object: lengths\n",
        "lengths = (len(person) for person in lannister)\n",
        "\n",
        "\n",
        "# Iterate over the generator object and print its values\n",
        "for length in lengths:\n",
        "    print(length)\n",
        "\n",
        "\n"
      ],
      "metadata": {
        "id": "2Q1_Cvx-BLc1",
        "colab": {
          "base_uri": "https://localhost:8080/"
        },
        "outputId": "a71fb435-10a1-46db-971d-47a7854dcc16"
      },
      "execution_count": 9,
      "outputs": [
        {
          "output_type": "stream",
          "name": "stdout",
          "text": [
            "6\n",
            "5\n",
            "5\n",
            "6\n",
            "7\n"
          ]
        }
      ]
    },
    {
      "cell_type": "markdown",
      "source": [
        "# **Build a generator function**\n",
        "\n",
        "In previous exercises, you've dealt mainly with writing generator expressions, which uses comprehension syntax. Being able to use comprehension syntax for generator expressions made your work so much easier!\n",
        "\n",
        "Now, recall from our class that not only are there generator expressions, there are generator functions as well. Generator functions are functions that, like generator expressions, yield a series of values, instead of returning a single value. A generator function is defined as you do a regular function, but whenever it generates a value, it uses the keyword `yield` instead of `return`.\n",
        "\n",
        "In this exercise, you will create a generator function with a similar mechanism as the generator expression you defined in the previous exercise:\n",
        "\n",
        "`lengths = (len(person) for person in lannister)`\n",
        "\n",
        "**Instructions:**\n",
        "* Complete the function header for the function `get_lengths()` that has a single parameter, `input_list`.\n",
        "* In the `for` loop in the function definition, `yield` the length of the strings in `input_list`.\n",
        "* Complete the iterable part of the `for` loop for printing the values generated by the `get_lengths()` generator function. Supply the call to `get_lengths()`, passing in the list `lannister`.\n"
      ],
      "metadata": {
        "id": "tdwXb-EkBYQW"
      }
    },
    {
      "cell_type": "code",
      "source": [
        "# Create a list of strings\n",
        "lannister = ['cersei', 'jaime', 'tywin', 'tyrion', 'joffrey']\n",
        "\n",
        "\n",
        "\n",
        "# Generator function to yield lengths of strings in the input list\n",
        "def get_lengths(input_list):\n",
        "    for person in input_list:\n",
        "        yield len(person)\n",
        "\n",
        "# Iterate over the values generated by the get_lengths function\n",
        "for length in get_lengths(lannister):\n",
        "    print(length)\n",
        "\n",
        "\n"
      ],
      "metadata": {
        "id": "RyCGEYZqB_ro",
        "colab": {
          "base_uri": "https://localhost:8080/"
        },
        "outputId": "12e85e6e-c13c-4ebc-8034-6225874ca660"
      },
      "execution_count": 10,
      "outputs": [
        {
          "output_type": "stream",
          "name": "stdout",
          "text": [
            "6\n",
            "5\n",
            "5\n",
            "6\n",
            "7\n"
          ]
        }
      ]
    },
    {
      "cell_type": "markdown",
      "source": [
        "# **List comprehensions for time-stamped data**\n",
        "\n",
        "You will now make use of what you've learned from list comprehension and generators to solve a simple data extraction problem. You will work on a new  data structure, the pandas Series, in this exercise. It is a data structure that you will be working with a lot of times when analyzing data from pandas DataFrames as we have discussed DataFrames in our previous classes. You can think of DataFrame columns as single-dimension arrays called Series.\n",
        "\n",
        "In this exercise, you will be using a list comprehension to extract the time from time-stamped Twitter data. The pandas package has been imported as pd and the DataFrame `df` from file path to `'tweets.csv'` data has been loaded for your use.\n",
        "\n",
        "**Instructions:**\n",
        "* Extract the column `'created_at'` from `df` and assign the result to `tweet_time`. Fun fact: the extracted column in `tweet_time` here is a pandas Series data structure!\n",
        "* Create a list comprehension that extracts the time from each row in `tweet_time`. Each row is a string that represents a timestamp, and you will access the 12th to 19th characters in the string to extract the time. Use `entry` as the iterator variable and assign the result to `tweet_clock_time`. Remember that Python uses 0-based indexing!\n"
      ],
      "metadata": {
        "id": "KUoRp6yWC25W"
      }
    },
    {
      "cell_type": "code",
      "source": [
        "#Initialize file_path to the 'tweet.csv' link\n",
        "import pandas as pd\n",
        "file_path = 'https://github.com/DataAnalyst21/DatasetsForDataAnalytics/blob/main/tweets.csv?raw=True'\n",
        "df = pd.read_csv(file_path)\n",
        "\n",
        "\n",
        "# Extract the 'created_at' column from the DataFrame\n",
        "tweet_time = df['created_at']\n",
        "\n",
        "# Use a list comprehension to extract the time (12th to 19th characters) from each timestamp\n",
        "tweet_clock_time = [entry[11:19] for entry in tweet_time]\n",
        "\n",
        "# Print the resulting list of tweet times\n",
        "print(tweet_clock_time)\n"
      ],
      "metadata": {
        "id": "gV_BAlrwEDfM",
        "colab": {
          "base_uri": "https://localhost:8080/"
        },
        "outputId": "73a85dcd-e05c-4f9b-897c-74facd642059"
      },
      "execution_count": 12,
      "outputs": [
        {
          "output_type": "stream",
          "name": "stdout",
          "text": [
            "['23:40:17', '23:40:17', '23:40:17', '23:40:17', '23:40:17', '23:40:17', '23:40:18', '23:40:17', '23:40:18', '23:40:18', '23:40:18', '23:40:17', '23:40:18', '23:40:18', '23:40:17', '23:40:18', '23:40:18', '23:40:17', '23:40:18', '23:40:17', '23:40:18', '23:40:18', '23:40:18', '23:40:18', '23:40:17', '23:40:18', '23:40:18', '23:40:17', '23:40:18', '23:40:18', '23:40:18', '23:40:18', '23:40:18', '23:40:18', '23:40:18', '23:40:18', '23:40:18', '23:40:18', '23:40:18', '23:40:18', '23:40:18', '23:40:18', '23:40:18', '23:40:18', '23:40:18', '23:40:18', '23:40:18', '23:40:18', '23:40:18', '23:40:18', '23:40:18', '23:40:18', '23:40:18', '23:40:18', '23:40:18', '23:40:18', '23:40:18', '23:40:18', '23:40:18', '23:40:18', '23:40:19', '23:40:18', '23:40:18', '23:40:18', '23:40:19', '23:40:19', '23:40:19', '23:40:18', '23:40:19', '23:40:19', '23:40:19', '23:40:18', '23:40:19', '23:40:19', '23:40:19', '23:40:18', '23:40:19', '23:40:19', '23:40:19', '23:40:19', '23:40:19', '23:40:19', '23:40:19', '23:40:19', '23:40:19', '23:40:19', '23:40:19', '23:40:19', '23:40:19', '23:40:19', '23:40:19', '23:40:19', '23:40:19', '23:40:19', '23:40:19', '23:40:19', '23:40:19', '23:40:19', '23:40:19', '23:40:19']\n"
          ]
        }
      ]
    },
    {
      "cell_type": "markdown",
      "source": [
        "# **Conditional list comprehensions for time-stamped data**\n",
        "\n",
        "You've successfully extracted the data of interest, the time, from a pandas DataFrame! Let's tweak your work further by adding a conditional that further specifies which entries to select.\n",
        "\n",
        "In this exercise, you will be using a list comprehension to extract the time from time-stamped Twitter data. You will add a conditional expression to the list comprehension so that you only select the times in which `entry[17:19]` is equal to `'19'`. The pandas package has been imported as pd and the `df` DataFrame is loaded previously for your use.\n",
        "\n",
        "**Instructions:**\n",
        "* Extract the column `'created_at'` from `df` and assign the result to `tweet_time`.\n",
        "* Create a list comprehension that extracts the time from each row in `tweet_time`. Each row is a string that represents a timestamp, and you will access the 12th to 19th characters in the string to extract the time. Use entry as the iterator variable and assign the result to `tweet_clock_time`. Additionally, add a conditional expression that checks whether `entry[17:19]` is equal to `'19'`.\n"
      ],
      "metadata": {
        "id": "Hef9P0fCE5yF"
      }
    },
    {
      "cell_type": "code",
      "source": [
        "# Extract the created_at column from df: tweet_time\n",
        "tweet_time = df['created_at']\n",
        "\n",
        "# Use a list comprehension to extract the time (12th to 19th characters) from each timestamp\n",
        "tweet_clock_time = [entry[11:19] for entry in tweet_time if entry[17:19] == '19']\n",
        "\n",
        "\n",
        "# Print the extracted times\n",
        "print(tweet_clock_time)\n"
      ],
      "metadata": {
        "id": "bGXpNUxiFloc",
        "colab": {
          "base_uri": "https://localhost:8080/"
        },
        "outputId": "8d2eed98-87e7-4f27-86f8-0ecd743a6008"
      },
      "execution_count": 14,
      "outputs": [
        {
          "output_type": "stream",
          "name": "stdout",
          "text": [
            "['23:40:19', '23:40:19', '23:40:19', '23:40:19', '23:40:19', '23:40:19', '23:40:19', '23:40:19', '23:40:19', '23:40:19', '23:40:19', '23:40:19', '23:40:19', '23:40:19', '23:40:19', '23:40:19', '23:40:19', '23:40:19', '23:40:19', '23:40:19', '23:40:19', '23:40:19', '23:40:19', '23:40:19', '23:40:19', '23:40:19', '23:40:19', '23:40:19', '23:40:19', '23:40:19', '23:40:19', '23:40:19', '23:40:19', '23:40:19']\n"
          ]
        }
      ]
    }
  ]
}