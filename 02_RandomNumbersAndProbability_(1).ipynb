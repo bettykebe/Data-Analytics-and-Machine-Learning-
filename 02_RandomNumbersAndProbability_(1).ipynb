{
  "nbformat": 4,
  "nbformat_minor": 0,
  "metadata": {
    "colab": {
      "provenance": []
    },
    "kernelspec": {
      "name": "python3",
      "display_name": "Python 3"
    },
    "language_info": {
      "name": "python"
    }
  },
  "cells": [
    {
      "cell_type": "code",
      "execution_count": 1,
      "metadata": {
        "id": "lBmVqJooy0-l"
      },
      "outputs": [],
      "source": [
        "#Loading necessary libraries for the notebook\n",
        "import pandas as pd\n",
        "import numpy as np\n",
        "import matplotlib.pyplot as plt\n",
        "import seaborn as sns"
      ]
    },
    {
      "cell_type": "markdown",
      "source": [
        "# **With or without replacement?**\n",
        "\n",
        "You learned about two different ways of taking samples: with replacement and without replacement. Although it isn't always easy to tell which best fits various situations, it's important to correctly identify this so that any probabilities you report are accurate. In this exercise, you'll put your new knowledge to the test and practice figuring this out.\n",
        "\n",
        "**Instructions:**\n",
        "* For each scenario given below, decide whether it's sampling with replacement or sampling without replacement. You should print either `'sampling with replacement'` or `'sampling without replacement'` in the codecell below for each scenarios given as 1-4.\n",
        "  1. Randomly selecting 5 products from the assembly line to test for quality assurance.\n",
        "  2. Rolling a die twice\n",
        "  3. Flipping a coin three times\n",
        "  4. From a deck of cards, dealing 3 players 7 cards each\n",
        "  5. Randomly picking 3 people to work on the weekend from a group of 20 people\n"
      ],
      "metadata": {
        "id": "bhNMaqPPXWJI"
      }
    },
    {
      "cell_type": "code",
      "source": [
        "# 1. Print 'sampling with replacement' or 'sampling without replacement' for question #1\n",
        "print('sampling without replacement')  # 1. Randomly selecting 5 products from the assembly lin\n",
        "\n",
        "# 2. Print 'sampling with replacement' or 'sampling without replacement' for question #2\n",
        "print('sampling without replacement')\n",
        "\n",
        "# 3. Print 'sampling with replacement' or 'sampling without replacement' for question #3\n",
        "print('sampling with replacement')\n",
        "\n",
        "# 4. Print 'sampling with replacement' or 'sampling without replacement' for question #4\n",
        "print('sampling without replacement')\n",
        "\n",
        "# 5. Print 'sampling with replacement' or 'sampling without replacement' for question #5\n",
        "print('sampling without replacement')\n"
      ],
      "metadata": {
        "id": "mabx2_cqY1sH",
        "colab": {
          "base_uri": "https://localhost:8080/"
        },
        "outputId": "109fcc0e-3c3e-464e-c68d-4a8edb8a44a5"
      },
      "execution_count": null,
      "outputs": [
        {
          "output_type": "stream",
          "name": "stdout",
          "text": [
            "sampling without replacement\n",
            "sampling without replacement\n",
            "sampling with replacement\n",
            "sampling without replacement\n",
            "sampling without replacement\n"
          ]
        }
      ]
    },
    {
      "cell_type": "code",
      "source": [
        "#Loading amir_deals DataFrame from dataset file\n",
        "amir_deals = pd.read_csv('https://raw.githubusercontent.com/DataAnalyst21/DatasetsForDataAnalytics/main/amir_deals.csv')\n",
        "\n",
        "#Exploring the amir_deals DataFrame by displaying the first few rows\n",
        "print(amir_deals.head())\n",
        "\n",
        "\n",
        "# 1. Count the deals for each product\n",
        "counts = amir_deals['product'].value_counts()\n",
        "print(counts)\n",
        "\n",
        "# 2. Calculate probability of picking a deal with each product\n",
        "probs = counts / len(amir_deals)\n",
        "print(probs)\n",
        "\n",
        "\n"
      ],
      "metadata": {
        "id": "sbXZoiqcagUM",
        "colab": {
          "base_uri": "https://localhost:8080/"
        },
        "outputId": "5c074990-1c88-4e0b-87fc-e36f53641b9f"
      },
      "execution_count": null,
      "outputs": [
        {
          "output_type": "stream",
          "name": "stdout",
          "text": [
            "   Unnamed: 0    product   client status   amount  num_users\n",
            "0           1  Product F  Current    Won  7389.52         19\n",
            "1           2  Product C      New    Won  4493.01         43\n",
            "2           3  Product B      New    Won  5738.09         87\n",
            "3           4  Product I  Current    Won  2591.24         83\n",
            "4           5  Product E  Current    Won  6622.97         17\n",
            "product\n",
            "Product B    62\n",
            "Product D    40\n",
            "Product A    23\n",
            "Product C    15\n",
            "Product F    11\n",
            "Product H     8\n",
            "Product I     7\n",
            "Product E     5\n",
            "Product N     3\n",
            "Product G     2\n",
            "Product J     2\n",
            "Name: count, dtype: int64\n",
            "product\n",
            "Product B    0.348315\n",
            "Product D    0.224719\n",
            "Product A    0.129213\n",
            "Product C    0.084270\n",
            "Product F    0.061798\n",
            "Product H    0.044944\n",
            "Product I    0.039326\n",
            "Product E    0.028090\n",
            "Product N    0.016854\n",
            "Product G    0.011236\n",
            "Product J    0.011236\n",
            "Name: count, dtype: float64\n"
          ]
        }
      ]
    },
    {
      "cell_type": "markdown",
      "source": [
        "# **Calculating probabilities**\n",
        "\n",
        "You're in charge of the sales team, and it's time for performance reviews, starting with Amir. As part of the review, you want to randomly select a few of the deals that he's worked on over the past year so that you can look at them more deeply. Before you start selecting deals, you'll first figure out what the chances are of selecting certain deals.\n",
        "\n",
        "Recall that the probability of an event can be calculated by:\n",
        "\n",
        "$ P(\\text{event}) = \\frac{\\text{# ways event can happen}}{\\text{total # of possible outcomes}} $\n",
        "\n",
        "The amir_deals is loaded in the first few lines of code and available to use.\n",
        "\n",
        "**Instructions:**\n",
        "1. Count the number of deals Amir worked on for each product type using .`value_counts()` and store in `counts`.\n",
        "2. Calculate the probability of selecting a deal for the different product types by dividing the counts by the total number of deals Amir worked on. Save this as `probs`.\n",
        "3. If you randomly select one of Amir's deals, what's the probability that the deal will involve Product C? (print the answer either A, B, C, D or E).\n",
        " * A. 15%\n",
        " * B. 80.43%\n",
        " * C. 8.43%\n",
        " * D. 22.5%\n",
        " * E. 124.3%\n"
      ],
      "metadata": {
        "id": "ihCIUgbhZOaq"
      }
    },
    {
      "cell_type": "code",
      "source": [
        "# 4. Set random seed for reproducibility\n",
        "np.random.seed(42)\n",
        "\n",
        "# 5. Sample 5 deals without replacement\n",
        "sample_without_replacement = amir_deals.sample(n=5, replace=False)\n",
        "print(\"Sample without replacement:\")\n",
        "print(sample_without_replacement)\n",
        "\n",
        "# 6. Sample 5 deals with replacement\n",
        "sample_with_replacement = amir_deals.sample(n=5, replace=True)\n",
        "print(\"Sample with replacement:\")\n",
        "print(sample_with_replacement)\n",
        "\n",
        "\n"
      ],
      "metadata": {
        "id": "FgaoInFAejGy"
      },
      "execution_count": null,
      "outputs": []
    },
    {
      "cell_type": "markdown",
      "source": [
        "# **Creating a probability distribution**\n",
        "\n",
        "A new restaurant opened a few months ago, and the restaurant's management wants to optimize its seating space based on the size of the groups that come most often. On one night, there are 10 groups of people waiting to be seated at the restaurant, but instead of being called in the order they arrived, they will be called randomly. In this exercise, you'll investigate the probability of groups of different sizes getting picked first. Data on each of the ten groups is contained in the `restaurant_groups` DataFrame.\n",
        "\n",
        "Remember that expected value can be calculated by multiplying each possible outcome with its corresponding probability and taking the sum. The `restaurant_groups` data is loaded and available to use.\n",
        "\n",
        "**Instructions:**\n",
        "1. Create a histogram of the `group_size` column of `restaurant_groups`, setting bins to `[2, 3, 4, 5, 6]`. Remember to show the plot.\n",
        "\n",
        "2. Count the number of each `group_size` in `restaurant_groups`, then divide by the number of rows in `restaurant_groups` to calculate the probability of randomly selecting a group of each size. Save as `size_dist`.\n",
        "  * Reset the index of `size_dist`.\n",
        "  * Rename the columns of `size_dist` to `group_size` and `prob`.\n",
        "\n",
        "3. Calculate the expected value of the `size_dist`, which represents the expected group size, by multiplying the `group_size` by the `prob` and taking the sum.\n",
        "\n",
        "4. Calculate the probability of randomly picking a group of `4 `or more people by subsetting for groups of size `4` or more and summing the probabilities of selecting those groups.\n"
      ],
      "metadata": {
        "id": "vPAzFPdYhsxS"
      }
    },
    {
      "cell_type": "markdown",
      "source": [
        "# **Sampling deals**\n",
        "\n",
        "In the previous exercise, you counted the deals Amir worked on. Now it's time to randomly pick five deals so that you can reach out to each customer and ask if they were satisfied with the service they received. You'll try doing this both with and without replacement.\n",
        "\n",
        "Additionally, you want to make sure this is done randomly and that it can be reproduced in case you get asked how you chose the deals, so you'll need to set the random seed before sampling from the deals.\n",
        "\n",
        "The `amir_deals` table is loaded and available to use.\n",
        "\n",
        "**Instructions: **\n",
        "1. Set the random seed to `24`.\n",
        "2. Take a sample of `5` deals without replacement and store them as `sample_without_replacement`.\n",
        "3. Take a sample of 5 deals with replacement and save as `sample_with_replacement`.\n",
        "4. What type of sampling is better to use for this situation? (Print either A, B or C)\n",
        "   * A. With replacement\n",
        "   * B. Without replacement\n",
        "   * C. It doesn't matther\n"
      ],
      "metadata": {
        "id": "Ai86vzT2eEp2"
      }
    },
    {
      "cell_type": "code",
      "source": [
        "#Loading restaurant_groups DataFrame from dataset file\n",
        "restaurant_groups = pd.read_csv('https://raw.githubusercontent.com/DataAnalyst21/DatasetsForDataAnalytics/main/restaurant_groups.csv')\n",
        "\n",
        "#Exploring the restaurant_groups DataFrame by displaying the first few rows\n",
        "print(restaurant_groups.head())\n",
        "\n",
        "\n",
        "import pandas as pd\n",
        "import numpy as np\n",
        "import matplotlib.pyplot as plt\n",
        "\n",
        "restaurant_groups = pd.read_csv('https://raw.githubusercontent.com/DataAnalyst21/DatasetsForDataAnalytics/main/restaurant_groups.csv')\n",
        "\n",
        "# Exploring the restaurant_groups DataFrame by displaying the first few rows\n",
        "print(restaurant_groups.head())\n",
        "\n",
        "# 1. Create a histogram of restaurant_groups and show plot\n",
        "restaurant_groups['group_size'].hist(bins=np.arange(0.5, 5.5, 1), edgecolor='black')\n",
        "plt.xlabel('Group Size')\n",
        "plt.ylabel('Frequency')\n",
        "plt.title('Histogram of Group Sizes')\n",
        "plt.show()\n",
        "\n",
        "# 2. Create probability distribution\n",
        "size_dist = restaurant_groups['group_size'].value_counts() / len(restaurant_groups)\n",
        "\n",
        "# 2. Reset index and rename columns\n",
        "size_dist = size_dist.reset_index()\n",
        "size_dist.columns = ['group_size', 'probability']\n",
        "\n",
        "print(size_dist)\n",
        "\n",
        "# 3. Calculate expected value\n",
        "expected_value = np.sum(size_dist['group_size'] * size_dist['probability'])\n",
        "print(f\"Expected Value: {expected_value}\")\n",
        "\n",
        "# 4. Subset groups of size 4 or more\n",
        "groups_4_or_more = size_dist[size_dist['group_size'] >= 4]\n",
        "\n",
        "# 4. Sum the probabilities of groups_4_or_more\n",
        "prob_4_or_more = groups_4_or_more['probability'].sum()\n",
        "print(f\"Probability of groups 4 or more: {prob_4_or_more}\")\n",
        "\n",
        "\n",
        "\n",
        "\n"
      ],
      "metadata": {
        "id": "ALdeiNEGi4YY"
      },
      "execution_count": null,
      "outputs": []
    },
    {
      "cell_type": "code",
      "source": [
        "#Print either A, B or C\n",
        "print('B')"
      ],
      "metadata": {
        "id": "v5t6a2o0pafi",
        "colab": {
          "base_uri": "https://localhost:8080/"
        },
        "outputId": "55349b51-586e-4c30-e39b-7ec4809ce523"
      },
      "execution_count": null,
      "outputs": [
        {
          "output_type": "stream",
          "name": "stdout",
          "text": [
            "B\n"
          ]
        }
      ]
    },
    {
      "cell_type": "markdown",
      "source": [
        "# **Which distribution?**\n",
        "\n",
        "At this point, you've learned about the two different variants of the uniform distribution: the discrete uniform distribution, and the continuous uniform distribution. In this exercise, you'll decide which situations follow which distribution.\n",
        "\n",
        "**Instructions:**\n",
        "* Decide each situation given below to the probability distribution it would best be modeled by: the discrete uniform distribution, the continuous uniform distribution, or other type of distribution.\n",
        "  1. Time of the day a baby might be born\n",
        "  2. The time you'll have to wait for a volcano to erupt if you show up at a random time, knowing that the volcano erupts exactly every ten minutes.\n",
        "  3. An outcome of rolling four sided die.\n",
        "  4. The ticket number of a raffle winner, assuming there is one ticket for each number from 1 to 100.\n",
        "  5. The height of a random person.\n"
      ],
      "metadata": {
        "id": "SuerjDAlpnmx"
      }
    },
    {
      "cell_type": "markdown",
      "source": [
        "# **Identifying distributions**\n",
        "\n",
        "Which sample is most likely to have been taken from a uniform distribution?\n",
        "![Pic00.png](data:image/png;base64,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)\n",
        "* A\n",
        "* B\n",
        "* C"
      ],
      "metadata": {
        "id": "V4ySb72yo-tB"
      }
    },
    {
      "cell_type": "code",
      "source": [
        "#1. Print either discrete uniform distribution, continuous uniform distribution, or other type of distribution for #1\n",
        "print('continuous uniform distribution')\n",
        "\n",
        "#2. Print either discrete uniform distribution, continuous uniform distribution, or other type of distribution for #2\n",
        "print('continuous uniform distribution')\n",
        "\n",
        "#3. Print either discrete uniform distribution, continuous uniform distribution, or other type of distribution for #3\n",
        "print('Discrete uniform distribution')\n",
        "\n",
        "#4. Print either discrete uniform distribution, continuous uniform distribution, or other type of distribution for #4\n",
        "print('Discrete uniform distribution')\n",
        "\n",
        "#5. Print either discrete uniform distribution, continuous uniform distribution, or other type of distribution for #5\n",
        "print('Discrete uniform distribution')"
      ],
      "metadata": {
        "id": "2DclhkHGt20g"
      },
      "execution_count": null,
      "outputs": []
    },
    {
      "cell_type": "markdown",
      "source": [
        "# **Data back-ups**\n",
        "\n",
        "The sales software used at your company is set to automatically back itself up, but no one knows exactly what time the back-ups happen. It is known, however, that back-ups happen exactly every 30 minutes. Amir comes back from sales meetings at random times to update the data on the client he just met with. He wants to know how long he'll have to wait for his newly-entered data to get backed up. Use your new knowledge of continuous uniform distributions to model this situation and answer Amir's questions.\n",
        "\n",
        "**Instructions:**\n",
        "1. To model how long Amir will wait for a back-up using a continuous uniform distribution, save his lowest possible wait time as `min_time` and his longest possible wait time as `max_time`. Remember that back-ups happen every 30 minutes.\n",
        "\n",
        "2. Import uniform from `scipy.stats` and calculate the probability that Amir has to wait less than 5 minutes, and store in a variable called `prob_less_than_5`.\n",
        "\n",
        "3. Calculate the probability that Amir has to wait more than 5 minutes, and store in a variable called `prob_greater_than_5`.\n",
        "\n",
        "4. Calculate the probability that Amir has to wait between 10 and 20 minutes, and store in a variable called `prob_between_10_and_20`.\n"
      ],
      "metadata": {
        "id": "YdYOIU9yuS4a"
      }
    },
    {
      "cell_type": "code",
      "source": [
        "#1. Min and max wait times for back-up that happens every 30 min\n",
        "from scipy.stats import uniform\n",
        "\n",
        "min_time = 0\n",
        "max_time = 30\n",
        "\n",
        "\n",
        "# Calculate the probability that Amir has to wait less than 5 minutes\n",
        "prob_less_than_5 = uniform.cdf(5, loc=min_time, scale=max_time - min_time)\n",
        "print(\"Probability of waiting less than 5 minutes:\", prob_less_than_5)\n",
        "\n",
        "# Calculate the probability that Amir has to wait more than 5 minutes\n",
        "prob_greater_than_5 = 1 - prob_less_than_5\n",
        "print(\"Probability of waiting more than 5 minutes:\", prob_greater_than_5)\n",
        "\n",
        "# Calculate the probability that Amir has to wait between 10 and 20 minutes\n",
        "prob_between_10_and_20 = uniform.cdf(20, loc=min_time, scale=max_time - min_time) - \\\n",
        "                         uniform.cdf(10, loc=min_time, scale=max_time - min_time)\n",
        "\n",
        "\n",
        "\n"
      ],
      "metadata": {
        "id": "CfBEPUsKvBCP",
        "colab": {
          "base_uri": "https://localhost:8080/"
        },
        "outputId": "bc4b3a52-072b-4fc0-db14-274e61b9aa93"
      },
      "execution_count": null,
      "outputs": [
        {
          "output_type": "stream",
          "name": "stdout",
          "text": [
            "Probability of waiting less than 5 minutes: 0.16666666666666666\n",
            "Probability of waiting more than 5 minutes: 0.8333333333333334\n"
          ]
        }
      ]
    },
    {
      "cell_type": "markdown",
      "source": [
        "# **Simulating wait times**\n",
        "\n",
        "To give Amir a better idea of how long he'll have to wait, you'll simulate Amir waiting 1000 times and create a histogram to show him what he should expect. Recall from the last exercise that his minimum wait time is 0 minutes and his maximum wait time is 30 minutes.\n",
        "\n",
        "**Instructions:**\n",
        "1. Set the random seed to 334.\n",
        "2. Import uniform from scipy.stats.\n",
        "3. Generate 1000 wait times from the continuous uniform distribution that models Amir's wait time. Save this as `wait_times`.\n",
        "4. Create a histogram of the simulated wait times and show the plot.\n"
      ],
      "metadata": {
        "id": "-2rKevb3wLg0"
      }
    },
    {
      "cell_type": "code",
      "source": [
        "\n",
        "import numpy as np\n",
        "import matplotlib.pyplot as plt\n",
        "from scipy.stats import uniform\n",
        "\n",
        "# Set the random seed for reproducibility\n",
        "np.random.seed(334)\n",
        "\n",
        "# Define the minimum and maximum wait times\n",
        "min_time = 0\n",
        "max_time = 30\n",
        "\n",
        "# Generate 1000 wait times from the continuous uniform distribution\n",
        "wait_times = uniform.rvs(loc=min_time, scale=max_time - min_time, size=1000)\n",
        "\n",
        "# Create a histogram of the simulated wait times\n",
        "plt.hist(wait_times, bins=20, edgecolor='black', alpha=0.7)\n",
        "plt.title(\"Histogram of Amir's Wait Times\")\n",
        "plt.xlabel(\"Wait Time (minutes)\")\n",
        "plt.ylabel(\"Frequency\")\n",
        "plt.show()\n",
        "\n",
        "\n",
        "\n"
      ],
      "metadata": {
        "id": "v2Iu-CwawiUA",
        "colab": {
          "base_uri": "https://localhost:8080/",
          "height": 472
        },
        "outputId": "bf54d354-1384-4e62-f70e-5b5bbae62aa8"
      },
      "execution_count": null,
      "outputs": [
        {
          "output_type": "display_data",
          "data": {
            "text/plain": [
              "<Figure size 640x480 with 1 Axes>"
            ],
            "image/png": "[encoded data removed]"
          },
          "metadata": {}
        }
      ]
    },
    {
      "cell_type": "code",
      "source": [
        "# Import the necessary library\n",
        "from scipy.stats import binom\n",
        "import numpy as np\n",
        "\n",
        "# Set random seed for reproducibility\n",
        "np.random.seed(10)\n",
        "\n",
        "# Simulate a single deal with 30% probability of success\n",
        "single_deal = binom.rvs(n=1, p=0.3, size=1)\n",
        "print(f\"Single deal outcome: {single_deal[0]}\")\n",
        "\n",
        "# Simulate a typical week of 3 deals with 30% probability of success\n",
        "week_deals = binom.rvs(n=3, p=0.3, size=1)\n",
        "print(f\"Deals won in a week: {week_deals[0]}\")\n",
        "\n",
        "# Simulate a year's worth of deals (52 weeks of 3 deals per week)\n",
        "deals = binom.rvs(n=3, p=0.3, size=52)\n",
        "\n",
        "# Calculate and print the mean number of deals won per week\n",
        "mean_deals_won_per_week = deals.mean()\n",
        "print(f\"Mean number of deals won per week: {mean_deals_won_per_week}\")"
      ],
      "metadata": {
        "id": "fsjnTbqs0N6B",
        "colab": {
          "base_uri": "https://localhost:8080/"
        },
        "outputId": "c93c89d0-f44a-4477-d86d-566c587dedce"
      },
      "execution_count": null,
      "outputs": [
        {
          "output_type": "stream",
          "name": "stdout",
          "text": [
            "Single deal outcome: 1\n",
            "Deals won in a week: 0\n",
            "Mean number of deals won per week: 0.8461538461538461\n"
          ]
        }
      ]
    },
    {
      "cell_type": "markdown",
      "source": [
        "# **Simulating sales deals**\n",
        "\n",
        "Assume that Amir usually works on 3 deals per week, and overall, he wins `30%` of deals he works on. Each deal has a binary outcome: it's either lost, or won, so you can model his sales deals with a binomial distribution. In this exercise, you'll help Amir simulate a year's worth of his deals so he can better understand his performance.\n",
        "\n",
        "**Instructions:**\n",
        "1. Import `binom` from `scipy.stats` and set the random seed to `10`.\n",
        "\n",
        "2. Simulate 1 deal worked on by Amir, who wins `30%` of the deals he works on.\n",
        "\n",
        "3. Simulate a typical week of Amir's deals, or one week of `3 `deals.\n",
        "\n",
        "4. Simulate a year's worth of Amir's deals, or `52` weeks of `3` deals each, and store in `deals`.\n",
        "5. Print the mean number of deals he won per week.\n"
      ],
      "metadata": {
        "id": "SLyYfBwKzkK6"
      }
    },
    {
      "cell_type": "markdown",
      "source": [
        "# **Calculating binomial probabilities**\n",
        "\n",
        "Just as in the last exercise, assume that Amir wins 30% of deals. He wants to get an idea of how likely he is to close a certain number of deals each week. In this exercise, you'll calculate what the chances are of him closing different numbers of deals using the binomial distribution.\n",
        "\n",
        "binom is imported from scipy.stats in the previous codecell.\n",
        "\n",
        "**Instructions:**\n",
        "1. What's the probability that Amir closes all 3 deals in a week? Save this as `prob_3`.\n",
        "2. What's the probability that Amir closes 1 or fewer deals in a week? Save this as `prob_less_than_or_equal_1`.\n",
        "3. What's the probability that Amir closes more than 1 deal? Save this as `prob_greater_than_1`.\n"
      ],
      "metadata": {
        "id": "HhKvsE2C1r1N"
      }
    },
    {
      "cell_type": "code",
      "source": [
        "#1. Probability of closing 3 out of 3 deals\n",
        "from scipy.stats import binom\n",
        "\n",
        "# Parameters\n",
        "n_deals = 3  # Number of deals Amir works on in a week\n",
        "p_win = 0.3  # Probability of winning each deal\n",
        "\n",
        "# Probability that Amir closes all 3 deals\n",
        "prob_3 = binom.pmf(3, n_deals, p_win)\n",
        "print(f\"Probability of closing all 3 deals: {prob_3:.4f}\")\n",
        "\n",
        "# Probability that Amir closes 1 or fewer deals\n",
        "prob_less_than_or_equal_1 = binom.cdf(1, n_deals, p_win)\n",
        "print(f\"Probability of closing 1 or fewer deals: {prob_less_than_or_equal_1:.4f}\")\n",
        "\n",
        "# Probability that Amir closes more than 1 deal\n",
        "prob_greater_than_1 = 1 - binom.cdf(1, n_deals, p_win)\n",
        "print(f\"Probability of closing more than 1 deal: {prob_greater_than_1:.4f}\")\n"
      ],
      "metadata": {
        "id": "-GNHTOkn2ypU",
        "colab": {
          "base_uri": "https://localhost:8080/"
        },
        "outputId": "ddd410f7-e74b-4480-f60b-f0e670a5e3c6"
      },
      "execution_count": null,
      "outputs": [
        {
          "output_type": "stream",
          "name": "stdout",
          "text": [
            "Probability of closing all 3 deals: 0.0270\n",
            "Probability of closing 1 or fewer deals: 0.7840\n",
            "Probability of closing more than 1 deal: 0.2160\n"
          ]
        }
      ]
    },
    {
      "cell_type": "markdown",
      "source": [
        "# **How many sales will be won?**\n",
        "\n",
        "Now Amir wants to know how many deals he can expect to close each week if his win rate changes. Luckily, you can use your binomial distribution knowledge to help him calculate the expected value in different situations. Recall from the class that the expected value of a binomial distribution can be calculated by `n x p`.\n",
        "\n",
        "**Instructions:**\n",
        "* Calculate the expected number of sales out of the 3 he works on that Amir will win each week if he maintains his 30% win rate.\n",
        "* Calculate the expected number of sales out of the 3 he works on that he'll win if his win rate drops to 25%.\n",
        "* Calculate the expected number of sales out of the 3 he works on that he'll win if his win rate rises to 35%.\n"
      ],
      "metadata": {
        "id": "dKHiBwu_3ekW"
      }
    },
    {
      "cell_type": "code",
      "source": [
        "# Expected number won with 30% win rate\n",
        "import numpy as np\n",
        "from scipy.stats import binom\n",
        "\n",
        "n=3\n",
        "won_30pct = n * 0.30\n",
        "print(won_30pct)\n",
        "\n",
        "# Expected number won with 25% win rate\n",
        "won_25pct = n * 0.25\n",
        "print(won_25pct)\n",
        "\n",
        "# Expected number won with 35% win rate\n",
        "won_35pct =n * 0.35\n",
        "print(won_35pct)"
      ],
      "metadata": {
        "id": "KSOx3vh_4Ajr",
        "colab": {
          "base_uri": "https://localhost:8080/"
        },
        "outputId": "13d5f3f2-f1b8-4a03-b3a4-9767f0328752"
      },
      "execution_count": null,
      "outputs": [
        {
          "output_type": "stream",
          "name": "stdout",
          "text": [
            "0.8999999999999999\n",
            "0.75\n",
            "1.0499999999999998\n"
          ]
        }
      ]
    }
  ]
}