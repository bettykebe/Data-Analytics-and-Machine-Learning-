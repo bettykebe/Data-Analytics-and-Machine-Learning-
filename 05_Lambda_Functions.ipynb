{
  "nbformat": 4,
  "nbformat_minor": 0,
  "metadata": {
    "colab": {
      "provenance": []
    },
    "kernelspec": {
      "name": "python3",
      "display_name": "Python 3"
    },
    "language_info": {
      "name": "python"
    }
  },
  "cells": [
    {
      "cell_type": "markdown",
      "source": [
        "# **Quiz on lambda functions**\n",
        "\n",
        "Python Lambda Functions are anonymous functions means that the function is without a name. As we already know the def keyword is used to define a normal function in Python. Similarly, the lambda keyword is used to define an anonymous function in Python.\n",
        "\n",
        "**Syntax**: lambda arguments : expression\n",
        "\n",
        "**Example:**\n",
        "\n",
        "```\n",
        "str1 = 'PythonForBeginners'\n",
        "\n",
        "upper = lambda string: string.upper()\n",
        "print(upper(str1))\n",
        "\n",
        "```\n",
        "**An example both uisng a named function and lambda function:**\n",
        "```\n",
        "#named function\n",
        "def cube(y):\n",
        "    return y*y*y\n",
        "#lambda function\n",
        "lambda_cube = lambda y: y*y*y\n",
        "print(\"Using function defined with `def` keyword, cube:\", cube(5))\n",
        "print(\"Using lambda function, cube:\", lambda_cube(5))\n",
        "```\n",
        "\n",
        "In this exercise, you will practice writing a simple lambda function and calling this function. Recall what you know about lambda functions and answer the following questions:\n",
        "\n",
        "* How would you write a lambda function `add_bangs` that adds three exclamation points `'!!!'` to the end of a string `a`?\n",
        "* How would you call `add_bangs` with the argument `'hello'`?\n",
        "\n",
        "Use the first codecell below and choose the answer from options given below.\n",
        "\n",
        "**Which one is the possible answer? **\n",
        "* A. The lambda function definition is: `add_bangs = (a + '!!!')`, and the function call is: `add_bangs('hello')`.\n",
        "* B. The lambda function definition is: `add_bangs = (lambda a: a + '!!!')`, and the function call is: `add_bangs('hello')`.\n",
        "* C. The lambda function definition is: `(lambda a: a + '!!!') = add_bangs`, and the function call is: `add_bangs('hello')`."
      ],
      "metadata": {
        "id": "dbUqr6E4p_jx"
      }
    },
    {
      "cell_type": "code",
      "execution_count": null,
      "metadata": {
        "id": "r57V0kzen_-c",
        "colab": {
          "base_uri": "https://localhost:8080/"
        },
        "outputId": "056754d6-8386-46d6-f5d7-31c5e87efcc3"
      },
      "outputs": [
        {
          "output_type": "stream",
          "name": "stdout",
          "text": [
            "heyheyheyheyhey\n"
          ]
        }
      ],
      "source": [
        "# Define the lambda function\n",
        "echo_word = lambda word1, echo: word1 * echo\n",
        "\n",
        "# Call the lambda function with 'hey' and 5\n",
        "result = echo_word('hey', 5)\n",
        "\n",
        "# Print the result\n",
        "print(result)\n"
      ]
    },
    {
      "cell_type": "markdown",
      "source": [
        "# **`Map()` and lambda functions**\n",
        "\n",
        "So far, you've used lambda functions to write short, simple functions as well as to redefine functions with simple functionality. The best use case for lambda functions, however, are for when you want these simple functionalities to be anonymously embedded within larger expressions. What that means is that the functionality is not stored in the environment, unlike a function defined with def. To understand this idea better, you will use a lambda function in the context of the `map()` function.\n",
        "\n",
        "The `map()` applies a function over an object, such as a list. Here, you can use lambda functions to define the function that `map()` will use to process the object. For example:\n",
        "\n",
        "```\n",
        "nums = [2, 4, 6, 8, 10]\n",
        "\n",
        "result = map(lambda a: a ** 2, nums)\n",
        "```\n",
        "\n",
        "You can see here that a lambda function, which raises a value a to the power of `2`, is passed to `map()` alongside a list of numbers, `nums`. The map object that results from the call to `map()` is stored in `result`. You will now practice the use of lambda functions with `map()`. For this exercise, you will map the functionality of the `add_bangs()` function you defined in previous exercises over a list of strings.\n",
        "\n",
        "**Instructions:**\n",
        "\n",
        "* In the `map()` call, pass a lambda function that concatenates the string `'!!!'` to a string item; also pass the list of strings, `spells`. Assign the resulting map object to `shout_spells`.\n",
        "* Convert `shout_spells` to a list and print out the list.\n"
      ],
      "metadata": {
        "id": "ZeFnO1RRw_Lu"
      }
    },
    {
      "cell_type": "code",
      "source": [
        "# List of strings\n",
        "spells = ['wingardium', 'leviosa', 'expelliarmus', 'expecto patronum']\n",
        "\n",
        "# Use map() with a lambda function to concatenate '!!!' to each string\n",
        "shout_spells = map(lambda spell: spell + '!!!', spells)\n",
        "\n",
        "# Convert the map object to a list and print it\n",
        "print(list(shout_spells))\n"
      ],
      "metadata": {
        "id": "CvYD4zDvyKVx",
        "colab": {
          "base_uri": "https://localhost:8080/"
        },
        "outputId": "375fa252-a49e-4e58-8154-7806d1a4ec8a"
      },
      "execution_count": 2,
      "outputs": [
        {
          "output_type": "stream",
          "name": "stdout",
          "text": [
            "['wingardium!!!', 'leviosa!!!', 'expelliarmus!!!', 'expecto patronum!!!']\n"
          ]
        }
      ]
    },
    {
      "cell_type": "markdown",
      "source": [
        "# **`Filter()` and lambda functions**\n",
        "\n",
        "In the previous exercise, you used lambda functions to anonymously embed an operation within `map()`. You will practice this again in this exercise by using a lambda function with `filter()`, which may be new to you! The function `filter()` offers a way to filter out elements from a list that don't satisfy certain criteria.\n",
        "\n",
        "Your goal in this exercise is to use `filter()` to create, from an input list of strings, a new list that contains only strings that have more than `6` characters.\n",
        "\n",
        "Instructions:\n",
        "\n",
        "* In the `filter()` call, pass a lambda function and the list of strings, `fellowship`. The lambda function should check if the number of characters in a string member is greater than `6`; use the `len()` function to do this. Assign the resulting filter object to `result`.\n",
        "* Convert `result` to a list using the `list()` function and print out the list.\n"
      ],
      "metadata": {
        "id": "ZY6lTMg_yxlC"
      }
    },
    {
      "cell_type": "code",
      "source": [
        "# Create a list of strings: fellowship\n",
        "fellowship = ['frodo', 'samwise', 'merry', 'pippin', 'aragorn', 'boromir', 'legolas', 'gimli', 'gandalf']\n",
        "\n",
        "# Use filter() to apply a lambda function over fellowship: result\n",
        "result = filter(lambda member: len(member) > 6, fellowship)\n",
        "\n",
        "# Convert the filter object to a list and print it\n",
        "print(list(result))\n",
        "\n",
        "\n",
        "\n",
        "\n"
      ],
      "metadata": {
        "id": "RNb_s9whzwF6",
        "colab": {
          "base_uri": "https://localhost:8080/"
        },
        "outputId": "5dd3ed00-1a44-4881-f8ef-df76632183be"
      },
      "execution_count": 3,
      "outputs": [
        {
          "output_type": "stream",
          "name": "stdout",
          "text": [
            "['samwise', 'aragorn', 'boromir', 'legolas', 'gandalf']\n"
          ]
        }
      ]
    },
    {
      "cell_type": "markdown",
      "source": [
        "# **`Reduce()` and lambda functions**\n",
        "\n",
        "You're getting very good at using lambda functions! Here's one more function to add to your repertoire of skills. The `reduce()` function is useful for performing some computation on a list and, unlike `map()` and `filter()`, returns a single value as a result. To use `reduce()`, you must import it from the `functools` module.\n",
        "```\n",
        "# Define gibberish\n",
        "def gibberish(*args):\n",
        "    \"\"\"Concatenate strings in *args together.\"\"\"\n",
        "    hodgepodge = ''\n",
        "    for word in args:\n",
        "        hodgepodge += word\n",
        "    return hodgepodge\n",
        "```\n",
        "`gibberish()` simply takes a list of strings as an argument and returns, as a single-value result, the concatenation of all of these strings. In this exercise, you will replicate this functionality by using `reduce()` and a lambda function that concatenates strings together.\n",
        "\n",
        "**Instructions:**\n",
        "\n",
        "* Import the `reduce` function from the `functools` module.\n",
        "* In the `reduce()` call, pass a lambda function that takes two string arguments `item1` and `item2` and concatenates them; also pass the list of strings, `stark`. Assign the result to `result`. The first argument to reduce() should be the lambda function and the second argument is the list `stark`.\n"
      ],
      "metadata": {
        "id": "doxChN210Se7"
      }
    },
    {
      "cell_type": "code",
      "source": [
        "# Import reduce from functools\n",
        "from functools import reduce\n",
        "\n",
        "# Create a list of strings: stark\n",
        "stark = ['robb', 'sansa', 'arya', 'brandon', 'rickon']\n",
        "\n",
        "# Use reduce() with a lambda function to concatenate strings\n",
        "result = reduce(lambda item1, item2: item1 + ' ' + item2, stark)\n",
        "\n",
        "# Print the result\n",
        "print(result)"
      ],
      "metadata": {
        "id": "DIXVyWwF1O4D",
        "colab": {
          "base_uri": "https://localhost:8080/"
        },
        "outputId": "4eac6a3f-5e4c-4cba-ae0e-7c6ecee404e7"
      },
      "execution_count": 6,
      "outputs": [
        {
          "output_type": "stream",
          "name": "stdout",
          "text": [
            "robb sansa arya brandon rickon\n"
          ]
        }
      ]
    }
  ]
}