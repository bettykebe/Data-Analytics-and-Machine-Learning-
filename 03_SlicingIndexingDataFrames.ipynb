{
  "nbformat": 4,
  "nbformat_minor": 0,
  "metadata": {
    "colab": {
      "provenance": []
    },
    "kernelspec": {
      "name": "python3",
      "display_name": "Python 3"
    },
    "language_info": {
      "name": "python"
    }
  },
  "cells": [
    {
      "cell_type": "markdown",
      "source": [
        "Install pandas if not installed. Then import pandas as pd"
      ],
      "metadata": {
        "id": "evU9y-_or-fv"
      }
    },
    {
      "cell_type": "code",
      "source": [
        "#Install and import pandas\n",
        "#!pip install pandas\n",
        "import pandas as pd"
      ],
      "metadata": {
        "id": "m4-bzy_Yr9Wt"
      },
      "execution_count": null,
      "outputs": []
    },
    {
      "cell_type": "markdown",
      "source": [
        "# **Setting and removing indexes**\n",
        "\n",
        "pandas allows you to designate columns as an index. This enables cleaner code when taking subsets (as well as providing more efficient lookup under some circumstances).\n",
        "\n",
        "In this chapter, you'll be creating and exploring `temperatures`, a DataFrame of average temperatures in cities around the world. You should also load pandas as pd."
      ],
      "metadata": {
        "id": "1iWJ93tPrOBX"
      }
    },
    {
      "cell_type": "code",
      "source": [
        "# Read the sales data and print the head of the sales data\n",
        "temperatures = pd.read_csv('https://github.com/datttrian/datacamp/blob/main/data-manipulation-with-pandas/temperatures.csv?raw=true', index_col=0)\n",
        "print(temperatures.head())"
      ],
      "metadata": {
        "colab": {
          "base_uri": "https://localhost:8080/"
        },
        "id": "cHkjKN72sMLQ",
        "outputId": "425e7816-e4c2-4390-a1eb-3903e7ba86e7"
      },
      "execution_count": null,
      "outputs": [
        {
          "output_type": "stream",
          "name": "stdout",
          "text": [
            "         date     city        country  avg_temp_c\n",
            "0  2000-01-01  Abidjan  Côte D'Ivoire      27.293\n",
            "1  2000-02-01  Abidjan  Côte D'Ivoire      27.685\n",
            "2  2000-03-01  Abidjan  Côte D'Ivoire      29.061\n",
            "3  2000-04-01  Abidjan  Côte D'Ivoire      28.162\n",
            "4  2000-05-01  Abidjan  Côte D'Ivoire      27.547\n"
          ]
        }
      ]
    },
    {
      "cell_type": "markdown",
      "source": [
        "The `temperatures` DataFrame is available as it is read in the previous cells and and pandas is loaded as pd as well in the first cell. Answer each question below in each cell.\n",
        "\n",
        "Then you are expected to do the following two exercises:\n",
        "\n",
        "**Instructions:**\n",
        "* Look at temperatures by printing some of the first rows using `.head()` function.\n",
        "* Set the index of `temperatures` to \"`city`\", assigning to `temperatures_ind`.\n",
        "* Look at `temperatures_ind`. How is it different from `temperatures`?\n",
        "* Reset the index of `temperatures_ind`, keeping its contents.\n",
        "* Reset the index of `temperatures_ind`, dropping its contents."
      ],
      "metadata": {
        "id": "5ibSWU3mseAd"
      }
    },
    {
      "cell_type": "code",
      "source": [
        "# Look at temperatures\n",
        "print(____)\n",
        "\n",
        "# Set the index of temperatures to city\n",
        "temperatures_ind = ____\n",
        "\n",
        "# Look at temperatures_ind\n",
        "print(____)\n",
        "\n",
        "# Reset the temperatures_ind index, keeping its contents\n",
        "print(____)\n",
        "\n",
        "# Reset the temperatures_ind index, dropping its contents\n",
        "print(____)"
      ],
      "metadata": {
        "id": "ybeXZ-gwxNrD"
      },
      "execution_count": null,
      "outputs": []
    },
    {
      "cell_type": "markdown",
      "source": [
        "# **Subsetting with `.loc[]`**\n",
        "\n",
        "The killer feature for indexes is `.loc[]`: a subsetting method that accepts index values. When you pass it a single argument, it will take a subset of rows.\n",
        "\n",
        "The code for subsetting using `.loc[]` can be easier to read than standard square bracket subsetting, which can make your code less burdensome to maintain.\n",
        "\n",
        "The `temperatures` DataFrame is available as it is read in the previous cells and `temperatures_ind` indexed by city is provided at the initial code. pandas is loaded as pd as well in the first cell. Answer each question below in each cell.\n",
        "\n",
        "Then you are expected to do the following two exercises.\n",
        "\n",
        "**Instructions:**\n",
        "* Create a list called `cities` that contains \"Moscow\" and \"Saint Petersburg\".\n",
        "* Use `[] `subsetting to filter temperatures for rows where the city column takes a value in the `cities` list.\n",
        "* Use `.loc[]` subsetting to filter `temperatures_ind` for rows where the `city` is in the `cities` list.\n"
      ],
      "metadata": {
        "id": "xIVkA2VTxXDO"
      }
    },
    {
      "cell_type": "code",
      "source": [
        "# Create temperatures_ind using city as index\n",
        "temperatures_ind = temperatures.set_index(\"city\")\n",
        "# Make a list of cities to subset on\n",
        "cities = [\"____\", \"____\"]\n",
        "\n",
        "# Subset temperatures using square brackets\n",
        "print(temperatures[____])\n",
        "\n",
        "# Subset temperatures_ind using .loc[]\n",
        "print(temperatures_ind.loc[____])"
      ],
      "metadata": {
        "id": "lr5K_ceVyiLV"
      },
      "execution_count": null,
      "outputs": []
    },
    {
      "cell_type": "markdown",
      "source": [
        "# **Setting multi-level indexes**\n",
        "\n",
        "Indexes can also be made out of multiple columns, forming a multi-level index (sometimes called a hierarchical index). There is a trade-off to using these.\n",
        "\n",
        "The benefit is that multi-level indexes make it more natural to reason about nested categorical variables. For example, in a clinical trial, you might have control and treatment groups. Then each test subject belongs to one or another group, and we can say that a test subject is nested inside the treatment group. Similarly, in the `temperature` dataset, the city is located in the country, so we can say a `city` is nested inside the `country`.\n",
        "\n",
        "The main downside is that the code for manipulating indexes is different from the code for manipulating columns, so you have to learn two syntaxes and keep track of how your data is represented.\n",
        "\n",
        "The `temperatures` DataFrame is available as it is read in the previous cells and and pandas is loaded as pd as well in the first cell. Answer each question below in each cell.\n",
        "\n",
        "Then you are expected to do the following two exercises:\n",
        "\n",
        "**Instructions:**\n",
        "* Set the index of `temperatures` to the \"`country`\" and \"`city`\" columns, and assign this to `temperatures_ind`.\n",
        "* Specify two country/city pairs to keep: \"`Brazil\"/\"Rio De Janeiro`\" and \"`Pakistan\"/\"Lahore`\", assigning to `rows_to_keep`.\n",
        "* Print and subset `temperatures_ind` for `rows_to_keep` using `.loc[]`.\n"
      ],
      "metadata": {
        "id": "A7drbOCK2RcU"
      }
    },
    {
      "cell_type": "code",
      "source": [
        "# Index temperatures by country & city\n",
        "temperatures_ind = ____\n",
        "\n",
        "# List of tuples: Brazil, Rio De Janeiro & Pakistan, Lahore\n",
        "rows_to_keep = [____]\n",
        "\n",
        "# Subset for rows to keep\n",
        "print(temperatures_ind.____)"
      ],
      "metadata": {
        "id": "7QONFonJ3El8"
      },
      "execution_count": null,
      "outputs": []
    },
    {
      "cell_type": "markdown",
      "source": [
        "# **Sorting by index values**\n",
        "\n",
        "Previously, you changed the order of the rows in a DataFrame by calling .`sort_values()`. It's also useful to be able to sort by elements in the index. For this, you need to use `.sort_index()`.\n",
        "\n",
        "The `temperatures` DataFrame is available as it is read in the previous cells and and pandas is loaded as pd as well in the first cell. `temperatures_ind` has a multi-level index of `country` and `city`, and is available as it is created in the above cell. Answer each question below in each cell.\n",
        "\n",
        "Then you are expected to do the following two exercises:\n",
        "\n",
        "**Instructions:**\n",
        "* Sort `temperatures_ind` by the index values.\n",
        "* Sort `temperatures_ind` by the index values at the \"`city`\" level.\n",
        "* Sort `temperatures_ind` by ascending `country` then descending `city`.\n",
        "\n"
      ],
      "metadata": {
        "id": "8yMPVS1g3PcT"
      }
    },
    {
      "cell_type": "code",
      "source": [
        "# Sort temperatures_ind by index values\n",
        "print(____)\n",
        "\n",
        "# Sort temperatures_ind by index values at the city level\n",
        "print(____)\n",
        "\n",
        "# Sort temperatures_ind by country then descending city\n",
        "print(____)"
      ],
      "metadata": {
        "id": "RZEKdOPy36-Q"
      },
      "execution_count": null,
      "outputs": []
    },
    {
      "cell_type": "markdown",
      "source": [
        "# **Slicing index values**\n",
        "\n",
        "Slicing lets you select consecutive elements of an object using first:last syntax. DataFrames can be sliced by index values or by row/column number; we'll start with the first case. This involves slicing inside the `.loc[]` method.\n",
        "\n",
        "Compared to slicing lists, there are a few things to remember.\n",
        "* You can only slice an index if the index is sorted (using `.sort_index()`).\n",
        "* To slice at the outer level, first and last can be strings.\n",
        "* To slice at inner levels, first and last should be tuples.\n",
        "* If you pass a single slice to `.loc[]`, it will slice the rows.\n",
        "\n",
        "The `temperatures` DataFrame is available as it is read in the previous cells and and pandas is loaded as pd as well in the first cell. `temperatures_ind` has a multi-level index of country and city, and is available as it is created in the above cell. Answer each question below in each cell.\n",
        "\n",
        "**Instructions:**\n",
        "* Sort the index of `temperatures_ind`.\n",
        "* Use slicing with `.loc[]` to get these subsets:\n",
        "    * from `Pakistan` to `Russia`.\n",
        "    * from `Lahore` to `Moscow`. (This will return nonsense.)\n",
        "    * from `Pakistan`, `Lahore` to `Russia`, `Moscow`.\n"
      ],
      "metadata": {
        "id": "DWaNXib76M2P"
      }
    },
    {
      "cell_type": "code",
      "source": [
        "# Sort the index of temperatures_ind\n",
        "temperatures_srt = temperatures_ind.sort_index()\n",
        "\n",
        "# Subset rows from Pakistan to Russia\n",
        "print(____)\n",
        "\n",
        "# Try to subset rows from Lahore to Moscow\n",
        "print(____)\n",
        "\n",
        "# Subset rows from Pakistan, Lahore to Russia, Moscow\n",
        "print(____)"
      ],
      "metadata": {
        "id": "J6fkJmkW7w4N"
      },
      "execution_count": null,
      "outputs": []
    },
    {
      "cell_type": "markdown",
      "source": [
        "# **Slicing in both directions**\n",
        "\n",
        "You've seen slicing DataFrames by rows and by columns, but since DataFrames are two-dimensional objects, it is often natural to slice both dimensions at once. That is, by passing two arguments to `.loc[]`, you can subset by rows and columns in one go.\n",
        "\n",
        "The `temperatures` DataFrame is available as it is read in the previous cells and and pandas is loaded as pd as well in the first cell. `temperatures_srt` has a multi-level index of country and city, and is available as it is created in the above cell. Answer each question below in each cell.\n",
        "\n",
        "**Instructions:**\n",
        "* Use `.loc[]` slicing to subset rows from `India`, `Hyderabad` to `Iraq`, `Baghdad`.\n",
        "* Use `.loc[]` slicing to subset columns from `date` to `avg_temp_c`.\n",
        "* Slice in both directions at once from `Hyderabad` to `Baghdad`, and `date` to `avg_temp_c`.\n"
      ],
      "metadata": {
        "id": "BooGSPsx8-ap"
      }
    },
    {
      "cell_type": "code",
      "source": [
        "# Subset rows from India, Hyderabad to Iraq, Baghdad\n",
        "print(____)\n",
        "\n",
        "# Subset columns from date to avg_temp_c\n",
        "print(____)\n",
        "\n",
        "# Subset in both directions at once\n",
        "print(____)"
      ],
      "metadata": {
        "id": "muaN-KIi-T20"
      },
      "execution_count": null,
      "outputs": []
    },
    {
      "cell_type": "markdown",
      "source": [
        "# **Slicing time series**\n",
        "\n",
        "Slicing is particularly useful for time series since it's a common thing to want to filter for data within a date range. Add the date column to the index, then use `.loc[]` to perform the subsetting. The important thing to remember is to keep your dates in ISO 8601 format, that is, \"yyyy-mm-dd\" for year-month-day, \"yyyy-mm\" for year-month, and \"yyyy\" for year.\n",
        "\n",
        "Recall that you can combine multiple Boolean conditions using logical operators, such as `&`. To do so in one line of code, you'll need to add parentheses `()` around each condition.\n",
        "\n",
        "The `temperatures` DataFrame is available (not indexed) as it is read in the previous cells and and pandas is loaded as pd as well in the first cell.\n",
        "\n",
        "**Instructions:**\n",
        "* Use Boolean conditions, not `.isin()` or `.loc[]`, and the full date `\"yyyy-mm-dd\"`, to subset `temperatures` for rows in `2010` and `2011` and print the results.\n",
        "* Set the index of `temperatures` to the date column and sort it.\n",
        "* Use `.loc[]` to subset `temperatures_ind` for rows in `2010` and `2011`.\n",
        "* Use `.loc[]` to subset `temperatures_ind` for rows from `Aug 2010` to `Feb 2011`.\n"
      ],
      "metadata": {
        "id": "zMbyQwNV-hFe"
      }
    },
    {
      "cell_type": "code",
      "source": [
        "# Use Boolean conditions to subset temperatures for rows in 2010 and 2011\n",
        "temperatures_bool = ____[(____ >= ____) & (____ <= ____)]\n",
        "print(temperatures_bool)\n",
        "\n",
        "# Set date as the index and sort the index\n",
        "temperatures_ind = temperatures.____.____\n",
        "\n",
        "# Use .loc[] to subset temperatures_ind for rows in 2010 and 2011\n",
        "print(____)\n",
        "\n",
        "# Use .loc[] to subset temperatures_ind for rows from Aug 2010 to Feb 2011\n",
        "print(____)"
      ],
      "metadata": {
        "id": "FzEhq4ptAGnS"
      },
      "execution_count": null,
      "outputs": []
    },
    {
      "cell_type": "markdown",
      "source": [
        "# **Subsetting by row/column number**\n",
        "\n",
        "The most common ways to subset rows are the ways we've previously discussed: using a Boolean condition or by index labels. However, it is also occasionally useful to pass row numbers.\n",
        "\n",
        "This is done using `.iloc[]`, and like `.loc[]`, it can take two arguments to let you subset by rows and columns.\n",
        "\n",
        "The `temperatures` DataFrame is available (not indexed) as it is read in the previous cells and and pandas is loaded as pd as well in the first cell.\n",
        "\n",
        "**Intructions:**\n",
        "Use `.iloc[]` on temperatures to take subsets.\n",
        "* Get the 23rd row, 2nd column (index positions 22 and 1).\n",
        "* Get the first 5 rows (index positions 0 to 5).\n",
        "* Get all rows, columns 3 and 4 (index positions 2 to 4).\n",
        "* Get the first 5 rows, columns 3 and 4.\n"
      ],
      "metadata": {
        "id": "SvcUsF13AQhY"
      }
    },
    {
      "cell_type": "code",
      "source": [
        "# Get 23rd row, 2nd column (index 22, 1)\n",
        "print(____)\n",
        "\n",
        "# Use slicing to get the first 5 rows\n",
        "print(____)\n",
        "\n",
        "# Use slicing to get columns 3 to 4\n",
        "print(____)\n",
        "\n",
        "# Use slicing in both directions at once\n",
        "print(____)"
      ],
      "metadata": {
        "id": "1GCAfgraB5mV"
      },
      "execution_count": null,
      "outputs": []
    },
    {
      "cell_type": "markdown",
      "source": [
        "# **Pivot temperature by city and year**\n",
        "\n",
        "It's interesting to see how temperatures for each city change over time—looking at every month results in a big table, which can be tricky to reason about. Instead, let's look at how temperatures change by year.\n",
        "\n",
        "You can access the components of a date (year, month and day) using code of the form `dataframe[\"column\"].dt.component`. For example, the month component is `dataframe[\"column\"].dt.month`, and the year component is `dataframe[\"column\"].dt.year`.\n",
        "\n",
        "Once you have the year column, you can create a pivot table with the data aggregated by city and year, which you'll explore in the coming exercises.\n",
        "\n",
        "The `temperatures` DataFrame is available as it is read in the previous cells and and pandas is loaded as pd as well in the first cell.\n",
        "\n",
        "**Intructions:**\n",
        "* Add a `year` column to `temperatures`, from the year component of the `date` column.\n",
        "* Make a pivot table of the `avg_temp_c` column, with `country` and `city` as rows, and `year` as columns. Assign to `temp_by_country_city_vs_year`, and look at the result.\n"
      ],
      "metadata": {
        "id": "QCV4IYPnB7CM"
      }
    },
    {
      "cell_type": "code",
      "source": [
        "# Add a year column to temperatures\n",
        "temperatures['date'] = pd.to_datetime(temperatures['date'])\n",
        "temperatures['year'] = temperatures['date'].dt.year\n",
        "# Pivot avg_temp_c by country and city vs year\n",
        "temp_by_country_city_vs_year = temperatures.pivot_table('avg_temp_c', index=['country', 'city'], columns='year')\n",
        "\n",
        "# See the result\n",
        "print(temp_by_country_city_vs_year)"
      ],
      "metadata": {
        "colab": {
          "base_uri": "https://localhost:8080/"
        },
        "id": "wGoXeZmIDJSO",
        "outputId": "9e43b810-a411-493f-cb0a-e1ad4bc492ce"
      },
      "execution_count": null,
      "outputs": [
        {
          "output_type": "stream",
          "name": "stdout",
          "text": [
            "year                                 2000       2001       2002       2003  \\\n",
            "country       city                                                           \n",
            "Afghanistan   Kabul             15.822667  15.847917  15.714583  15.132583   \n",
            "Angola        Luanda            24.410333  24.427083  24.790917  24.867167   \n",
            "Australia     Melbourne         14.320083  14.180000  14.075833  13.985583   \n",
            "              Sydney            17.567417  17.854500  17.733833  17.592333   \n",
            "Bangladesh    Dhaka             25.905250  25.931250  26.095000  25.927417   \n",
            "...                                   ...        ...        ...        ...   \n",
            "United States Chicago           11.089667  11.703083  11.532083  10.481583   \n",
            "              Los Angeles       16.643333  16.466250  16.430250  16.944667   \n",
            "              New York           9.969083  10.931000  11.252167   9.836000   \n",
            "Vietnam       Ho Chi Minh City  27.588917  27.831750  28.064750  27.827667   \n",
            "Zimbabwe      Harare            20.283667  20.861000  21.079333  20.889167   \n",
            "\n",
            "year                                 2004       2005       2006       2007  \\\n",
            "country       city                                                           \n",
            "Afghanistan   Kabul             16.128417  14.847500  15.798500  15.518000   \n",
            "Angola        Luanda            24.216167  24.414583  24.138417  24.241583   \n",
            "Australia     Melbourne         13.742083  14.378500  13.991083  14.991833   \n",
            "              Sydney            17.869667  18.028083  17.749500  18.020833   \n",
            "Bangladesh    Dhaka             26.136083  26.193333  26.440417  25.951333   \n",
            "...                                   ...        ...        ...        ...   \n",
            "United States Chicago           10.943417  11.583833  11.870500  11.448333   \n",
            "              Los Angeles       16.552833  16.431417  16.623083  16.699917   \n",
            "              New York          10.389500  10.681417  11.519250  10.627333   \n",
            "Vietnam       Ho Chi Minh City  27.686583  27.884000  28.044000  27.866667   \n",
            "Zimbabwe      Harare            20.307667  21.487417  20.699750  20.746250   \n",
            "\n",
            "year                                 2008       2009       2010       2011  \\\n",
            "country       city                                                           \n",
            "Afghanistan   Kabul             15.479250  15.093333  15.676000  15.812167   \n",
            "Angola        Luanda            24.266333  24.325083  24.440250  24.150750   \n",
            "Australia     Melbourne         14.110583  14.647417  14.231667  14.190917   \n",
            "              Sydney            17.321083  18.175833  17.999000  17.713333   \n",
            "Bangladesh    Dhaka             26.004500  26.535583  26.648167  25.803250   \n",
            "...                                   ...        ...        ...        ...   \n",
            "United States Chicago           10.242417  10.298333  11.815917  11.214250   \n",
            "              Los Angeles       17.014750  16.677000  15.887000  15.874833   \n",
            "              New York          10.641667  10.141833  11.357583  11.272250   \n",
            "Vietnam       Ho Chi Minh City  27.611417  27.853333  28.281750  27.675417   \n",
            "Zimbabwe      Harare            20.680500  20.523833  21.165833  20.781750   \n",
            "\n",
            "year                                 2012       2013  \n",
            "country       city                                    \n",
            "Afghanistan   Kabul             14.510333  16.206125  \n",
            "Angola        Luanda            24.240083  24.553875  \n",
            "Australia     Melbourne         14.268667  14.741500  \n",
            "              Sydney            17.474333  18.089750  \n",
            "Bangladesh    Dhaka             26.283583  26.587000  \n",
            "...                                   ...        ...  \n",
            "United States Chicago           12.821250  11.586889  \n",
            "              Los Angeles       17.089583  18.120667  \n",
            "              New York          11.971500  12.163889  \n",
            "Vietnam       Ho Chi Minh City  28.248750  28.455000  \n",
            "Zimbabwe      Harare            20.523333  19.756500  \n",
            "\n",
            "[100 rows x 14 columns]\n"
          ]
        }
      ]
    },
    {
      "cell_type": "markdown",
      "source": [
        "# **Subsetting pivot tables**\n",
        "\n",
        "A pivot table is just a DataFrame with sorted indexes, so the techniques you have learned already can be used to subset them. In particular, the `.loc[]` + slicing combination is often helpful.\n",
        "\n",
        "The `temp_by_country_city_vs_year` pivot table DataFrame is available as it is read in the previous cells and and pandas is loaded as pd as well in the first cell. Do the following exercises based this.\n",
        "\n",
        "**Intructions: **\n",
        "\n",
        "Use `.loc[]` on `temp_by_country_city_vs_year` to take subsets.\n",
        "* From `Egypt` to `India`.\n",
        "* From `Egypt, Cairo` to `India, Delhi`.\n",
        "* From `Egypt, Cairo` to `India, Delhi`, and `2005` to `2010`.\n"
      ],
      "metadata": {
        "id": "BWkzzLVEHHIz"
      }
    },
    {
      "cell_type": "code",
      "source": [
        "# Subset for Egypt to India\n",
        "____\n",
        "\n",
        "# Subset for Egypt, Cairo to India, Delhi\n",
        "____\n",
        "\n",
        "# Subset for Egypt, Cairo to India, Delhi, and 2005 to 2010\n",
        "____"
      ],
      "metadata": {
        "id": "rxAP7kUrIKRN"
      },
      "execution_count": null,
      "outputs": []
    },
    {
      "cell_type": "markdown",
      "source": [
        "# **Calculating on a pivot table**\n",
        "\n",
        "Pivot tables are filled with summary statistics, but they are only a first step to finding something insightful. Often you'll need to perform further calculations on them. A common thing to do is to find the rows or columns where the highest or lowest value occurs.\n",
        "\n",
        "Recall previous sections that you can easily subset a Series or DataFrame to find rows of interest using a logical condition inside of square brackets. For example: `series[series > value].`\n",
        "\n",
        "The `temp_by_country_city_vs_year` pivot table DataFrame is available as it is read in the previous cells and and pandas is loaded as pd as well in the first cell. Do the following exercises based this.\n",
        "\n",
        "**Intructions: **\n",
        "* Calculate the mean `temperature` for each year, assigning to `mean_temp_by_year`.\n",
        "* Filter `mean_temp_by_year` for the `year` that had the highest mean temperature.\n",
        "* Calculate the mean temperature for each city (across columns), assigning to `mean_temp_by_city`.\n",
        "* Filter `mean_temp_by_city` for the `city` that had the lowest mean temperature.\n",
        "\n"
      ],
      "metadata": {
        "id": "k1Wc0_cqI-3n"
      }
    },
    {
      "cell_type": "code",
      "source": [
        "# Get the worldwide mean temp by year\n",
        "mean_temp_by_year = temp_by_country_city_vs_year.____\n",
        "\n",
        "# Filter for the year that had the highest mean temp\n",
        "print(mean_temp_by_year[____])\n",
        "\n",
        "# Get the mean temp by city\n",
        "mean_temp_by_city = temp_by_country_city_vs_year.____\n",
        "\n",
        "# Filter for the city that had the lowest mean temp\n",
        "print(mean_temp_by_city[____])"
      ],
      "metadata": {
        "id": "ruA-oX8qJzIi"
      },
      "execution_count": null,
      "outputs": []
    }
  ]
}