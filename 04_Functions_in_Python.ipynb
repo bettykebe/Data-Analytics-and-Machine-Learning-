{
  "nbformat": 4,
  "nbformat_minor": 0,
  "metadata": {
    "colab": {
      "provenance": []
    },
    "kernelspec": {
      "name": "python3",
      "display_name": "Python 3"
    },
    "language_info": {
      "name": "python"
    }
  },
  "cells": [
    {
      "cell_type": "markdown",
      "source": [
        "# **Write a simple function**\n",
        "\n",
        "In this exercise, you will write your own function!\n",
        "\n",
        "Define a function, `shout()`, which simply prints out a string with three exclamation marks `'!!!'` at the end. The code for the `square()` function is found below as an example. You can use it as a pattern (syntax pattern) to define `shout()`.\n",
        "\n",
        "```\n",
        "def square():\n",
        "    new_value = 4 ** 2\n",
        "    return new_value\n",
        "```\n",
        "\n",
        "Note that the function body is indented 4 spaces already for you. Function bodies need to be indented by a consistent number of spaces and the choice of 4 is common.\n",
        "\n",
        "**Instructions:**\n",
        "* Complete the function header by adding the appropriate function name, shout.\n",
        "* In the function body, concatenate the string, `'congratulations'` with another string, `'!!!'`. Assign the result to `shout_word`.\n",
        "* Print the value of `shout_word`.\n",
        "* Call the `shout` function.\n"
      ],
      "metadata": {
        "id": "89doqqUZUwKD"
      }
    },
    {
      "cell_type": "code",
      "execution_count": 1,
      "metadata": {
        "id": "A1EXLIprUlcu",
        "colab": {
          "base_uri": "https://localhost:8080/"
        },
        "outputId": "c3a40215-5846-46ec-a05d-a02b12f8f399"
      },
      "outputs": [
        {
          "output_type": "stream",
          "name": "stdout",
          "text": [
            "congratulations!!!\n"
          ]
        }
      ],
      "source": [
        "# Define the function with the appropriate name\n",
        "def shout():\n",
        "    # Concatenate the strings\n",
        "    shout_word = 'congratulations' + '!!!'\n",
        "    # Print the result\n",
        "    print(shout_word)\n",
        "\n",
        "# Call the function\n",
        "shout()\n",
        "\n"
      ]
    },
    {
      "cell_type": "markdown",
      "source": [
        "# **Single-parameter functions**\n",
        "\n",
        "**Congratulations!** You have successfully defined and called your own function! That's pretty cool.\n",
        "\n",
        "In the previous exercise, you defined and called the function `shout()`, which printed out a string concatenated with `'!!!'`. You will now update `shout()` by adding a parameter so that it can accept and process any string argument passed to it. Also note that `shout(word)`, the part of the header that specifies the function name and parameter(s), is known as the signature of the function. You may encounter this term in the wild!\n",
        "\n",
        "Instructions:\n",
        "* Complete the function header by adding the parameter name, `word`.\n",
        "* Assign the result of concatenating `word` with `'!!!'` to `shout_word`.\n",
        "* Print the value of `shout_word`.\n",
        "* Call the `shout()` function, passing to it the string, `'congratulations'`.\n"
      ],
      "metadata": {
        "id": "ODwIv7-BXWkH"
      }
    },
    {
      "cell_type": "code",
      "source": [
        "# Define shout with the parameter, word\n",
        "def shout(word):\n",
        "    \"\"\"Print a string with three exclamation marks\"\"\"\n",
        "    # Concatenate the strings: shout_word\n",
        "    shout_word = word + '!!!'\n",
        "     # Print the result\n",
        "    print(shout_word)\n",
        "\n",
        "# Call the function with the argument 'congratulations'\n",
        "shout('congratulations')\n"
      ],
      "metadata": {
        "id": "5yv99ao7X6jQ",
        "colab": {
          "base_uri": "https://localhost:8080/"
        },
        "outputId": "04190e82-ba9d-41d0-a860-8738ed1edfcc"
      },
      "execution_count": 2,
      "outputs": [
        {
          "output_type": "stream",
          "name": "stdout",
          "text": [
            "congratulations!!!\n"
          ]
        }
      ]
    },
    {
      "cell_type": "code",
      "source": [
        "# Define the function with a return statement\n",
        "def shout(word):\n",
        "    # Concatenate the parameter with '!!!'\n",
        "    shout_word = word + '!!!'\n",
        "    # Return the result instead of printing it\n",
        "    return shout_word\n",
        "\n",
        "# Call the function with the argument 'congratulations' and assign the result to yell\n",
        "yell = shout('congratulations')\n",
        "\n",
        "# Print the value of yell to check the result\n",
        "print(yell)\n",
        "\n",
        "\n"
      ],
      "metadata": {
        "id": "9uwC-e3bZD-W",
        "colab": {
          "base_uri": "https://localhost:8080/"
        },
        "outputId": "585f5274-5b0e-4e6c-f53a-f58f17cf25d6"
      },
      "execution_count": 3,
      "outputs": [
        {
          "output_type": "stream",
          "name": "stdout",
          "text": [
            "congratulations!!!\n"
          ]
        }
      ]
    },
    {
      "cell_type": "markdown",
      "source": [
        "# **Functions that return single values**\n",
        "\n",
        "You're improving your skills of composing functions of your own! Try your hand at another modification to the `shout()` function so that it now returns a single value instead of printing within the function. Recall that the return keyword lets you return values from functions. Parts of the function `shout()`, which you wrote earlier, are shown. Returning values is generally more desirable than printing them out because, a `print()` call assigned to a variable has type `NoneType`. Printing out values is not equivalent to function return.\n",
        "\n",
        "**Instructions:**\n",
        "* In the function body, concatenate the string in `word` with `'!!!'` and assign to `shout_word`.\n",
        "* Replace the `print()` statement with the appropriate return statement.\n",
        "* Call the `shout() `function, passing to it the string, `'congratulations'`, and assigning the call to the variable, `yell`.\n",
        "* To check if yell contains the value returned by `shout()`, print the value of `yell`.\n"
      ],
      "metadata": {
        "id": "qfCtyjYFYNWt"
      }
    },
    {
      "cell_type": "markdown",
      "source": [
        "# **Functions with multiple parameters**\n",
        "\n",
        "It is also possible a function can have multiple parameters in defining functions. You are now going to use what you've learned to modify the `shout()` function further. Here, you will modify `shout()` to accept two arguments. Parts of the function `shout()`, which you wrote earlier, are shown.\n",
        "\n",
        "**Instructions:**\n",
        "* Modify the function header such that it accepts two parameters, `word1` and `word2`, in that order.\n",
        "* Concatenate each of `word1` and `word2` with `'!!!'` and assign to `shout1` and `shout2`, respectively.\n",
        "* Concatenate `shout1` and `shout2` together, in that order, and assign to `new_shout`.\n",
        "* Pass the strings `'congratulations'` and `'you'`, in that order, to a call to `shout()`. Assign the return value to `yell`.\n"
      ],
      "metadata": {
        "id": "_AJWfpaCZdBH"
      }
    },
    {
      "cell_type": "code",
      "source": [
        "# Define the function with two parameters\n",
        "def shout(word1, word2):\n",
        "    # Concatenate word1 and word2 with '!!!'\n",
        "    shout1 = word1 + '!!!'\n",
        "    shout2 = word2 + '!!!'\n",
        "    # Combine shout1 and shout2\n",
        "    new_shout = shout1 + ' ' + shout2\n",
        "    # Return the combined string\n",
        "    return new_shout\n",
        "\n",
        "# Call the function with two arguments and assign the result to yell\n",
        "yell = shout('congratulations', 'you')\n",
        "\n",
        "# Print the value of yell to check the result\n",
        "print(yell)\n",
        "\n"
      ],
      "metadata": {
        "id": "b8o1Tt4NaWyP",
        "colab": {
          "base_uri": "https://localhost:8080/"
        },
        "outputId": "58d91af4-3eb7-46d5-8b3c-94b5e994bae6"
      },
      "execution_count": 5,
      "outputs": [
        {
          "output_type": "stream",
          "name": "stdout",
          "text": [
            "congratulations!!! you!!!\n"
          ]
        }
      ]
    },
    {
      "cell_type": "markdown",
      "source": [
        "# **A brief introduction to tuples**\n",
        "\n",
        "Tuples are like lists but they are not modifiable i.e. tuples are immutable!  Imuutable means a datastructure where individual elements can't be altered. Tuples are given as comma separated lists inside a parenthesis.  For example, `tuple1 = (3, 1, 6)` is atuple with three elements. Here, you will practice about tuples: how to construct, unpack, and access tuple elements.\n",
        "\n",
        "`a, b, c = even_nums`\n",
        "\n",
        "A three-element tuple named nums has been assigned in the first codecell below for this exercise. Before completing the second codecell exercise, perform the following in the first codecell exercise:\n",
        "\n",
        "* Print out the value of `nums` in the codecell below. Note the elements in the tuple.\n",
        "* Try to change the first element of `nums` to the value `2` by doing an assignment: `nums[0] = 2`. What happens?\n",
        "\n",
        "Instructions:\n",
        "* Unpack `nums` to the variables `num1`, `num2`, and `num3`.\n",
        "* Construct a new tuple, `even_nums` composed of the same elements in `nums`, but with the 1st element replaced with the value, `2`.\n"
      ],
      "metadata": {
        "id": "TmRMSOvPa8tg"
      }
    },
    {
      "cell_type": "code",
      "source": [
        "#initializing nums\n",
        "nums = (3, 4, 6)\n",
        "#printing the values of nums\n",
        "print(nums)\n",
        "#Trying to modify the first element in the tuple\n",
        "nums[0] = 2"
      ],
      "metadata": {
        "id": "Dm9HanCpc0kr",
        "colab": {
          "base_uri": "https://localhost:8080/",
          "height": 209
        },
        "outputId": "d5b05b75-bf22-4291-971c-2a336acb3336"
      },
      "execution_count": 7,
      "outputs": [
        {
          "output_type": "stream",
          "name": "stdout",
          "text": [
            "(3, 4, 6)\n"
          ]
        },
        {
          "output_type": "error",
          "ename": "TypeError",
          "evalue": "'tuple' object does not support item assignment",
          "traceback": [
            "\u001b[0;31m---------------------------------------------------------------------------\u001b[0m",
            "\u001b[0;31mTypeError\u001b[0m                                 Traceback (most recent call last)",
            "\u001b[0;32m<ipython-input-7-8bc601215e6e>\u001b[0m in \u001b[0;36m<cell line: 0>\u001b[0;34m()\u001b[0m\n\u001b[1;32m      4\u001b[0m \u001b[0mprint\u001b[0m\u001b[0;34m(\u001b[0m\u001b[0mnums\u001b[0m\u001b[0;34m)\u001b[0m\u001b[0;34m\u001b[0m\u001b[0;34m\u001b[0m\u001b[0m\n\u001b[1;32m      5\u001b[0m \u001b[0;31m#Trying to modify the first element in the tuple\u001b[0m\u001b[0;34m\u001b[0m\u001b[0;34m\u001b[0m\u001b[0m\n\u001b[0;32m----> 6\u001b[0;31m \u001b[0mnums\u001b[0m\u001b[0;34m[\u001b[0m\u001b[0;36m0\u001b[0m\u001b[0;34m]\u001b[0m \u001b[0;34m=\u001b[0m \u001b[0;36m2\u001b[0m\u001b[0;34m\u001b[0m\u001b[0;34m\u001b[0m\u001b[0m\n\u001b[0m",
            "\u001b[0;31mTypeError\u001b[0m: 'tuple' object does not support item assignment"
          ]
        }
      ]
    },
    {
      "cell_type": "code",
      "source": [
        "# Unpack nums into num1, num2, and num3\n",
        "# Given tuple\n",
        "nums = (1, 4, 6)\n",
        "\n",
        "# Unpack nums to num1, num2, and num3\n",
        "num1, num2, num3 = nums\n",
        "\n",
        "# Construct a new tuple with the first element replaced by 2\n",
        "even_nums = (2, num2, num3)\n",
        "\n",
        "# Print the new tuple\n",
        "print(even_nums)\n",
        "\n",
        "\n"
      ],
      "metadata": {
        "id": "xS2Y000CcIrZ",
        "colab": {
          "base_uri": "https://localhost:8080/"
        },
        "outputId": "cfca1e16-775a-4120-9b09-e28d9763a100"
      },
      "execution_count": 8,
      "outputs": [
        {
          "output_type": "stream",
          "name": "stdout",
          "text": [
            "(2, 4, 6)\n"
          ]
        }
      ]
    },
    {
      "cell_type": "markdown",
      "source": [
        "# **Functions that return multiple values**\n",
        "\n",
        "In the previous exercise, you constructed tuples, assigned tuples to variables, and unpacked tuples. Here you will return multiple values from a function using tuples. Let's now update our `shout()` function to return multiple values. Instead of returning just one string, we will return two strings with the string !!! concatenated to each.\n",
        "\n",
        "Note that the return statement `return x, y` has the same result as `return (x, y)`: the former actually packs x and y into a tuple implicitly.\n",
        "\n",
        "**Instructions:**\n",
        "\n",
        "*  Modify the function header such that the function name is now `shout_all`, and it accepts two parameters, `word1` and `word2`, in that order.\n",
        "* Concatenate the string `'!!!'` to each of `word1` and `word2` and assign to `shout1` and `shout2`, respectively.\n",
        "* Construct a tuple `shout_words`, composed of `shout1` and `shout2`.\n",
        "* Call `shout_all()` with the strings `'congratulations'` and `'you'` and assign the result to `yell1` and `yell2` (remember, `shout_all()` returns 2 variables!).\n"
      ],
      "metadata": {
        "id": "BYRuxu2tdrQw"
      }
    },
    {
      "cell_type": "code",
      "source": [
        "# Define the function\n",
        "def shout_all(word1, word2):\n",
        "    # Concatenate '!!!' to each word\n",
        "    shout1 = word1 + '!!!'\n",
        "    shout2 = word2 + '!!!'\n",
        "\n",
        "    # Construct a tuple with both shout1 and shout2\n",
        "    shout_words = (shout1, shout2)\n",
        "\n",
        "    # Return the tuple\n",
        "    return shout_words\n",
        "\n",
        "# Call the function and unpack the results\n",
        "yell1, yell2 = shout_all('congratulations', 'you')\n",
        "\n",
        "# Print the results\n",
        "print(yell1)\n",
        "print(yell2)\n",
        "\n",
        "\n"
      ],
      "metadata": {
        "id": "eh6163RDed3w",
        "colab": {
          "base_uri": "https://localhost:8080/"
        },
        "outputId": "8d1f11e9-c5a3-4721-a4ef-47069299f3e0"
      },
      "execution_count": 11,
      "outputs": [
        {
          "output_type": "stream",
          "name": "stdout",
          "text": [
            "congratulations!!!\n",
            "you!!!\n"
          ]
        }
      ]
    },
    {
      "cell_type": "markdown",
      "source": [
        "# **The keyword global**\n",
        "\n",
        "Let's work on your mastery of scope. In this exercise, you will use the keyword `global` within a function to alter the value of a variable defined in the global scope. You can use the keyword global to refer to the variable defined the global scope even in the local scope. For example, you can check the following two functions.  \n",
        "\n",
        "```\n",
        "num = 5\n",
        "def func1():\n",
        "    num = 3\n",
        "    print(num)\n",
        "\n",
        "def func2():\n",
        "    global num\n",
        "    double_num = num * 2\n",
        "    num = 6\n",
        "    print(double_num)\n",
        "```\n",
        "\n",
        "\n",
        "\n",
        "Try calling func1() and func2() in the first codecell below, then answer the following questions:\n",
        "* What are the values printed out when you call `func1()` and `func2()`?\n",
        "* What is the value of `num` in the `global` scope after calling `func1()` and `func2()`?\n",
        "\n",
        "Then you will understand from this that using `global` keyword infront of a variable name make that specific variable to refer to the variable defined in the global scope instead of being considered as local variable.\n",
        "\n",
        "After making these tests in the first codecell below, then you are going to proceed to the second codecell given below and do the exercises as per the instructions provided here.\n",
        "\n",
        "Instructions:\n",
        "* Use the keyword `global` to alter the object `team` in the global scope.\n",
        "* Change the value of `team` in the global scope to the string `\"justice league\"`. Assign the result to `team`.\n",
        "* Run the codecell to see how executing your newly defined function `change_team()` changes the value of the name `team`!\n"
      ],
      "metadata": {
        "id": "Lq_6Spq2fXdg"
      }
    },
    {
      "cell_type": "code",
      "source": [
        "#The global variable num and the two functions.\n",
        "num = 5\n",
        "def func1():\n",
        "    num = 3\n",
        "    print(num)\n",
        "\n",
        "def func2():\n",
        "    global num\n",
        "    double_num = num * 2\n",
        "    num = 6\n",
        "    print(double_num)\n",
        "\n",
        "# Call func1() and func2() in a separate line and see what these two functions are displaying\n",
        "func1()\n",
        "func2()\n",
        "\n",
        "#print the value of num and see what its value is after the call of func1() and func2()\n",
        "print(num)\n"
      ],
      "metadata": {
        "id": "qkcuUO_1iqU1",
        "colab": {
          "base_uri": "https://localhost:8080/"
        },
        "outputId": "a6b981da-f5c3-43a7-dcbb-3fa4a2893abc"
      },
      "execution_count": 12,
      "outputs": [
        {
          "output_type": "stream",
          "name": "stdout",
          "text": [
            "3\n",
            "10\n",
            "6\n"
          ]
        }
      ]
    },
    {
      "cell_type": "code",
      "source": [
        "# Create a string: team\n",
        "team = \"teen titans\"\n",
        "\n",
        "# Define change_team()\n",
        "def change_team():\n",
        "    \"\"\"Change the value of the global variable team.\"\"\"\n",
        "\n",
        "    # Use global keyword to refer to the global variable team\n",
        "    global team\n",
        "\n",
        "    # Change the value of team in global: team\n",
        "    team = \"justice league\"\n",
        "\n",
        "# Print team\n",
        "print(team)\n",
        "\n",
        "# Call change_team()\n",
        "change_team()\n",
        "\n",
        "# Print team\n",
        "print(team)\n",
        "\n"
      ],
      "metadata": {
        "id": "-14suADujTok",
        "colab": {
          "base_uri": "https://localhost:8080/"
        },
        "outputId": "985fd956-6aeb-4734-d8f8-c0e40d6161a2"
      },
      "execution_count": 13,
      "outputs": [
        {
          "output_type": "stream",
          "name": "stdout",
          "text": [
            "teen titans\n",
            "justice league\n"
          ]
        }
      ]
    },
    {
      "cell_type": "markdown",
      "source": [
        "# **Nested Functions I**\n",
        "\n",
        "Nested functions are functions defined inside another function. One reason why you'd like to do this is to avoid writing out the same computations within functions repeatedly. There's nothing new about defining nested functions: you simply define it as you would a regular function with def and embed it inside another function!\n",
        "\n",
        "In this exercise, inside a function `three_shouts()`, you will define a nested function `inner()` that concatenates a string object with `'!!!'`. `three_shouts()` then returns a tuple of three elements, each a string concatenated with `'!!!'` using `inner()`. Go for it!\n",
        "\n",
        "Instructions:\n",
        "* Complete the function header of the nested function with the function name `inner()` and a single parameter `word`.\n",
        "* Complete the return value: each element of the tuple should be a call to `inner()`, passing in the parameters from `three_shouts()` as arguments to each call.\n"
      ],
      "metadata": {
        "id": "5u1QQx2HkobW"
      }
    },
    {
      "cell_type": "code",
      "source": [
        "# Define three_shouts() function\n",
        "def three_shouts(word1, word2, word3):\n",
        "    \"\"\"Create three shouts using a nested function inner().\"\"\"\n",
        "\n",
        "    # Define the inner() function inside three_shouts()\n",
        "    def inner(word):\n",
        "        \"\"\"Concatenate the word with '!!!'.\"\"\"\n",
        "        return word + '!!!'\n",
        "\n",
        "    # Return a tuple with three elements, each created by calling inner() on the words\n",
        "    return (inner(word1), inner(word2), inner(word3))\n",
        "\n",
        "# Example call to three_shouts() with words 'hello', 'world', and 'python'\n",
        "result = three_shouts('a', 'b', 'c')\n",
        "\n",
        "# Print the result\n",
        "print(result)\n",
        "\n",
        "\n",
        "\n"
      ],
      "metadata": {
        "id": "6WOjq2z1lY6M",
        "colab": {
          "base_uri": "https://localhost:8080/"
        },
        "outputId": "596ebfa1-74b3-4470-ff4b-d1eb376f48ba"
      },
      "execution_count": 14,
      "outputs": [
        {
          "output_type": "stream",
          "name": "stdout",
          "text": [
            "('a!!!', 'b!!!', 'c!!!')\n"
          ]
        }
      ]
    },
    {
      "cell_type": "markdown",
      "source": [
        "# **Nested Functions II**\n",
        "\n",
        "Great job, you've just nested a function within another function. One other pretty cool reason for nesting functions is the idea of a closure. This means that the nested or inner function remembers the state of its enclosing scope when called. Thus, anything defined locally in the enclosing scope is available to the inner function even when the outer function has finished execution.\n",
        "\n",
        "Let's move forward then! In this exercise, you will complete the definition of the inner function `inner_echo()` and then call `echo()` a couple of times, each with a different argument. Complete the exercise and see what the output will be!\n",
        "\n",
        "**Instructions:**\n",
        "* Complete the function header of the inner function with the function name `inner_echo()` and a single parameter `word1`.\n",
        "* Complete the function `echo()` so that it returns `inner_echo`.\n",
        "* We have called `echo()`, passing 2 as an argument, and assigned the resulting function to `twice`. Your job is to call `echo()`, passing 3 as an argument. Assign the resulting function to `thrice`.\n",
        "* Run the codecell to call twice() and thrice() and print the results.\n"
      ],
      "metadata": {
        "id": "WqJZx-wll1Cj"
      }
    },
    {
      "cell_type": "code",
      "source": [
        "# Define echo\n",
        "def echo(n):\n",
        "    \"\"\"Return the inner_echo function.\"\"\"\n",
        "\n",
        "    # Define inner_echo\n",
        "    def inner_echo(word1):\n",
        "        \"\"\"Concatenate n copies of word1.\"\"\"\n",
        "        echo_word = word1 * n\n",
        "        return echo_word\n",
        "\n",
        "    # Return inner_echo\n",
        "    return inner_echo  # Return the function, not call it immediately\n",
        "\n",
        "# Call echo: twice\n",
        "twice = echo(2)\n",
        "\n",
        "# Call echo: thrice\n",
        "thrice = echo(3)\n",
        "\n",
        "# Call twice() and thrice() then print\n",
        "print(twice('hello'), thrice('hello'))\n",
        "\n",
        "\n",
        "\n",
        "\n",
        "\n"
      ],
      "metadata": {
        "id": "6DRIqm_InY0P",
        "colab": {
          "base_uri": "https://localhost:8080/"
        },
        "outputId": "43cf403c-2253-407b-856a-d257ac004206"
      },
      "execution_count": 17,
      "outputs": [
        {
          "output_type": "stream",
          "name": "stdout",
          "text": [
            "hellohello hellohellohello\n"
          ]
        }
      ]
    },
    {
      "cell_type": "markdown",
      "source": [
        "# **The keyword nonlocal and nested functions**\n",
        "\n",
        "Let's once again work further on your mastery of scope! In this exercise, you will use the keyword `nonlocal` within a nested function to alter the value of a variable defined in the enclosing scope.\n",
        "\n",
        "**Instructions:**\n",
        "* Assign to `echo_word` the string `word`, concatenated with itself.\n",
        "* Use the keyword `nonlocal` to alter the value of `echo_word` in the enclosing scope.\n",
        "* Alter echo_word to echo_word concatenated with `'!!!'`.\n",
        "* Call the function `echo_shout()`, passing it a single argument `'hello'`.\n"
      ],
      "metadata": {
        "id": "apHAHoWdnnw8"
      }
    },
    {
      "cell_type": "code",
      "source": [
        "# Define echo_shout\n",
        "def echo_shout(word):\n",
        "    \"\"\"Alter the echo_word variable using nonlocal.\"\"\"\n",
        "\n",
        "    # Assign word concatenated with itself to echo_word\n",
        "    echo_word = word + word\n",
        "\n",
        "    # Define nested function\n",
        "    def inner_echo():\n",
        "        \"\"\"Use nonlocal to modify echo_word.\"\"\"\n",
        "        nonlocal echo_word\n",
        "        echo_word += '!!!'  # Alter echo_word in the enclosing scope\n",
        "\n",
        "    # Call inner_echo to modify echo_word\n",
        "    inner_echo()\n",
        "\n",
        "    # Return the modified echo_word\n",
        "    return echo_word\n",
        "\n",
        "# Call echo_shout with 'hello'\n",
        "result = echo_shout('hello')\n",
        "\n",
        "# Print the result\n",
        "print(result)\n"
      ],
      "metadata": {
        "id": "cc3JmUtZoRMP",
        "colab": {
          "base_uri": "https://localhost:8080/"
        },
        "outputId": "2c233d35-1175-4fda-bbac-02436a8c341f"
      },
      "execution_count": 19,
      "outputs": [
        {
          "output_type": "stream",
          "name": "stdout",
          "text": [
            "hellohello!!!\n"
          ]
        }
      ]
    },
    {
      "cell_type": "markdown",
      "source": [
        "# **Functions with one default argument**\n",
        "\n",
        "In the previous exercises, you've learned to define functions with more than one parameter and then calling those functions by passing the required number of arguments. In our class, we built on this idea by showing you how to define functions with default arguments. You will practice that skill in this exercise by writing a function that uses a default argument and then calling the function a couple of times.\n",
        "\n",
        "**Instructions:**\n",
        "\n",
        "* Complete the function header with the function name `shout_echo`. It accepts an argument `word1` and a default argument `echo` with default value `1`, in that order.\n",
        "* Use the * operator to concatenate `echo` copies of `word1`. Assign the result to `echo_word`.\n",
        "* Call `shout_echo()` with just the string, `\"Hey\"`. Assign the result to `no_echo`.\n",
        "* Call `shout_echo()` with the string `\"Hey\"` and the value `5` for the default argument, `echo`. Assign the result to `with_echo`.\n"
      ],
      "metadata": {
        "id": "4Q7iM2-CpIVB"
      }
    },
    {
      "cell_type": "code",
      "source": [
        "# Define shout_echo function\n",
        "def shout_echo(word1, echo=1):\n",
        "    \"\"\"Return word1 repeated echo times.\"\"\"\n",
        "    echo_word = word1 * echo  # Concatenate word1 echo times\n",
        "    return echo_word\n",
        "\n",
        "# Call shout_echo with just the string \"Hey\"\n",
        "no_echo = shout_echo(\"Hey\")\n",
        "\n",
        "# Call shout_echo with the string \"Hey\" and the value 5 for the default argument echo\n",
        "with_echo = shout_echo(\"Hey\", 5)\n",
        "\n",
        "# Print the results\n",
        "print(no_echo)     # Output: \"Hey\"\n",
        "print(with_echo)\n",
        "\n"
      ],
      "metadata": {
        "id": "KRoK2Onjp7TY",
        "colab": {
          "base_uri": "https://localhost:8080/"
        },
        "outputId": "350bd275-b8c1-457d-e870-4b5cc4707d18"
      },
      "execution_count": 20,
      "outputs": [
        {
          "output_type": "stream",
          "name": "stdout",
          "text": [
            "Hey\n",
            "HeyHeyHeyHeyHey\n"
          ]
        }
      ]
    },
    {
      "cell_type": "markdown",
      "source": [
        "# **Functions with multiple default arguments**\n",
        "\n",
        "You've now defined a function that uses a default argument - don't stop there just yet! You will now try your hand at defining a function with more than one default argument and then calling this function in various ways.\n",
        "\n",
        "After defining the function, you will call it by supplying values to all the default arguments of the function. Additionally, you will call the function by not passing a value to one of the default arguments - see how that changes the output of your function!\n",
        "\n",
        "**Instructions:**\n",
        "* Complete the function header with the function name `shout_echo`. It accepts an argument `word1`, a default argument `echo` with default value `1` and a default argument `intense` with default value `False`, in that order.\n",
        "* In the body of the `if` statement, make the string object `echo_word` upper case by applying the method `.upper()` on it.\n",
        "* Call `shout_echo()` with the string, `\"Hey\"`, the value `5` for `echo` and the value `True` for `intense`. Assign the result to `with_big_echo`.\n",
        "* Call `shout_echo()` with the string `\"Hey\"` and the value `True` for intense. Assign the result to `big_no_echo`.\n"
      ],
      "metadata": {
        "id": "Kb_BLUh2qmsD"
      }
    },
    {
      "cell_type": "code",
      "source": [
        "\n",
        "# Define shout_echo\n",
        "def shout_echo(word1, echo=1, intense=False):\n",
        "    \"\"\"Concatenate echo copies of word1 and three\n",
        "    exclamation marks at the end of the string.\"\"\"\n",
        "\n",
        "    # Concatenate echo copies of word1 using *: echo_word\n",
        "    echo_word = word1 * echo\n",
        "\n",
        "    # Make echo_word uppercase if intense is True\n",
        "    if intense is True:\n",
        "        # Make uppercase and concatenate '!!!': echo_word_new\n",
        "        echo_word_new = echo_word.upper() + '!!!'\n",
        "    else:\n",
        "        # Concatenate '!!!' to echo_word: echo_word_new\n",
        "        echo_word_new = echo_word + '!!!'\n",
        "\n",
        "    # Return echo_word_new\n",
        "    return echo_word_new\n",
        "\n",
        "# Call shout_echo() with \"Hey\", echo=5 and intense=True: with_big_echo\n",
        "with_big_echo = shout_echo(\"Hey\", echo=5, intense=True)\n",
        "\n",
        "# Call shout_echo() with \"Hey\" and intense=True: big_no_echo\n",
        "big_no_echo = shout_echo(\"Hey\", intense=True)\n",
        "\n",
        "# Print values\n",
        "print(with_big_echo)\n",
        "print(big_no_echo)"
      ],
      "metadata": {
        "id": "Nanrky2LrQ4X",
        "colab": {
          "base_uri": "https://localhost:8080/"
        },
        "outputId": "890c453a-e138-457a-f4e9-fd5c982c42f8"
      },
      "execution_count": 21,
      "outputs": [
        {
          "output_type": "stream",
          "name": "stdout",
          "text": [
            "HEYHEYHEYHEYHEY!!!\n",
            "HEY!!!\n"
          ]
        }
      ]
    },
    {
      "cell_type": "markdown",
      "source": [
        "# Functions with variable-length arguments `(*args)`  \n",
        "\n",
        "Flexible arguments enable you to pass a variable number of arguments to a function. In this exercise, you will practice defining a function that accepts a variable number of string arguments.\n",
        "\n",
        "The function you will define is `gibberish()` which can accept a variable number of string values. Its return value is a single string composed of all the string arguments concatenated together in the order they were passed to the function call. You will call the function with a single string argument and see how the output changes with another call using more than one string argument. Recall from our class discussion that within the function definition, `args` is a tuple.\n",
        "\n",
        "**Instructions:**\n",
        "* Complete the function header with the function name `gibberish`. It accepts a single flexible argument `*args`.\n",
        "* Initialize a variable `hodgepodge` to an empty string.\n",
        "* Return the variable `hodgepodge` at the end of the function body.\n",
        "* Call `gibberish()` with the single string, `\"luke\"`. Assign the result to `one_word`.\n",
        "* Run the codecel to call `gibberish()` with multiple arguments and to print the value to the screen.\n"
      ],
      "metadata": {
        "id": "7-Qb727LsJER"
      }
    },
    {
      "cell_type": "code",
      "source": [
        "# Define gibberish function\n",
        "def gibberish(*args):\n",
        "    \"\"\"Concatenate all string arguments together into one string.\"\"\"\n",
        "\n",
        "    # Initialize an empty string\n",
        "    hodgepodge = \"\"\n",
        "\n",
        "    # Iterate over all string arguments passed to the function\n",
        "    for word in args:\n",
        "        hodgepodge += word\n",
        "\n",
        "    # Return the concatenated string\n",
        "    return hodgepodge\n",
        "\n",
        "# Call gibberish() with a single string argument\n",
        "one_word = gibberish(\"luke\")\n",
        "\n",
        "# Call gibberish() with multiple arguments and print the result\n",
        "multiple_words = gibberish(\"luke\", \"leia\", \"han\", \"obi\", \"darth\")\n",
        "print(one_word)         # Output: luke\n",
        "print(multiple_words)   #\n",
        "\n"
      ],
      "metadata": {
        "id": "H_udqZeutSUH",
        "colab": {
          "base_uri": "https://localhost:8080/"
        },
        "outputId": "0bceeae2-23bf-4f3f-f605-8f187630705c"
      },
      "execution_count": 22,
      "outputs": [
        {
          "output_type": "stream",
          "name": "stdout",
          "text": [
            "luke\n",
            "lukeleiahanobidarth\n"
          ]
        }
      ]
    },
    {
      "cell_type": "markdown",
      "source": [
        "# Functions with variable-length keyword arguments `(**kwargs)`\n",
        "\n",
        "Let's push further on what you've learned about flexible arguments - you've used `*args`, you're now going to use `**kwargs`! What makes `**kwargs` different is that it allows you to pass a variable number of keyword arguments to functions. Within the function definition, `kwargs` is a dictionary.\n",
        "\n",
        "To understand this idea better, you're going to use `**kwargs` in this exercise to define a function that accepts a variable number of keyword arguments. The function simulates a simple status report system that prints out the status of a character in a movie.\n",
        "\n",
        "Instructions:\n",
        "* Complete the function header with the function name `report_status`. It accepts a single flexible argument `**kwargs`.\n",
        "* Iterate over the key-value pairs of `kwargs` to print out the keys and values, separated by a colon `':'`.\n",
        "* In the first call to `report_status()`, pass the following keyword-value pairs: `name=\"luke\"`, `affiliation=\"jedi\"` and `status=\"missing\"`.\n",
        "* In the second call to `report_status()`, pass the following keyword-value pairs: `name=\"anakin\"`, `affiliation=\"sith lord\"` and `status=\"deceased\"`.\n"
      ],
      "metadata": {
        "id": "UVCBKlrptyKd"
      }
    },
    {
      "cell_type": "code",
      "source": [
        "# Define report_status\n",
        "def report_status(**kwargs):\n",
        "    \"\"\"Print out the status of a movie character.\"\"\"\n",
        "\n",
        "    print(\"\\nBEGIN: REPORT\\n\")\n",
        "\n",
        "    # Iterate over the key-value pairs of kwargs\n",
        "    for key, value in kwargs.items():\n",
        "        # Print out the keys and values, separated by a colon ':'\n",
        "        print(key + \": \" + value)\n",
        "\n",
        "    print(\"\\nEND REPORT\")\n",
        "\n",
        "# First call to report_status()\n",
        "report_status(name=\"luke\", affiliation=\"jedi\", status=\"missing\")\n",
        "\n",
        "# Second call to report_status()\n",
        "report_status(name=\"anakin\", affiliation=\"sith lord\", status=\"deceased\")\n",
        "\n",
        "\n",
        "\n",
        "\n"
      ],
      "metadata": {
        "id": "MNRhruCruigl",
        "colab": {
          "base_uri": "https://localhost:8080/"
        },
        "outputId": "06dfa275-fb64-42f3-ebbb-e2b414e03847"
      },
      "execution_count": 25,
      "outputs": [
        {
          "output_type": "stream",
          "name": "stdout",
          "text": [
            "\n",
            "BEGIN: REPORT\n",
            "\n",
            "name: luke\n",
            "affiliation: jedi\n",
            "status: missing\n",
            "\n",
            "END REPORT\n",
            "\n",
            "BEGIN: REPORT\n",
            "\n",
            "name: anakin\n",
            "affiliation: sith lord\n",
            "status: deceased\n",
            "\n",
            "END REPORT\n"
          ]
        }
      ]
    }
  ]
}