{
  "nbformat": 4,
  "nbformat_minor": 0,
  "metadata": {
    "colab": {
      "provenance": []
    },
    "kernelspec": {
      "name": "python3",
      "display_name": "Python 3"
    },
    "language_info": {
      "name": "python"
    }
  },
  "cells": [
    {
      "cell_type": "markdown",
      "source": [
        "# **Investigating Netflix Movies**\n",
        "\n",
        "Netflix! What started in 1997 as a DVD rental service has since exploded into one of the largest entertainment and media companies.\n",
        "\n",
        "Given the large number of movies and series available on the platform, it is a perfect opportunity to flex your exploratory data analysis skills and dive into the entertainment industry.\n",
        "\n",
        "You work for a production company that specializes in nostalgic styles. You want to do some research on movies released in the 1990's. You'll delve into Netflix data and perform exploratory data analysis to better understand this awesome movie decade!\n",
        "\n",
        "You have been supplied with the dataset `netflix_data.csv`, along with the following table detailing the column names and descriptions. Feel free to experiment further after submitting!\n",
        "\n",
        "**The data**\n",
        "\n",
        "File : netflix_data.csv\n",
        "\n",
        "Column  | Description\n",
        "--------|------------\n",
        "show_id\t| The ID of the show\n",
        "type |\tType of show\n",
        "title |\tTitle of the show\n",
        "director |\tDirector of the show\n",
        "cast |\tCast of the show\n",
        "country |\tCountry of origin\n",
        "date_added |\tDate added to Netflix\n",
        "release_year |\tYear of Netflix release\n",
        "duration |\tDuration of the show in minutes\n",
        "description |\tDescription of the show\n",
        "genre |\tShow genre\n",
        "--------|------------\n",
        "\n",
        "Perform exploratory data analysis on the `netflix_data.csv` data to understand more about movies from the 1990s  and 20002 decades. Answer each question in its own codecell provided separately below.\n",
        "\n",
        "1. What was the most frequent movie duration in the 1990s? Save an approximate answer as an integer called `duration`.\n",
        "\n",
        "2. A movie is considered short if it is less than 90 minutes. Count the number of short action movies released in the 1990s and save this integer as `short_movie_count`.\n",
        "3. How many commedy movies were released in 2000s in Turkey? Count the number of commedy movies released in the 2000s and save the value as an integer variable `turkey_commedy_2000s`.\n",
        "4. Which country has more movies in the 2000s? Nigeria or South Africa? Find out the number of movies by these two countries and compare. Then assign the country name of the country with high number of movies in 2000s to `high_movie_country_2000s`.\n",
        "5. Which countries are in the top five in terms of number of short documentary movies in 1990s? Put the names of the top five countries as python lists to a variable `top5_countries_short_documentary`.      "
      ],
      "metadata": {
        "id": "Yd9H0hNTXmNE"
      }
    },
    {
      "cell_type": "code",
      "execution_count": 2,
      "metadata": {
        "id": "VEIM4LwJXeh_",
        "colab": {
          "base_uri": "https://localhost:8080/"
        },
        "outputId": "fd4a5650-6095-4ed5-810c-5366bfe75daa"
      },
      "outputs": [
        {
          "output_type": "stream",
          "name": "stdout",
          "text": [
            "<class 'pandas.core.frame.DataFrame'>\n",
            "RangeIndex: 7787 entries, 0 to 7786\n",
            "Data columns (total 11 columns):\n",
            " #   Column        Non-Null Count  Dtype \n",
            "---  ------        --------------  ----- \n",
            " 0   show_id       7787 non-null   object\n",
            " 1   type          7787 non-null   object\n",
            " 2   title         7787 non-null   object\n",
            " 3   director      5398 non-null   object\n",
            " 4   cast          7069 non-null   object\n",
            " 5   country       7280 non-null   object\n",
            " 6   date_added    7777 non-null   object\n",
            " 7   release_year  7787 non-null   int64 \n",
            " 8   duration      7787 non-null   int64 \n",
            " 9   description   7787 non-null   object\n",
            " 10  genre         7787 non-null   object\n",
            "dtypes: int64(2), object(9)\n",
            "memory usage: 669.3+ KB\n",
            "None\n",
            "show_id            0\n",
            "type               0\n",
            "title              0\n",
            "director        2389\n",
            "cast             718\n",
            "country          507\n",
            "date_added        10\n",
            "release_year       0\n",
            "duration           0\n",
            "description        0\n",
            "genre              0\n",
            "dtype: int64\n"
          ]
        }
      ],
      "source": [
        "#This codecell is general and you should run it before proceeding to the next codecells to answer each question\n",
        "# Importing pandas and matplotlib\n",
        "import pandas as pd\n",
        "import matplotlib.pyplot as plt\n",
        "\n",
        "# Read in the Netflix CSV as a DataFrame\n",
        "netflix_df = pd.read_csv(\"https://github.com/DataAnalyst21/DatasetsForDataAnalytics/blob/main/netflix_data.csv?raw=True\")\n",
        "\n",
        "print(netflix_df.info())\n",
        "\n",
        "# Check for missing values\n",
        "print(netflix_df.isnull().sum())"
      ]
    },
    {
      "cell_type": "code",
      "source": [
        "#1. Codecell for question #1\n",
        "#Write your solution codes to answer question #1\n",
        "\n",
        "\n",
        "\n",
        "movies_1990s = netflix_df[(netflix_df['type'] == 'Movie') &\n",
        "                            (netflix_df['release_year'] >= 1990) &\n",
        "                            (netflix_df['release_year'] <= 1999)]\n",
        "\n",
        "duration = int(movies_1990s['duration'].mode()[0])\n",
        "\n"
      ],
      "metadata": {
        "id": "OnCcBXZdeZWR"
      },
      "execution_count": 18,
      "outputs": []
    },
    {
      "cell_type": "code",
      "source": [
        "#2. Codecell for question #2\n",
        "#Write your solution codes to answer question #2\n",
        "short_movies_1990s_action = netflix_df[(netflix_df['type'] == 'Movie') &\n",
        "                                         (netflix_df['release_year'] >= 1990) &\n",
        "                                         (netflix_df['release_year'] <= 1999) &\n",
        "                                         (netflix_df['duration'] > 90) &\n",
        "                                         (netflix_df['type'].str.contains('Action', case=False))]\n",
        "\n",
        "# Count the number of short action movies\n",
        "short_movie_count = short_movies_1990s_action.shape[0]\n",
        "\n",
        "# Display the result\n",
        "print(\"Number of short action movies in the 1990s:\", short_movie_count)"
      ],
      "metadata": {
        "id": "CtGI1aIsagnK",
        "colab": {
          "base_uri": "https://localhost:8080/"
        },
        "outputId": "35928a93-9165-4db8-d786-0dc22ce11cfc"
      },
      "execution_count": 17,
      "outputs": [
        {
          "output_type": "stream",
          "name": "stdout",
          "text": [
            "Number of short action movies in the 1990s: 0\n"
          ]
        }
      ]
    },
    {
      "cell_type": "code",
      "source": [
        "#3. Codecell for question #3\n",
        "#Write your solution codes to answer question #3\n",
        "turkey_commedy_2000s_df = netflix_df[(netflix_df['type'] == 'Movie') &\n",
        "                                      (netflix_df['release_year'] >= 2000) &\n",
        "                                      (netflix_df['release_year'] <= 2009) &\n",
        "                                      (netflix_df['type'].str.contains('Comedy', case=False)) &\n",
        "                                      (netflix_df['country'].str.contains('Turkey', case=False))]\n",
        "\n",
        "# Count the number of comedy movies\n",
        "turkey_commedy_2000s = turkey_commedy_2000s_df.shape[0]\n",
        "\n",
        "# Display the result\n",
        "print(\"Number of comedy movies released in Turkey in the 2000s:\", turkey_commedy_2000s)"
      ],
      "metadata": {
        "id": "lq9mIl-EakLv",
        "colab": {
          "base_uri": "https://localhost:8080/"
        },
        "outputId": "7e038cf6-bec5-40eb-fbe9-095ba07947db"
      },
      "execution_count": 20,
      "outputs": [
        {
          "output_type": "stream",
          "name": "stdout",
          "text": [
            "Number of comedy movies released in Turkey in the 2000s: 0\n"
          ]
        }
      ]
    },
    {
      "cell_type": "code",
      "source": [
        "#4. Codecell for question #4\n",
        "#Write your solution codes to answer question #4\n",
        "netflix_df = pd.read_csv(\"https://github.com/DataAnalyst21/DatasetsForDataAnalytics/blob/main/netflix_data.csv?raw=True\")\n",
        "nigeria_2000s = netflix_df[(netflix_df['country'] == 'Nigeria') & (netflix_df['release_year'] >= 2000) & (netflix_df['release_year'] < 2010)]\n",
        "\n",
        "\n",
        "# Filter for movies from South Africa in the 2000s\n",
        "south_africa_2000s = netflix_df[(netflix_df['country'] == 'South Africa') & (netflix_df['release_year'] >= 2000) & (netflix_df['release_year'] < 2010)]\n",
        "\n",
        "# Count the number of movies for Nigeria and South Africa in the 2000s\n",
        "nigeria_movie_count = nigeria_2000s.shape[0]\n",
        "south_africa_movie_count = south_africa_2000s.shape[0]\n",
        "\n",
        "# Compare the two countries and assign the country with more movies\n",
        "if nigeria_movie_count > south_africa_movie_count:\n",
        "    high_movie_country_2000s = 'Nigeria'\n",
        "else:\n",
        "    high_movie_country_2000s = 'South Africa'\n",
        "\n",
        "# Output the result\n",
        "print(high_movie_country_2000s)"
      ],
      "metadata": {
        "id": "gAO1EokIanZS",
        "colab": {
          "base_uri": "https://localhost:8080/"
        },
        "outputId": "aaabe41e-127a-4549-a7c8-2070d1024026"
      },
      "execution_count": 31,
      "outputs": [
        {
          "output_type": "stream",
          "name": "stdout",
          "text": [
            "South Africa\n"
          ]
        }
      ]
    },
    {
      "cell_type": "code",
      "source": [
        "#5. Codecell for question #5\n",
        "#Write your solution codes to answer question #5\n",
        "short_documentary_1990s = netflix_df[(netflix_df['genre'] == 'Documentary') &\n",
        "                                     (netflix_df['duration'] < 90) &\n",
        "                                     (netflix_df['release_year'] >= 1990) &\n",
        "                                     (netflix_df['release_year'] < 2000)]\n",
        "country_counts = short_documentary_1990s.groupby('country').size()\n",
        "\n",
        "# Sort the results in descending order\n",
        "sorted_country_counts = country_counts.sort_values(ascending=False)\n",
        "\n",
        "# Get the top 5 countries\n",
        "top5_countries_short_documentary = sorted_country_counts.head(5).index.tolist()\n",
        "\n",
        "# Display the top 5 countries\n",
        "print(top5_countries_short_documentary)\n",
        "\n",
        ""
      ],
      "metadata": {
        "id": "82rSOBxKarF7",
        "colab": {
          "base_uri": "https://localhost:8080/"
        },
        "outputId": "61143ec6-e761-4252-a5a1-80af5f1f0912"
      },
      "execution_count": 38,
      "outputs": [
        {
          "output_type": "stream",
          "name": "stdout",
          "text": [
            "[]\n"
          ]
        }
      ]
    }
  ]
}