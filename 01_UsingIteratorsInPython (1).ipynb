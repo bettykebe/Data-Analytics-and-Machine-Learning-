{
  "nbformat": 4,
  "nbformat_minor": 0,
  "metadata": {
    "colab": {
      "provenance": []
    },
    "kernelspec": {
      "name": "python3",
      "display_name": "Python 3"
    },
    "language_info": {
      "name": "python"
    }
  },
  "cells": [
    {
      "cell_type": "code",
      "execution_count": 3,
      "metadata": {
        "id": "s1Ox9WoQZMEU"
      },
      "outputs": [],
      "source": [
        "#Importing necessary libraries for this notebook\n",
        "import pandas as pd"
      ]
    },
    {
      "cell_type": "markdown",
      "source": [
        "# **Iterators vs. Iterables**\n",
        "\n",
        "Recall from the class that an iterable is an object that can return an iterator, while an iterator is an object that keeps state and produces the next value when you call `next()` on it. In this exercise, you will identify which object is an iterable and which is an iterator.\n",
        "\n",
        "The environment has been pre-loaded with the variables `flash1` and `flash2`. Try printing out their values with `print()` and `next()` to figure out which is an iterable and which is an iterator. Which one is an iterable and which one is iterator? Print either A, B, or C in the codecell below.\n",
        "\n",
        "* A. Both `flash1` and `flash2` are iterators.\n",
        "* B. Both `flash1` and `flash2` are iterables.\n",
        "* C. `flash1` is an iterable and `flash2` is an iterator."
      ],
      "metadata": {
        "id": "EfVWhE4gZVq5"
      }
    },
    {
      "cell_type": "code",
      "source": [
        "#Assingning values to flash1 and flash2\n",
        "flash1 = ['jay garrick', 'barry allen', 'wally west', 'bart allen']\n",
        "flash2 = iter(flash1)\n",
        "\n",
        "#Print and discover which one is an iterable and which one is an iterator\n",
        "print('iterable')\n",
        "print('iterator')\n",
        "\n",
        "#Finally print either A, B or C as an answer to the question above\n",
        "print('C')"
      ],
      "metadata": {
        "id": "3zhSqkXvaPzM",
        "colab": {
          "base_uri": "https://localhost:8080/"
        },
        "outputId": "377ce509-7c1e-43dc-c626-f05f846f6491"
      },
      "execution_count": 2,
      "outputs": [
        {
          "output_type": "stream",
          "name": "stdout",
          "text": [
            "iterable\n",
            "iterator\n",
            "C\n"
          ]
        }
      ]
    },
    {
      "cell_type": "markdown",
      "source": [
        "# **Iterating over iterables (1)**\n",
        "\n",
        "Now, you're familiar with what iterables and iterators are! In this exercise, you will reinforce your knowledge about these by iterating over and printing from iterables and iterators.\n",
        "\n",
        "You are provided with a list of strings `flash`. You will practice iterating over the list by using a for loop. You will also create an iterator for the list and access the values from the iterator.\n",
        "\n",
        "**Instructions:**\n",
        "* Create a for loop to loop over `flash` and print the values in the list. Use `person` as the loop variable.\n",
        "* Create an iterator for the list `flash` and assign the result to `superhero`.\n",
        "* Print each of the items from `superhero` using `next()` 4 times.\n"
      ],
      "metadata": {
        "id": "p-Ey7okvbAFW"
      }
    },
    {
      "cell_type": "code",
      "source": [
        "# Create a list of strings: flash\n",
        "flash = ['jay garrick', 'barry allen', 'wally west', 'bart allen']\n",
        "\n",
        "# Print each list item in flash using a for loop\n",
        "for person in flash:\n",
        "    print(person)\n",
        "\n",
        "# 2. Create an iterator for the list and assign it to superhero\n",
        "superhero = iter(flash)\n",
        "\n",
        "# 3. Use next() to access the items in the iterator\n",
        "print(next(superhero))  # Output: \"Barry Allen\"\n",
        "print(next(superhero))  # Output: \"Wally West\"\n",
        "print(next(superhero))  # Output: \"Jay Garrick\"\n",
        "print(next(superhero))\n",
        "\n"
      ],
      "metadata": {
        "id": "R0SB6WqNbcy5",
        "colab": {
          "base_uri": "https://localhost:8080/"
        },
        "outputId": "add78997-e6a5-489f-d340-80e8948ba861"
      },
      "execution_count": 5,
      "outputs": [
        {
          "output_type": "stream",
          "name": "stdout",
          "text": [
            "jay garrick\n",
            "barry allen\n",
            "wally west\n",
            "bart allen\n",
            "jay garrick\n",
            "barry allen\n",
            "wally west\n",
            "bart allen\n"
          ]
        }
      ]
    },
    {
      "cell_type": "markdown",
      "source": [
        "# **Iterating over iterables (2)**\n",
        "\n",
        "One of the things you learned about in this chapter is that not all iterables are actual lists. A couple of examples that we looked at are strings and the use of the `range()` function. In this exercise, we will focus on the `range()` function.\n",
        "\n",
        "You can use `range()` in a for loop as if it's a list to be iterated over:\n",
        "```\n",
        "for i in range(5):\n",
        "    print(i)\n",
        "```\n",
        "\n",
        "Recall that `range()` doesn't actually create the list; instead, it creates a range object with an iterator that produces the values until it reaches the limit (in the example, until the value 4). If `range()` created the actual list, calling it with a value of $10^{100}$  may not work, especially since a number as big as that may go over a regular computer's memory. The value is actually what's called a Googol which is a 1 followed by a hundred 0s. That's a huge number!\n",
        "\n",
        "Your task for this exercise is to show that calling `range()` with $10^{100}$  won't actually pre-create the list.\n",
        "\n",
        "**Instructions:**\n",
        "* Create an iterator object `small_value` over `range(3)` using the function `iter()`.\n",
        "* Using a for loop, iterate over `range(3)`, printing the value for every iteration. Use `num` as the loop variable.\n",
        "* Create an iterator object `googol` over `range(10 ** 100)`.\n"
      ],
      "metadata": {
        "id": "VkrVqdWab6xd"
      }
    },
    {
      "cell_type": "code",
      "source": [
        "# Create an iterator for range(3): small_value\n",
        "small_value = iter(range(3))\n",
        "\n",
        "# Print the values in small_value\n",
        "print(next(small_value))\n",
        "print(next(small_value))\n",
        "print(next(small_value))\n",
        "\n",
        "# 2. Use a for loop to iterate over range(3) and print each value\n",
        "for num in range(3):\n",
        "    print(num)\n",
        "\n",
        "# 3. Create an iterator object googol over range(10 ** 100)\n",
        "googol = iter(range(10 ** 100))\n",
        "\n",
        "\n",
        "# Print the first 5 values from googol\n",
        "print(next(googol))\n",
        "print(next(googol))\n",
        "print(next(googol))\n",
        "print(next(googol))\n",
        "print(next(googol))\n"
      ],
      "metadata": {
        "id": "fEdyU7TwdeRH",
        "colab": {
          "base_uri": "https://localhost:8080/"
        },
        "outputId": "8e325d27-0105-41cd-e833-27b7bce07e43"
      },
      "execution_count": 7,
      "outputs": [
        {
          "output_type": "stream",
          "name": "stdout",
          "text": [
            "0\n",
            "1\n",
            "2\n",
            "0\n",
            "1\n",
            "2\n",
            "0\n",
            "1\n",
            "2\n",
            "3\n",
            "4\n"
          ]
        }
      ]
    },
    {
      "cell_type": "markdown",
      "source": [
        "# **Iterators as function arguments**\n",
        "\n",
        "You've been using the `iter()` function to get an iterator object, as well as the `next()` function to retrieve the values one by one from the iterator object.\n",
        "\n",
        "There are also functions that take iterators and iterables as arguments. For example, the `list()` and `sum()` functions return a list and the sum of elements, respectively.\n",
        "\n",
        "In this exercise, you will use these functions by passing an iterable from `range()` and then printing the results of the function calls.\n",
        "\n",
        "**Instructions:**\n",
        "* Create a range object that would produce the values from `10` to `20` (inclusive) using `range()`. Assign the result to `values`.\n",
        "* Use the `list()` function to create a list of values from the range object values. Assign the result to `values_list`.\n",
        "* Use the `sum()` function to get the sum of the values from `10` to `20` from the range object values. Assign the result to `values_sum`.\n"
      ],
      "metadata": {
        "id": "MJfZNdxid2uI"
      }
    },
    {
      "cell_type": "code",
      "source": [
        "# 1. Create a range object that produces values from 10 to 20 (inclusive)\n",
        "values = range(10, 21)\n",
        "\n",
        "# 2. Use the list() function to create a list of values from the range object\n",
        "values_list = list(values)\n",
        "print(\"List of values:\", values_list)\n",
        "\n",
        "# 3. Use the sum() function to get the sum of values from 10 to 20\n",
        "values_sum = sum(values)\n",
        "print(\"Sum of values:\", values_sum)\n",
        "\n",
        "\n"
      ],
      "metadata": {
        "id": "BEcp90PpeUu3",
        "colab": {
          "base_uri": "https://localhost:8080/"
        },
        "outputId": "8336c34d-bcd6-4a73-cace-ec6baa011686"
      },
      "execution_count": 8,
      "outputs": [
        {
          "output_type": "stream",
          "name": "stdout",
          "text": [
            "List of values: [10, 11, 12, 13, 14, 15, 16, 17, 18, 19, 20]\n",
            "Sum of values: 165\n"
          ]
        }
      ]
    },
    {
      "cell_type": "markdown",
      "source": [
        "# **Using enumerate**\n",
        "\n",
        "You've just gained several new ideas on iterators from the last class and one of them is the `enumerate()` function. Recall that `enumerate()` returns an enumerate object that produces a sequence of tuples, and each of the tuples is an index-value pair.\n",
        "\n",
        "In this exercise, you are given a list of strings `mutants` and you will practice using `enumerate() `on it by printing out a list of tuples and unpacking the tuples using a `for` loop.\n",
        "\n",
        "**Instructions:**\n",
        "* Create a list of tuples from `mutants` and assign the result to `mutant_list`. Make sure you generate the tuples using `enumerate()` and turn the result from it into a list using `list()` function.\n",
        "* Complete the first `for` loop by unpacking the tuples generated by calling `enumerate()` on `mutants`. Use `index` for the index and `value` for the value when unpacking the tuple.\n",
        "* Complete the second for loop similarly as with the first, but this time change the starting index to start from `100` by passing it in as an argument to the `start` parameter of `enumerate()`. Use `index_100` for the index and `value_100` for the value when unpacking the tuple.\n"
      ],
      "metadata": {
        "id": "Y9DTJnK4fS_W"
      }
    },
    {
      "cell_type": "code",
      "source": [
        "# Create a list of strings: mutants\n",
        "mutants = ['charles xavier',\n",
        "            'bobby drake',\n",
        "            'kurt wagner',\n",
        "            'max eisenhardt',\n",
        "            'kitty pryde']\n",
        "\n",
        "\n",
        "# 1. Create a list of tuples from mutants using enumerate() and assign it to mutant_list\n",
        "mutant_list = list(enumerate(mutants))\n",
        "print( mutant_list)\n",
        "\n",
        "# 2. Unpack the tuples in a for loop (default index starting from 0)\n",
        "\n",
        "for index, value in enumerate(mutants):\n",
        "    print(f\"Index: {index}, Value: {value}\")\n",
        "\n",
        "# 3. Unpack the tuples with a starting index of 100\n",
        "\n",
        "for index_100, value_100 in enumerate(mutants, start=100):\n",
        "    print(f\"Index: {index_100}, Value: {value_100}\")\n",
        "\n"
      ],
      "metadata": {
        "id": "tj_ABEntgIX-",
        "colab": {
          "base_uri": "https://localhost:8080/"
        },
        "outputId": "711579af-7825-417c-931e-fe4199b4afc9"
      },
      "execution_count": 9,
      "outputs": [
        {
          "output_type": "stream",
          "name": "stdout",
          "text": [
            "[(0, 'charles xavier'), (1, 'bobby drake'), (2, 'kurt wagner'), (3, 'max eisenhardt'), (4, 'kitty pryde')]\n",
            "Index: 0, Value: charles xavier\n",
            "Index: 1, Value: bobby drake\n",
            "Index: 2, Value: kurt wagner\n",
            "Index: 3, Value: max eisenhardt\n",
            "Index: 4, Value: kitty pryde\n",
            "Index: 100, Value: charles xavier\n",
            "Index: 101, Value: bobby drake\n",
            "Index: 102, Value: kurt wagner\n",
            "Index: 103, Value: max eisenhardt\n",
            "Index: 104, Value: kitty pryde\n"
          ]
        }
      ]
    },
    {
      "cell_type": "code",
      "source": [
        "#Initializing the aliases and powers string lists\n",
        "aliases = ['prof x', 'iceman', 'nightcrawler', 'magneto', 'shadowcat']\n",
        "powers = ['telepathy', 'thermokinesis', 'teleportation', 'magnetokinesis', 'intangibility']\n",
        "\n",
        "\n",
        "# 1. Create a list of tuples from mutants, aliases, and powers using zip() and list()\n",
        "mutant_data = list(zip(aliases, powers))\n",
        "\n",
        "print(mutant_data)\n",
        "\n",
        "# 2. Create a zip object using zip()\n",
        "mutant_zip = zip( aliases, powers)\n",
        "print(\"\\nZip object:\", mutant_zip)\n",
        "\n",
        "# 3. Unpack the zip object in a for loop and print the values\n",
        "print(\"\\nUnpacking the zip object:\")\n",
        "for value1, value2 in mutant_zip:\n",
        "    print(f\"Alias: {value1}, Power: {value2}\")\n",
        "\n",
        "\n",
        "\n"
      ],
      "metadata": {
        "id": "oJlgTwb3hP8L",
        "colab": {
          "base_uri": "https://localhost:8080/"
        },
        "outputId": "fe88708f-01ec-4003-ec95-beb65f84cf24"
      },
      "execution_count": 13,
      "outputs": [
        {
          "output_type": "stream",
          "name": "stdout",
          "text": [
            "[('prof x', 'telepathy'), ('iceman', 'thermokinesis'), ('nightcrawler', 'teleportation'), ('magneto', 'magnetokinesis'), ('shadowcat', 'intangibility')]\n",
            "\n",
            "Zip object: <zip object at 0x7fd2a48095c0>\n",
            "\n",
            "Unpacking the zip object:\n",
            "Alias: prof x, Power: telepathy\n",
            "Alias: iceman, Power: thermokinesis\n",
            "Alias: nightcrawler, Power: teleportation\n",
            "Alias: magneto, Power: magnetokinesis\n",
            "Alias: shadowcat, Power: intangibility\n"
          ]
        }
      ]
    },
    {
      "cell_type": "markdown",
      "source": [
        "# **Using zip**\n",
        "\n",
        "Another interesting function that you've learned is `zip()`, which takes any number of iterables and returns a zip object that is an iterator of tuples. If you wanted to print the values of a zip object, you can convert it into a list and then print it. Printing just a zip object will not return the values unless you unpack it first. In this exercise, you will explore this for yourself.\n",
        "\n",
        "Three lists of strings are loaded: `mutants`, `aliases`, and `powers`. First, you will use `list()` and `zip()` on these lists to generate a list of tuples. Then, you will create a zip object using `zip()`. Finally, you will unpack this zip object in a `for` loop to print the values in each tuple. Observe the different output generated by printing the list of tuples, then the zip object, and finally, the tuple values in the `for` loop.\n",
        "\n",
        "Recall that `mutants` is assigned a value in the previous codecell and `aliases` and `powers` are initialized in the first few lines of code in the codecell below.\n",
        "\n",
        "**Instructions:**\n",
        "* Using `zip()` with `list()`, create a list of tuples from the three lists `mutants`, `aliases`, and `powers` (in that order) and assign the result to `mutant_data`.\n",
        "* Using `zip()`, create a zip object called `mutant_zip` from the three lists `mutants`, `aliases`, and `powers`.\n",
        "* Complete the `for` loop by unpacking the zip object you created and printing the tuple values. Use `value1`, `value2`, `value3` for the values from each of `mutants`, `aliases`, and `powers`, in that order.\n"
      ],
      "metadata": {
        "id": "1XkFhbA6giLM"
      }
    },
    {
      "cell_type": "markdown",
      "source": [
        "# **Using `*` and `zip` to 'unzip' bold**\n",
        "\n",
        "You know how to use `zip()` as well as how to print out values from a zip object. Great!\n",
        "\n",
        "Let's play around with `zip()` a little more. There is no unzip function for doing the reverse of what `zip()` does. We can, however, reverse what has been zipped together by using `zip()` with a little help from `*! *` unpacks an iterable such as a list or a tuple into positional arguments in a function call.\n",
        "\n",
        "In this exercise, you will use `*` in a call to `zip()` to unpack the tuples produced by `zip()`.\n",
        "\n",
        "Two tuples of strings, `mutants` and `powers` have been loaded in the previous codecells.\n",
        "\n",
        "**Instructions:**\n",
        "* Create a zip object by using `zip()` on `mutants` and powers, in that order. Assign the result to `z1`.\n",
        "* Print the tuples in `z1` by unpacking them into positional arguments using the `*` operator in a `print()` call.\n",
        "* Because the previous `print()` call would have exhausted the elements in `z1`, recreate the zip object you defined earlier and assign the result again to `z1`.\n",
        "* 'Unzip' the tuples in `z1` by unpacking them into positional arguments using the `*` operator in a `zip()` call. Assign the results to `result1` and `result2`, in that order.\n",
        "* The last `print()` statements prints the output of comparing `result1` to `mutants` and `result2` to `powers`. Run your code to see if the unpacked `result1` and `result2` are equivalent to `mutants` and `powers`, respectively.\n"
      ],
      "metadata": {
        "id": "5f2VPiCyiZHZ"
      }
    },
    {
      "cell_type": "code",
      "source": [
        "\n",
        "\n",
        "# Step 1: Create a zip object using zip() on mutants and powers\n",
        "z1 = zip(mutants, powers)\n",
        "\n",
        "# Step 2: Print the tuples in z1 by unpacking them using the * operator\n",
        "print(*z1)\n",
        "\n",
        "# Step 3: Recreate the zip object as z1 (since the previous print exhausted it)\n",
        "z1 = zip(mutants, powers)\n",
        "\n",
        "# Step 4: 'Unzip' the tuples in z1 into result1 and result2 using the * operator\n",
        "result1, result2 = zip(*z1)\n",
        "\n",
        "# Step 5: Print whether result1 is equal to mutants and result2 is equal to powers\n",
        "print(result1 == tuple(mutants))  # True if result1 matches mutants\n",
        "print(result2 == tuple(powers))\n",
        "\n"
      ],
      "metadata": {
        "id": "pavYuhyvjqfA",
        "colab": {
          "base_uri": "https://localhost:8080/"
        },
        "outputId": "f9d46c9c-c13b-4071-c7f5-d3df29684181"
      },
      "execution_count": 14,
      "outputs": [
        {
          "output_type": "stream",
          "name": "stdout",
          "text": [
            "('charles xavier', 'telepathy') ('bobby drake', 'thermokinesis') ('kurt wagner', 'teleportation') ('max eisenhardt', 'magnetokinesis') ('kitty pryde', 'intangibility')\n",
            "True\n",
            "True\n"
          ]
        }
      ]
    },
    {
      "cell_type": "markdown",
      "source": [
        "# **Processing large amounts of Twitter data**\n",
        "\n",
        "Sometimes, the data we have to process reaches a size that is too much for a computer's memory to handle. This is a common problem faced by data scientists. A solution to this is to process an entire data source chunk by chunk, instead of a single go all at once.\n",
        "\n",
        "In this exercise, you will do just that. You will process a large csv file of Twitter data in the same way that you processed `'tweets.csv'` working on it in chunks of `10` entries at a time.\n",
        "\n",
        "The pandas package has been imported as pd and the file `'tweets.csv'` directory is assigned to `file_path` variable for your use.\n",
        "\n",
        "**Instructions:**\n",
        "* Initialize an empty dictionary `counts_dict` for storing the results of processing the Twitter data.\n",
        "* Iterate over the `'tweets.csv'` file by using a for loop. Use the loop variable chunk and iterate over the call to `pd.read_csv()` with a `chunksize` of 10.\n",
        "* In the inner loop, iterate over the column `'lang'` in chunk by using a `for` loop. Use the loop variable `entry`.\n"
      ],
      "metadata": {
        "id": "Zh_34XEYktYk"
      }
    },
    {
      "cell_type": "code",
      "source": [
        "#Initialize file_path to the 'tweet.csv' link\n",
        "file_path = 'https://github.com/DataAnalyst21/DatasetsForDataAnalytics/blob/main/tweets.csv?raw=True'\n",
        "\n",
        "# Initialize an empty dictionary: counts_dict\n",
        "counts_dict = {}\n",
        "\n",
        "# Step 2: Iterate over the file in chunks of 10\n",
        "for chunk in pd.read_csv(file_path, chunksize=10):\n",
        "    # Step 3: Iterate over the 'lang' column in the current chunk\n",
        "    for entry in chunk['lang']:\n",
        "        # Update the counts_dict for each language\n",
        "        if entry in counts_dict:\n",
        "            counts_dict[entry] += 1\n",
        "        else:\n",
        "            counts_dict[entry] = 1\n",
        "\n",
        "# Print the resulting counts_dict\n",
        "print(counts_dict)\n",
        "\n"
      ],
      "metadata": {
        "id": "QEZOkX1wl3gi",
        "colab": {
          "base_uri": "https://localhost:8080/"
        },
        "outputId": "40899cc3-4ec9-4f13-cc92-b3fe442e6241"
      },
      "execution_count": 15,
      "outputs": [
        {
          "output_type": "stream",
          "name": "stdout",
          "text": [
            "{'en': 97, 'et': 1, 'und': 2}\n"
          ]
        }
      ]
    },
    {
      "cell_type": "markdown",
      "source": [
        "# **Extracting information for large amounts of Twitter data**\n",
        "\n",
        "You now know how to deal with situations where you need to process a very large file and that's a very useful skill to have!\n",
        "\n",
        "It's good to know how to process a file in smaller, more manageable chunks, but it can become very tedious having to write and rewrite the same code for the same task each time. In this exercise, you will be making your code more reusable by putting your work in the last exercise in a function definition.\n",
        "\n",
        "The pandas package has been imported as pd and the `file_path` variable for 'tweets.csv' is initialized previously for your use.\n",
        "\n",
        "**Instructions:**\n",
        "* Define the function `count_entries()`, which has `3` parameters. The first parameter is `csv_file` for the filename, the second is `c_size` for the chunk size, and the last is `colname` for the column name.\n",
        "* Iterate over the file in `csv_file` file by using a `for` loop. Use the loop variable `chunk` and iterate over the call to `pd.read_csv()`, passing `c_size` to `chunksize` parameter.\n",
        "* In the inner loop, iterate over the column given by `colname` in `chunk` by using a `for` loop. Use the loop variable `entry`.\n",
        "* Call the `count_entries()` function by passing to it the filename `file_path`, the size of chunks `10`, and the name of the column to count, `'lang'`. Assign the result of the call to the variable `result_counts`.\n"
      ],
      "metadata": {
        "id": "F_vHIqRpnQLN"
      }
    },
    {
      "cell_type": "code",
      "source": [
        "# Define count_entries()\n",
        "import pandas as pd\n",
        "\n",
        "# Define the function count_entries()\n",
        "def count_entries(csv_file, c_size, colname):\n",
        "\n",
        "    # Initialize an empty dictionary to store counts\n",
        "    counts_dict = {}\n",
        "\n",
        "    # Iterate over the file in chunks\n",
        "    for chunk in pd.read_csv(csv_file, chunksize=c_size):\n",
        "        # Iterate over the specified column in the chunk\n",
        "        for entry in chunk[colname]:\n",
        "            # Update the count for each entry in the dictionary\n",
        "            if entry in counts_dict:\n",
        "                counts_dict[entry] += 1\n",
        "            else:\n",
        "                counts_dict[entry] = 1\n",
        "\n",
        "    return counts_dict\n",
        "\n",
        "# Assign file path\n",
        "file_path = 'https://github.com/DataAnalyst21/DatasetsForDataAnalytics/blob/main/tweets.csv?raw=True'\n",
        "\n",
        "# Call the function with the specified parameters\n",
        "result_counts = count_entries(file_path, 10, 'lang')\n",
        "\n",
        "# Print the result\n",
        "print(result_counts)\n",
        "\n",
        "\n"
      ],
      "metadata": {
        "id": "yjFU9UBhoRUz",
        "colab": {
          "base_uri": "https://localhost:8080/"
        },
        "outputId": "9a446875-3ec4-4ee0-f163-85e0b6ad6590"
      },
      "execution_count": 18,
      "outputs": [
        {
          "output_type": "stream",
          "name": "stdout",
          "text": [
            "{'en': 97, 'et': 1, 'und': 2}\n"
          ]
        }
      ]
    }
  ]
}