{
  "nbformat": 4,
  "nbformat_minor": 0,
  "metadata": {
    "colab": {
      "provenance": []
    },
    "kernelspec": {
      "name": "python3",
      "display_name": "Python 3"
    },
    "language_info": {
      "name": "python"
    }
  },
  "cells": [
    {
      "cell_type": "markdown",
      "source": [
        "**Importing necessary libraries and modules **\n"
      ],
      "metadata": {
        "id": "9jEhZMMRbS2a"
      }
    },
    {
      "cell_type": "code",
      "execution_count": null,
      "metadata": {
        "id": "Lksn7glNbMPK"
      },
      "outputs": [],
      "source": [
        "import pandas as pd\n",
        "import matplotlib.pyplot as plt"
      ]
    },
    {
      "cell_type": "markdown",
      "source": [
        "# **What column to merge on?**\n",
        "\n",
        "Chicago provides a list of taxicab owners and vehicles licensed to operate within the city, for public safety. Your goal is to merge two tables together. One table is called `taxi_owners`, with info about the taxi cab company owners, and one is called `taxi_veh`, with info about each taxi cab vehicle. Both the `taxi_owners` and `taxi_veh` tables have been loaded for you to explore.\n",
        "\n",
        "Choose the column you would use to merge the two tables on using the\n",
        "`.merge()` method.\n",
        "\n",
        "- [ ] `on='rid'`\n",
        "- [x] `on='vid'`\n",
        "- [ ] `on='year'`\n",
        "- [ ] `on='zip'`\n",
        "\n",
        "# **Your first inner join**\n",
        "\n",
        "You have been tasked with figuring out what the most popular types of fuel used in Chicago taxis are. To complete the analysis, you need to merge the `taxi_owners` and `taxi_veh` tables together on the vid column. You can then use the merged table along with the `.value_counts()` method to find the most common `fuel_type`.\n",
        "\n",
        "Since you'll be working with `pandas` throughout the course, the package already loaded in the first cell for you as `pd` in each exercise in this course. The data reading lines for the `taxi_owners` and `taxi_veh` DataFrames from a pickle file are also provided in the first two lines on the following cell.\n",
        "\n",
        "Instructions\n",
        "* Read the taxi_ownders.p file and store it in DataFrame `taxi_owners` and the taxi_vehicles.p file and store it in DataFrame `taxi_veh`.\n",
        "* Take a look at the columns of each DataFrame and decide which column to use for the inner merge.\n",
        "* Merge the two DataFrames and store it intwo `taxi_owner_veh` DataFrame. Set the left and right table suffixes for overlapping columns of the merge to _own and _veh, respectively.\n",
        "* Display the first rows from `taxi_owner_veh`.\n",
        "* Select the `fuel_type` column from `taxi_owner_veh` and print the `value_counts()` to find the most popular `fuel_types` used."
      ],
      "metadata": {
        "id": "Vd6q8RfwdzSK"
      }
    },
    {
      "cell_type": "code",
      "source": [
        "#Creating the DataFrames by reading from the files\n",
        "taxi_owners = pd.read_pickle('https://github.com/datttrian/datacamp/blob/main/joining-data-with-pandas/taxi_owners.p?raw=True')\n",
        "taxi_veh = pd.read_pickle('https://github.com/datttrian/datacamp/blob/main/joining-data-with-pandas/taxi_vehicles.p?raw=True')\n",
        "#Looking at the DataFrames by printing the first rows using .head() function\n",
        "print(taxi_owners.head())\n",
        "print(taxi_veh.head())\n",
        "#From the columns and first five values, it is clear that vid can be used to merge these two DataFrames\n",
        "# Merge the taxi_owners and taxi_veh tables using 'vid' column\n",
        "taxi_owner_veh = taxi_owners.merge(taxi_veh, on='vid')\n",
        "\n",
        "#print the first rows of the taxi_owner_veh\n",
        "print(taxi_owner_veh.head())\n",
        "\n",
        "# Merge the taxi_owners and taxi_veh tables setting a suffix\n",
        "taxi_own_veh = taxi_owners.merge(taxi_veh, on='vid', suffixes=('_own', '_veh'))\n",
        "\n",
        "\n",
        "# Print the column names of taxi_own_veh\n",
        "print(taxi_own_veh.columns)\n",
        "\n",
        "# Print the value_counts to find the most popular fuel_type\n",
        "print(taxi_own_veh['fuel_type'].value_counts())\n"
      ],
      "metadata": {
        "id": "bUa153C5f3Gq",
        "colab": {
          "base_uri": "https://localhost:8080/"
        },
        "outputId": "6e34116d-0488-4c1b-d5b7-979902699e95"
      },
      "execution_count": null,
      "outputs": [
        {
          "output_type": "stream",
          "name": "stdout",
          "text": [
            "     rid   vid           owner                 address    zip\n",
            "0  T6285  6285  AGEAN TAXI LLC     4536 N. ELSTON AVE.  60630\n",
            "1  T4862  4862    MANGIB CORP.  5717 N. WASHTENAW AVE.  60659\n",
            "2  T1495  1495   FUNRIDE, INC.     3351 W. ADDISON ST.  60618\n",
            "3  T4231  4231    ALQUSH CORP.   6611 N. CAMPBELL AVE.  60645\n",
            "4  T5971  5971  EUNIFFORD INC.     3351 W. ADDISON ST.  60618\n",
            "    vid    make   model  year fuel_type                owner\n",
            "0  2767  TOYOTA   CAMRY  2013    HYBRID       SEYED M. BADRI\n",
            "1  1411  TOYOTA    RAV4  2017    HYBRID          DESZY CORP.\n",
            "2  6500  NISSAN  SENTRA  2019  GASOLINE       AGAPH CAB CORP\n",
            "3  2746  TOYOTA   CAMRY  2013    HYBRID  MIDWEST CAB CO, INC\n",
            "4  5922  TOYOTA   CAMRY  2013    HYBRID       SUMETTI CAB CO\n",
            "     rid   vid         owner_x                 address    zip    make   model  \\\n",
            "0  T6285  6285  AGEAN TAXI LLC     4536 N. ELSTON AVE.  60630  NISSAN  ALTIMA   \n",
            "1  T4862  4862    MANGIB CORP.  5717 N. WASHTENAW AVE.  60659   HONDA     CRV   \n",
            "2  T1495  1495   FUNRIDE, INC.     3351 W. ADDISON ST.  60618  TOYOTA  SIENNA   \n",
            "3  T4231  4231    ALQUSH CORP.   6611 N. CAMPBELL AVE.  60645  TOYOTA   CAMRY   \n",
            "4  T5971  5971  EUNIFFORD INC.     3351 W. ADDISON ST.  60618  TOYOTA  SIENNA   \n",
            "\n",
            "   year fuel_type         owner_y  \n",
            "0  2011    HYBRID  AGEAN TAXI LLC  \n",
            "1  2014  GASOLINE    MANGIB CORP.  \n",
            "2  2015  GASOLINE   FUNRIDE, INC.  \n",
            "3  2014    HYBRID    ALQUSH CORP.  \n",
            "4  2015  GASOLINE  EUNIFFORD INC.  \n",
            "Index(['rid', 'vid', 'owner_own', 'address', 'zip', 'make', 'model', 'year',\n",
            "       'fuel_type', 'owner_veh'],\n",
            "      dtype='object')\n",
            "fuel_type\n",
            "HYBRID                    2792\n",
            "GASOLINE                   611\n",
            "FLEX FUEL                   89\n",
            "COMPRESSED NATURAL GAS      27\n",
            "Name: count, dtype: int64\n"
          ]
        }
      ]
    },
    {
      "cell_type": "markdown",
      "source": [
        "# **Inner joins and number of rows returned**\n",
        "\n",
        "All of the merges you have studied to this point are called inner joins. It is necessary to understand that inner joins only return the rows with matching values in both tables. You will explore this further by reviewing the merge between the `wards` and `census` tables, then comparing it to merges of copies of these tables that are slightly altered, named `wards_altered`, and `census_altered`. The first row of the wards column has been changed in the altered tables. You will examine how this affects the merge between them.\n",
        "\n",
        "The `wards`, `census`, `wards_altered` and `census_altered` DataFrames are loaded from the source pickle files in the first four lines of the following cell.\n",
        "\n",
        "For this exercise, it is important to know that the `wards` and `census` tables start with 50 rows.\n",
        "\n",
        "**Instructions**\n",
        "\n",
        "* Merge `wards` and `census` on the `ward` column and save the result to `wards_census`.\n",
        "* Merge the `wards_altered` and `census` tables on the `ward` column, and notice the difference in returned rows.\n",
        "* Merge the `wards` and `census_altered` tables on the `ward` column, and notice the difference in returned rows."
      ],
      "metadata": {
        "id": "M_0fOZOwhtHE"
      }
    },
    {
      "cell_type": "code",
      "source": [
        "#Creating the DataFrames by reading from the files\n",
        "wards = pd.read_pickle('https://github.com/datttrian/datacamp/blob/main/joining-data-with-pandas/ward.p?raw=True').astype(object)\n",
        "census = pd.read_pickle('https://github.com/datttrian/datacamp/blob/main/joining-data-with-pandas/census.p?raw=True').astype(object)\n",
        "\n",
        "wards_altered = pd.read_csv('https://github.com/datttrian/datacamp/blob/main/joining-data-with-pandas/wards_altered.csv?raw=True').astype(object)\n",
        "census_altered = pd.read_csv('https://github.com/datttrian/datacamp/blob/main/joining-data-with-pandas/census_altered.csv?raw=True').astype(object)\n",
        "\n",
        "#print(census.head())\n",
        "import pandas as pd\n",
        "\n",
        "\n",
        "# Merge wards and census on the 'ward' column\n",
        "wards_census = wards.merge(census, on='ward')\n",
        "print(f\"Rows in wards_census: {len(wards_census)}\")\n",
        "\n",
        "# Merge wards_altered and census on the 'ward' column\n",
        "wards_altered_census = wards_altered.merge(census, on='ward')\n",
        "print(f\"Rows in wards_altered_census: {len(wards_altered_census)}\")\n",
        "\n",
        "# Merge wards and census_altered on the 'ward' column\n",
        "wards_census_altered = wards.merge(census_altered, on='ward')\n",
        "print(f\"Rows in wards_census_altered: {len(wards_census_altered)}\")\n",
        "\n",
        "# Print the shape of wards_census\n",
        "print('wards_census table shape:', wards_census.shape)\n",
        "\n",
        "# Print the first few rows of the wards_altered table to view the change\n",
        "print(wards_altered[['ward']].head())\n",
        "\n",
        "\n"
      ],
      "metadata": {
        "id": "fQvkaGV8J0bA",
        "colab": {
          "base_uri": "https://localhost:8080/"
        },
        "outputId": "5814e9fb-24a7-488b-c3f3-a099e38956a5"
      },
      "execution_count": null,
      "outputs": [
        {
          "output_type": "stream",
          "name": "stdout",
          "text": [
            "Rows in wards_census: 50\n",
            "Rows in wards_altered_census: 0\n",
            "Rows in wards_census_altered: 0\n",
            "wards_census table shape: (50, 9)\n",
            "  ward\n",
            "0   61\n",
            "1    2\n",
            "2    3\n",
            "3    4\n",
            "4    5\n"
          ]
        }
      ]
    },
    {
      "cell_type": "markdown",
      "source": [
        "# **One-to-many classification**\n",
        "\n",
        "Understanding the difference between a one-to-one and one-to-many relationship is a useful skill. In this exercise, consider a set of tables from an e-commerce website. The hypothetical tables are the following:\n",
        "\n",
        "* A customer table with information about each customer\n",
        "* A cust_tax_info table with customers unique tax IDs\n",
        "* An orders table with information about each order\n",
        "* A products table with details about each unique product sold\n",
        "* An inventory table with information on how much total inventory is available to sell for each product\n",
        "\n",
        "**One-to-one**\n",
        "\n",
        "* The relationship between products and inventory. The relationship between customer and cust_tax_info.\n",
        "\n",
        "**One-to-many**\n",
        "\n",
        "The relationship between the products and orders. The relationship between the customers and orders.\n",
        "\n",
        "# **One-to-many merge**\n",
        "\n",
        "A business may have one or multiple owners. In this exercise, you will\n",
        "continue to gain experience with one-to-many merges by merging a table\n",
        "of business owners, called `biz_owners`, to the `licenses` table. Recall\n",
        "from the video lesson, with a one-to-many relationship, a row in the\n",
        "left table may be repeated if it is related to multiple rows in the\n",
        "right table. In this lesson, you will explore this further by finding\n",
        "out what is the most common business owner title. (i.e., secretary, CEO,\n",
        "or vice president)\n",
        "\n",
        "The `licenses` and `biz_owners` DataFrames are loaded in the first two lines of the following cell.\n",
        "\n",
        "**Instructions**\n",
        "\n",
        "-   Starting with the `licenses` table on the left, merge it to the\n",
        "    `biz_owners` table on the column `account`, and save the results to\n",
        "    a variable named `licenses_owners`.\n",
        "-   Group `licenses_owners` by `title` and count the number of accounts\n",
        "    for each title. Save the result as `counted_df`\n",
        "-   Sort `counted_df` by the number of **accounts** in **descending\n",
        "    order**, and save this as a variable named `sorted_df`.\n",
        "-   Use the `.head()` method to print the first few rows of the\n",
        "    `sorted_df`.\n",
        "\n"
      ],
      "metadata": {
        "id": "UVEASbQ_jnFC"
      }
    },
    {
      "cell_type": "code",
      "source": [
        "# Load DataFrames from source files\n",
        "licenses = pd.read_pickle('https://github.com/DataAnalyst21/DatasetsForDataAnalytics/blob/main/licenses.p?raw=True')\n",
        "biz_owners = pd.read_pickle('https://github.com/DataAnalyst21/DatasetsForDataAnalytics/blob/main/business_owners.p?raw=True')\n",
        "\n",
        "# Load DataFrames from source files\n",
        "licenses = pd.read_pickle('https://github.com/DataAnalyst21/DatasetsForDataAnalytics/blob/main/licenses.p?raw=True')\n",
        "biz_owners = pd.read_pickle('https://github.com/DataAnalyst21/DatasetsForDataAnalytics/blob/main/business_owners.p?raw=True')\n",
        "\n",
        "# Merge the licenses and biz_owners table on account\n",
        "licenses_owners = licenses.merge(biz_owners, on='account')\n",
        "\n",
        "# Group the results by title then count the number of accounts\n",
        "counted_df = licenses_owners.groupby('title').agg({'account': 'count'}).reset_index()\n",
        "\n",
        "# Sort the counted_df in descending order\n",
        "sorted_df = counted_df.sort_values(by='account', ascending=False)\n",
        "\n",
        "# Use .head() method to print the first few rows of sorted_df\n",
        "print(sorted_df.head())\n",
        "\n"
      ],
      "metadata": {
        "id": "iUI5xu2FR_Hy",
        "colab": {
          "base_uri": "https://localhost:8080/"
        },
        "outputId": "895311b6-4f96-4fe5-fc7e-f4c18fbd059a"
      },
      "execution_count": null,
      "outputs": [
        {
          "output_type": "stream",
          "name": "stdout",
          "text": [
            "              title  account\n",
            "14        PRESIDENT     6259\n",
            "16        SECRETARY     5205\n",
            "18  SOLE PROPRIETOR     1658\n",
            "12            OTHER     1200\n",
            "22   VICE PRESIDENT      970\n"
          ]
        }
      ]
    },
    {
      "cell_type": "markdown",
      "source": [
        "# **Total riders in a month**\n",
        "\n",
        "Your goal is to find the total number of rides provided to passengers passing through the Wilson station `(station_name == 'Wilson')` when riding Chicago's public transportation system on weekdays `(day_type == 'Weekday')` in July `(month == 7)`. Luckily, Chicago provides this detailed data, but it is in three different tables. You will work on merging these tables together to answer the question. This data is different from the business related data you have seen so far, but all the information you need to answer the question is provided.\n",
        "\n",
        "The `cal`, `ridership`, and `stations` DataFrames have been loaded for you in the first three lines of codes in the codecel below. The relationship between the tables can be seen in the diagram below.\n",
        "\n",
        "![Chica_diagram.png](data:image/png;base64,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)\n",
        "\n",
        "The `cal` table relates to `ridership` via `year`, `month`, and `day`. The `ridership` table relates to the `stations` table via `station_id`.\n",
        "\n",
        "**Instructions:**\n",
        "* Merge the `ridership` and `cal` tables together, starting with the `ridership` table on the left and save the result to the variable `ridership_cal`. If you code takes too long to run, your merge conditions might be incorrect.\n",
        "* Then extend the previous merge to three tables by also merging the `stations` table and assigning the result to `ridership_cal_stations`.\n",
        "* Create a variable called `filter_criteria` to select the appropriate rows from the merged table so that you can sum the rides column.\n"
      ],
      "metadata": {
        "id": "An3zWaD5lxAf"
      }
    },
    {
      "cell_type": "code",
      "source": [
        "#Load data from source dataset files\n",
        "stations = pd.read_pickle('https://github.com/DataAnalyst21/DatasetsForDataAnalytics/blob/main/stations.p?raw=True')\n",
        "cal = pd.read_pickle('https://github.com/DataAnalyst21/DatasetsForDataAnalytics/blob/main/cta_calendar.p?raw=True')\n",
        "ridership = pd.read_pickle('https://github.com/DataAnalyst21/DatasetsForDataAnalytics/blob/main/cta_ridership.p?raw=True')\n",
        "print(cal.head())\n",
        "print(ridership.head())\n",
        "\n",
        "\n",
        "# Merge the ridership and cal tables on year, month, and day\n",
        "ridership_cal = ridership.merge(cal, on=['year', 'month', 'day'])\n",
        "\n",
        "# Merge the ridership_cal and stations tables on station_id\n",
        "ridership_cal_stations = ridership_cal.merge(stations, on='station_id')\n",
        "\n",
        "# Create a filter to filter ridership_cal_stations\n",
        "filter_criteria = ((ridership_cal_stations['month'] == 7)  # July\n",
        "                   & (ridership_cal_stations['day_type'] == 'Weekday')  # Weekdays\n",
        "                   & (ridership_cal_stations['station_name'] == 'Wilson'))  # Wilson station\n",
        "\n",
        "# Use .loc and the filter to select for rides\n",
        "print(ridership_cal_stations.loc[filter_criteria, 'rides'].sum())\n",
        "\n"
      ],
      "metadata": {
        "id": "3rxBYLhzoQRp",
        "colab": {
          "base_uri": "https://localhost:8080/"
        },
        "outputId": "7d47df73-c186-4670-aa1e-8c1e3e4fb181"
      },
      "execution_count": 10,
      "outputs": [
        {
          "output_type": "stream",
          "name": "stdout",
          "text": [
            "   year  month  day        day_type\n",
            "0  2019      1    1  Sunday/Holiday\n",
            "1  2019      1    2         Weekday\n",
            "2  2019      1    3         Weekday\n",
            "3  2019      1    4         Weekday\n",
            "4  2019      1    5        Saturday\n",
            "  station_id  year  month  day  rides\n",
            "0      40010  2019      1    1    576\n",
            "1      40010  2019      1    2   1457\n",
            "2      40010  2019      1    3   1543\n",
            "3      40010  2019      1    4   1621\n",
            "4      40010  2019      1    5    719\n",
            "140005\n"
          ]
        }
      ]
    },
    {
      "cell_type": "markdown",
      "source": [
        "# **Three table merge**\n",
        "\n",
        "To solidify the concept of a three DataFrame merge, practice another exercise. A reasonable extension of our review of Chicago business data would include looking at demographics information about the neighborhoods where the businesses are. A table with the median income by zip code has been provided to you. You will merge the `licenses` and `wards` tables with this new income-by-zip-code table called `zip_demo`.\n",
        "\n",
        "The `licenses` and `wards` are loaded in one of the previous codecells and `zip_demo` DataFrames have been loaded for you in the first line of code in the codecell given below.\n",
        "\n",
        "**Instructions:**\n",
        "* Starting with the `licenses` table, merge to it the `zip_demo` table on the `zip` column. Then merge the resulting table to the `wards` table on the `ward` column. Save result of the three merged tables to a variable named `licenses_zip_ward`.\n",
        "* Group the results of the three merged tables by the column `alderman` and find the median income.\n"
      ],
      "metadata": {
        "id": "kupvCIchsZLx"
      }
    },
    {
      "cell_type": "code",
      "source": [
        "#Load land_use DataFrame from the dataset file\n",
        "zip_demo = pd.read_pickle(\"https://github.com/DataAnalyst21/DatasetsForDataAnalytics/blob/main/zip_demo.p?raw=True\")\n",
        "\n",
        "\n",
        "# Merge the licenses table with zip_demo on zip\n",
        "licenses_zip = licenses.merge(zip_demo, on='zip')\n",
        "\n",
        "# Merge the resulting table with wards on ward\n",
        "licenses_zip_ward = licenses_zip.merge(wards, on='ward')\n",
        "\n",
        "# Print the results by alderman and show median income\n",
        "print(licenses_zip_ward.groupby('alderman').agg({'income':'median'}))\n",
        "\n"
      ],
      "metadata": {
        "id": "g2Cp8aWvtXbL",
        "colab": {
          "base_uri": "https://localhost:8080/"
        },
        "outputId": "a16901c0-42c2-4591-bd82-e42c53bf6443"
      },
      "execution_count": 12,
      "outputs": [
        {
          "output_type": "stream",
          "name": "stdout",
          "text": [
            "                             income\n",
            "alderman                           \n",
            "Ameya Pawar                 66246.0\n",
            "Anthony A. Beale            38206.0\n",
            "Anthony V. Napolitano       82226.0\n",
            "Ariel E. Reyboras           41307.0\n",
            "Brendan Reilly             110215.0\n",
            "Brian Hopkins               87143.0\n",
            "Carlos Ramirez-Rosa         66246.0\n",
            "Carrie M. Austin            38206.0\n",
            "Chris Taliaferro            55566.0\n",
            "Daniel \"Danny\" Solis        41226.0\n",
            "David H. Moore              33304.0\n",
            "Deborah Mell                66246.0\n",
            "Debra L. Silverstein        50554.0\n",
            "Derrick G. Curtis           65770.0\n",
            "Edward M. Burke             42335.0\n",
            "Emma M. Mitts               36283.0\n",
            "George Cardenas             33959.0\n",
            "Gilbert Villegas            41307.0\n",
            "Gregory I. Mitchell         24941.0\n",
            "Harry Osterman              45442.0\n",
            "Howard B. Brookins, Jr.     33304.0\n",
            "James Cappleman             79565.0\n",
            "Jason C. Ervin              41226.0\n",
            "Joe Moore                   39163.0\n",
            "John S. Arena               70122.0\n",
            "Leslie A. Hairston          28024.0\n",
            "Margaret Laurino            70122.0\n",
            "Marty Quinn                 67045.0\n",
            "Matthew J. O'Shea           59488.0\n",
            "Michael R. Zalewski         42335.0\n",
            "Michael Scott, Jr.          31445.0\n",
            "Michelle A. Harris          32558.0\n",
            "Michelle Smith             100116.0\n",
            "Milagros \"Milly\" Santiago   41307.0\n",
            "Nicholas Sposato            62223.0\n",
            "Pat Dowell                  46340.0\n",
            "Patrick Daley Thompson      41226.0\n",
            "Patrick J. O'Connor         50554.0\n",
            "Proco \"Joe\" Moreno          87143.0\n",
            "Raymond A. Lopez            33959.0\n",
            "Ricardo Munoz               31445.0\n",
            "Roberto Maldonado           68223.0\n",
            "Roderick T. Sawyer          32558.0\n",
            "Scott Waguespack            68223.0\n",
            "Susan Sadlowski Garza       38417.0\n",
            "Tom Tunney                  88708.0\n",
            "Toni L. Foulkes             27573.0\n",
            "Walter Burnett, Jr.         87143.0\n",
            "William D. Burns           107811.0\n",
            "Willie B. Cochran           28024.0\n"
          ]
        }
      ]
    },
    {
      "cell_type": "markdown",
      "source": [
        "# **One-to-many merge with multiple tables**\n",
        "\n",
        "In this exercise, assume that you are looking to start a business in the city of Chicago. Your perfect idea is to start a company that uses goats to mow the lawn for other businesses. However, you have to choose a location in the city to put your goat farm. You need a location with a great deal of space and relatively few businesses and people around to avoid complaints about the smell. You will need to merge three tables to help you choose your location. The `land_use` table has info on the percentage of vacant land by city ward. The `census` table has population by ward, and the `licenses` table lists businesses by ward.\n",
        "\n",
        "The `census` and `licenses` tables have been loaded in one of the previous codecells and `land_use` is loaded in the first line of the codecell below.\n",
        "\n",
        "**Instructions:**\n",
        "* Merge `land_use` and `census` on the `ward` column. Merge the result of this with `licenses` on the `ward` column, using the suffix `_cen` for the left table and `_lic` for the right table. Save this to the variable `land_cen_lic`.\n",
        "* Group `land_cen_lic` by `ward`, `pop_2010` (the population in 2010), and `vacant`, then count the number of accounts. Save the results to `pop_vac_lic`.\n",
        "* Sort `pop_vac_lic` by `vacant`, `account`, and `pop_2010` in descending, ascending, and ascending order respectively. Save it as `sorted_pop_vac_lic`.\n"
      ],
      "metadata": {
        "id": "zMo5YXtYtw6K"
      }
    },
    {
      "cell_type": "code",
      "source": [
        "#Load land_use DataFrame from the dataset file\n",
        "land_use = pd.read_pickle(\"https://github.com/DataAnalyst21/DatasetsForDataAnalytics/blob/main/land_use.p?raw=True\")\n",
        "\n",
        "#Exploring the first rows of the dataframes\n",
        "\n",
        "print(land_use.head())\n",
        "print(licenses.head())\n",
        "print(census.head())\n",
        "\n",
        "land_cen_lic = land_use.merge(census, on='ward').merge(licenses, on='ward', suffixes=('_cen', '_lic'))\n",
        "\n",
        "# Group by 'ward', 'pop_2010', and 'vacant', then count the number of 'account' in each group\n",
        "pop_vac_lic = land_cen_lic.groupby(['ward', 'pop_2010', 'vacant'], as_index=False).agg({'account':'count'})\n",
        "\n",
        "# Sort pop_vac_lic by 'vacant' in descending order, 'account' in ascending order, and 'pop_2010' in ascending order\n",
        "sorted_pop_vac_lic = pop_vac_lic.sort_values(['vacant', 'account', 'pop_2010'], ascending=[False, True, True])\n",
        "\n",
        "# Print the top few rows of sorted_pop_vac_lic\n",
        "print(sorted_pop_vac_lic.head())\n",
        "\n",
        "\n"
      ],
      "metadata": {
        "id": "EB6AilFHugdO",
        "outputId": "fa3baeb7-cac5-4f81-aac3-082bd13e8ad9",
        "colab": {
          "base_uri": "https://localhost:8080/"
        }
      },
      "execution_count": 13,
      "outputs": [
        {
          "output_type": "stream",
          "name": "stdout",
          "text": [
            "  ward  residential  commercial  industrial  vacant  other\n",
            "0    1           41           9           2       2     46\n",
            "1    2           31          11           6       2     50\n",
            "2    3           20           5           3      13     59\n",
            "3    4           22          13           0       7     58\n",
            "4    5           25           3           1       3     68\n",
            "  account ward  aid                   business               address    zip\n",
            "0  307071    3  743       REGGIE'S BAR & GRILL       2105 S STATE ST  60616\n",
            "1      10   10  829                 HONEYBEERS   13200 S HOUSTON AVE  60633\n",
            "2   10002   14  775                CELINA DELI     5089 S ARCHER AVE  60632\n",
            "3   10005   12  NaN  KRAFT FOODS NORTH AMERICA        2005 W 43RD ST  60609\n",
            "4   10044   44  638  NEYBOUR'S TAVERN & GRILLE  3651 N SOUTHPORT AVE  60613\n",
            "  ward pop_2000 pop_2010 change                                  address  \\\n",
            "0    1    52951    56149     6%              2765 WEST SAINT MARY STREET   \n",
            "1    2    54361    55805     3%                 WM WASTE MANAGEMENT 1500   \n",
            "2    3    40385    53039    31%                      17 EAST 38TH STREET   \n",
            "3    4    51953    54589     5%  31ST ST HARBOR BUILDING LAKEFRONT TRAIL   \n",
            "4    5    55302    51455    -7%  JACKSON PARK LAGOON SOUTH CORNELL DRIVE   \n",
            "\n",
            "     zip  \n",
            "0  60647  \n",
            "1  60622  \n",
            "2  60653  \n",
            "3  60653  \n",
            "4  60637  \n",
            "   ward pop_2010  vacant  account\n",
            "47    7    51581      19       80\n",
            "12   20    52372      15      123\n",
            "1    10    51535      14      130\n",
            "16   24    54909      13       98\n",
            "7    16    51954      13      156\n"
          ]
        }
      ]
    }
  ]
}